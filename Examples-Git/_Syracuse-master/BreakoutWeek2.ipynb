{
 "cells": [
  {
   "cell_type": "code",
   "execution_count": 7,
   "metadata": {},
   "outputs": [
    {
     "data": {
      "text/html": [
       "<div>\n",
       "<style scoped>\n",
       "    .dataframe tbody tr th:only-of-type {\n",
       "        vertical-align: middle;\n",
       "    }\n",
       "\n",
       "    .dataframe tbody tr th {\n",
       "        vertical-align: top;\n",
       "    }\n",
       "\n",
       "    .dataframe thead th {\n",
       "        text-align: right;\n",
       "    }\n",
       "</style>\n",
       "<table border=\"1\" class=\"dataframe\">\n",
       "  <thead>\n",
       "    <tr style=\"text-align: right;\">\n",
       "      <th></th>\n",
       "      <th>Name</th>\n",
       "      <th>School</th>\n",
       "      <th>Conference</th>\n",
       "      <th>Salary</th>\n",
       "      <th>OtherPay</th>\n",
       "      <th>TotalSalary</th>\n",
       "      <th>MaxBonus</th>\n",
       "    </tr>\n",
       "  </thead>\n",
       "  <tbody>\n",
       "    <tr>\n",
       "      <th>0</th>\n",
       "      <td>Troy Calhoun</td>\n",
       "      <td>Air Force</td>\n",
       "      <td>Mt. West</td>\n",
       "      <td>882000</td>\n",
       "      <td>0</td>\n",
       "      <td>882000</td>\n",
       "      <td>247000.0</td>\n",
       "    </tr>\n",
       "    <tr>\n",
       "      <th>1</th>\n",
       "      <td>Terry Bowden</td>\n",
       "      <td>Akron</td>\n",
       "      <td>MAC</td>\n",
       "      <td>375000</td>\n",
       "      <td>0</td>\n",
       "      <td>375000</td>\n",
       "      <td>90000.0</td>\n",
       "    </tr>\n",
       "    <tr>\n",
       "      <th>2</th>\n",
       "      <td>Nick Saban</td>\n",
       "      <td>Alabama</td>\n",
       "      <td>SEC</td>\n",
       "      <td>5316667</td>\n",
       "      <td>160071</td>\n",
       "      <td>5476738</td>\n",
       "      <td>700000.0</td>\n",
       "    </tr>\n",
       "    <tr>\n",
       "      <th>3</th>\n",
       "      <td>Rich Rodriguez</td>\n",
       "      <td>Arizona</td>\n",
       "      <td>PAC-12</td>\n",
       "      <td>1500000</td>\n",
       "      <td>0</td>\n",
       "      <td>1500000</td>\n",
       "      <td>525000.0</td>\n",
       "    </tr>\n",
       "    <tr>\n",
       "      <th>4</th>\n",
       "      <td>Todd Graham</td>\n",
       "      <td>Arizona State</td>\n",
       "      <td>PAC-12</td>\n",
       "      <td>3000000</td>\n",
       "      <td>0</td>\n",
       "      <td>3000000</td>\n",
       "      <td>2050000.0</td>\n",
       "    </tr>\n",
       "  </tbody>\n",
       "</table>\n",
       "</div>"
      ],
      "text/plain": [
       "             Name         School Conference   Salary  OtherPay  TotalSalary  \\\n",
       "0    Troy Calhoun      Air Force   Mt. West   882000         0       882000   \n",
       "1    Terry Bowden          Akron        MAC   375000         0       375000   \n",
       "2      Nick Saban        Alabama        SEC  5316667    160071      5476738   \n",
       "3  Rich Rodriguez        Arizona     PAC-12  1500000         0      1500000   \n",
       "4     Todd Graham  Arizona State     PAC-12  3000000         0      3000000   \n",
       "\n",
       "    MaxBonus  \n",
       "0   247000.0  \n",
       "1    90000.0  \n",
       "2   700000.0  \n",
       "3   525000.0  \n",
       "4  2050000.0  "
      ]
     },
     "execution_count": 7,
     "metadata": {},
     "output_type": "execute_result"
    }
   ],
   "source": [
    "import pandas as pd\n",
    "#d.set_option('display.max_columns', 100)\n",
    "import numpy as np\n",
    "# print_function for compatibility with Python 3\n",
    "#from __future__ import print_function\n",
    "\n",
    "import numpy as np\n",
    "# Matplotlib for visualization\n",
    "from matplotlib import pyplot as plt\n",
    "# display plots in the notebook\n",
    "%matplotlib inline \n",
    "\n",
    "# Seaborn for easier visualization\n",
    "import seaborn as sns\n",
    "\n",
    "df = pd.read_csv('Coaches2.csv')\n",
    "#df = pd.read_csv('C:\\\\Users\\\\ObsidianQuantitative\\\\Desktop\\\\ADD1.csv')\n",
    "df.head()\n"
   ]
  },
  {
   "cell_type": "code",
   "execution_count": 9,
   "metadata": {},
   "outputs": [],
   "source": [
    "##df = df.fillna(0)\n",
    "##df['Salary'] = df['Salary'].str.replace(',', '')\n",
    "##df.head()\n"
   ]
  },
  {
   "cell_type": "code",
   "execution_count": 10,
   "metadata": {},
   "outputs": [
    {
     "data": {
      "text/html": [
       "<div>\n",
       "<style scoped>\n",
       "    .dataframe tbody tr th:only-of-type {\n",
       "        vertical-align: middle;\n",
       "    }\n",
       "\n",
       "    .dataframe tbody tr th {\n",
       "        vertical-align: top;\n",
       "    }\n",
       "\n",
       "    .dataframe thead th {\n",
       "        text-align: right;\n",
       "    }\n",
       "</style>\n",
       "<table border=\"1\" class=\"dataframe\">\n",
       "  <thead>\n",
       "    <tr style=\"text-align: right;\">\n",
       "      <th></th>\n",
       "      <th>Salary</th>\n",
       "      <th>OtherPay</th>\n",
       "      <th>TotalSalary</th>\n",
       "      <th>MaxBonus</th>\n",
       "    </tr>\n",
       "  </thead>\n",
       "  <tbody>\n",
       "    <tr>\n",
       "      <th>0</th>\n",
       "      <td>882000</td>\n",
       "      <td>0</td>\n",
       "      <td>882000</td>\n",
       "      <td>247000.0</td>\n",
       "    </tr>\n",
       "    <tr>\n",
       "      <th>1</th>\n",
       "      <td>375000</td>\n",
       "      <td>0</td>\n",
       "      <td>375000</td>\n",
       "      <td>90000.0</td>\n",
       "    </tr>\n",
       "    <tr>\n",
       "      <th>2</th>\n",
       "      <td>5316667</td>\n",
       "      <td>160071</td>\n",
       "      <td>5476738</td>\n",
       "      <td>700000.0</td>\n",
       "    </tr>\n",
       "    <tr>\n",
       "      <th>3</th>\n",
       "      <td>1500000</td>\n",
       "      <td>0</td>\n",
       "      <td>1500000</td>\n",
       "      <td>525000.0</td>\n",
       "    </tr>\n",
       "    <tr>\n",
       "      <th>4</th>\n",
       "      <td>3000000</td>\n",
       "      <td>0</td>\n",
       "      <td>3000000</td>\n",
       "      <td>2050000.0</td>\n",
       "    </tr>\n",
       "  </tbody>\n",
       "</table>\n",
       "</div>"
      ],
      "text/plain": [
       "    Salary  OtherPay  TotalSalary   MaxBonus\n",
       "0   882000         0       882000   247000.0\n",
       "1   375000         0       375000    90000.0\n",
       "2  5316667    160071      5476738   700000.0\n",
       "3  1500000         0      1500000   525000.0\n",
       "4  3000000         0      3000000  2050000.0"
      ]
     },
     "execution_count": 10,
     "metadata": {},
     "output_type": "execute_result"
    }
   ],
   "source": [
    "new = df[['Salary', 'OtherPay', 'TotalSalary', 'MaxBonus']]\n",
    "new.head()"
   ]
  },
  {
   "cell_type": "code",
   "execution_count": 11,
   "metadata": {},
   "outputs": [],
   "source": [
    "corr = new.corr()"
   ]
  },
  {
   "cell_type": "code",
   "execution_count": 12,
   "metadata": {},
   "outputs": [
    {
     "data": {
      "text/plain": [
       "Salary         float64\n",
       "OtherPay       float64\n",
       "TotalSalary    float64\n",
       "MaxBonus       float64\n",
       "dtype: object"
      ]
     },
     "execution_count": 12,
     "metadata": {},
     "output_type": "execute_result"
    }
   ],
   "source": [
    "corr.dtypes"
   ]
  },
  {
   "cell_type": "code",
   "execution_count": 15,
   "metadata": {},
   "outputs": [
    {
     "data": {
      "image/png": "[encoded data removed]",
      "text/plain": [
       "<Figure size 432x288 with 2 Axes>"
      ]
     },
     "metadata": {
      "needs_background": "light"
     },
     "output_type": "display_data"
    }
   ],
   "source": [
    "sns.heatmap(corr)\n",
    "plt.show()"
   ]
  },
  {
   "cell_type": "code",
   "execution_count": 16,
   "metadata": {},
   "outputs": [
    {
     "data": {
      "text/html": [
       "<div>\n",
       "<style scoped>\n",
       "    .dataframe tbody tr th:only-of-type {\n",
       "        vertical-align: middle;\n",
       "    }\n",
       "\n",
       "    .dataframe tbody tr th {\n",
       "        vertical-align: top;\n",
       "    }\n",
       "\n",
       "    .dataframe thead th {\n",
       "        text-align: right;\n",
       "    }\n",
       "</style>\n",
       "<table border=\"1\" class=\"dataframe\">\n",
       "  <thead>\n",
       "    <tr style=\"text-align: right;\">\n",
       "      <th></th>\n",
       "      <th>Salary</th>\n",
       "      <th>OtherPay</th>\n",
       "      <th>TotalSalary</th>\n",
       "      <th>MaxBonus</th>\n",
       "    </tr>\n",
       "  </thead>\n",
       "  <tbody>\n",
       "    <tr>\n",
       "      <th>count</th>\n",
       "      <td>7.700000e+01</td>\n",
       "      <td>77.000000</td>\n",
       "      <td>7.700000e+01</td>\n",
       "      <td>7.700000e+01</td>\n",
       "    </tr>\n",
       "    <tr>\n",
       "      <th>mean</th>\n",
       "      <td>1.806057e+06</td>\n",
       "      <td>23087.701299</td>\n",
       "      <td>1.829145e+06</td>\n",
       "      <td>4.546558e+05</td>\n",
       "    </tr>\n",
       "    <tr>\n",
       "      <th>std</th>\n",
       "      <td>1.218092e+06</td>\n",
       "      <td>116213.690929</td>\n",
       "      <td>1.227589e+06</td>\n",
       "      <td>4.203426e+05</td>\n",
       "    </tr>\n",
       "    <tr>\n",
       "      <th>min</th>\n",
       "      <td>3.451250e+05</td>\n",
       "      <td>0.000000</td>\n",
       "      <td>3.511500e+05</td>\n",
       "      <td>0.000000e+00</td>\n",
       "    </tr>\n",
       "    <tr>\n",
       "      <th>25%</th>\n",
       "      <td>6.088460e+05</td>\n",
       "      <td>0.000000</td>\n",
       "      <td>6.127500e+05</td>\n",
       "      <td>1.156250e+05</td>\n",
       "    </tr>\n",
       "    <tr>\n",
       "      <th>50%</th>\n",
       "      <td>1.788523e+06</td>\n",
       "      <td>0.000000</td>\n",
       "      <td>1.934250e+06</td>\n",
       "      <td>3.500000e+05</td>\n",
       "    </tr>\n",
       "    <tr>\n",
       "      <th>75%</th>\n",
       "      <td>2.448605e+06</td>\n",
       "      <td>4000.000000</td>\n",
       "      <td>2.448605e+06</td>\n",
       "      <td>6.916660e+05</td>\n",
       "    </tr>\n",
       "    <tr>\n",
       "      <th>max</th>\n",
       "      <td>5.316667e+06</td>\n",
       "      <td>1000000.000000</td>\n",
       "      <td>5.476738e+06</td>\n",
       "      <td>2.050000e+06</td>\n",
       "    </tr>\n",
       "  </tbody>\n",
       "</table>\n",
       "</div>"
      ],
      "text/plain": [
       "             Salary        OtherPay   TotalSalary      MaxBonus\n",
       "count  7.700000e+01       77.000000  7.700000e+01  7.700000e+01\n",
       "mean   1.806057e+06    23087.701299  1.829145e+06  4.546558e+05\n",
       "std    1.218092e+06   116213.690929  1.227589e+06  4.203426e+05\n",
       "min    3.451250e+05        0.000000  3.511500e+05  0.000000e+00\n",
       "25%    6.088460e+05        0.000000  6.127500e+05  1.156250e+05\n",
       "50%    1.788523e+06        0.000000  1.934250e+06  3.500000e+05\n",
       "75%    2.448605e+06     4000.000000  2.448605e+06  6.916660e+05\n",
       "max    5.316667e+06  1000000.000000  5.476738e+06  2.050000e+06"
      ]
     },
     "execution_count": 16,
     "metadata": {},
     "output_type": "execute_result"
    }
   ],
   "source": [
    "new.describe()"
   ]
  },
  {
   "cell_type": "code",
   "execution_count": null,
   "metadata": {},
   "outputs": [],
   "source": []
  }
 ],
 "metadata": {
  "kernelspec": {
   "display_name": "Python 3",
   "language": "python",
   "name": "python3"
  },
  "language_info": {
   "codemirror_mode": {
    "name": "ipython",
    "version": 3
   },
   "file_extension": ".py",
   "mimetype": "text/x-python",
   "name": "python",
   "nbconvert_exporter": "python",
   "pygments_lexer": "ipython3",
   "version": "3.6.6"
  }
 },
 "nbformat": 4,
 "nbformat_minor": 2
}
