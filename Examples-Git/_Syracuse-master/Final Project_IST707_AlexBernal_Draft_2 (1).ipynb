{
 "cells": [
  {
   "cell_type": "markdown",
   "metadata": {},
   "source": [
    "# IST718 Final Project Alex Bernal"
   ]
  },
  {
   "cell_type": "markdown",
   "metadata": {},
   "source": [
    "* Objectives:\n",
    "    1. Obtain, Clean and Explain Data Structures and elements\n",
    "    2. Scrub Data\n",
    "    3. Explore Data : Descriptive Stats, Summarization, Visualizations\n",
    "    4. Model Relationships\n",
    "    5. Interpret the data,Communicate Results\n",
    "    6. Select \n",
    "* Title Page with Summary of Findings and recommendations\n",
    "* Specification - Specify Problem, hypotheses and data for this analysis\n",
    "* Observation - What can you conclude from your observation and visualiztions?\n",
    "* Analysis - What Types of Analysis did you use. How did you arrive at the models you recommend?\n",
    "* Recommendation?\n",
    "* References\n",
    "* Appendices\n"
   ]
  },
  {
   "cell_type": "markdown",
   "metadata": {},
   "source": [
    "Buisness Problem : Client is a Real Estate Investment Company and part of there business is to try \n",
    "and predict the fair market price of a property before they put it on the market. They currently use\n",
    "a third-pary appraisal company, but the data form them is very subjective and varies greatly from actual \n",
    "transaction prices, some off by 70,000 The Task is to build our own price prediction model with less \n",
    "error than 70,000.\n",
    "* Method to use : Regression\n",
    "    "
   ]
  },
  {
   "cell_type": "code",
   "execution_count": 2,
   "metadata": {},
   "outputs": [
    {
     "name": "stdout",
     "output_type": "stream",
     "text": [
      "Print function ready to serve.\n"
     ]
    }
   ],
   "source": [
    "from __future__ import print_function  # Compatability with Python 3\n",
    "print( 'Print function ready to serve.' )\n",
    "import numpy as np\n",
    "import pandas as pd\n",
    "pd.set_option('display.max_columns', 100)\n",
    "from matplotlib import pyplot as plt\n",
    "%matplotlib inline \n",
    "import seaborn as sns"
   ]
  },
  {
   "cell_type": "markdown",
   "metadata": {},
   "source": [
    "# Import Data, Data Exploration"
   ]
  },
  {
   "cell_type": "code",
   "execution_count": 3,
   "metadata": {},
   "outputs": [
    {
     "data": {
      "text/plain": [
       "(1883, 26)"
      ]
     },
     "execution_count": 3,
     "metadata": {},
     "output_type": "execute_result"
    }
   ],
   "source": [
    "# Load real estate data from CSV\n",
    "df = pd.read_csv('real_estate_data.csv')\n",
    "df.shape"
   ]
  },
  {
   "cell_type": "code",
   "execution_count": 4,
   "metadata": {},
   "outputs": [
    {
     "data": {
      "text/plain": [
       "tx_price                int64\n",
       "beds                    int64\n",
       "baths                   int64\n",
       "sqft                    int64\n",
       "year_built              int64\n",
       "lot_size                int64\n",
       "property_type          object\n",
       "exterior_walls         object\n",
       "roof                   object\n",
       "basement              float64\n",
       "restaurants             int64\n",
       "groceries               int64\n",
       "nightlife               int64\n",
       "cafes                   int64\n",
       "shopping                int64\n",
       "arts_entertainment      int64\n",
       "beauty_spas             int64\n",
       "active_life             int64\n",
       "median_age            float64\n",
       "married               float64\n",
       "college_grad          float64\n",
       "property_tax          float64\n",
       "insurance             float64\n",
       "median_school         float64\n",
       "num_schools           float64\n",
       "tx_year                 int64\n",
       "dtype: object"
      ]
     },
     "execution_count": 4,
     "metadata": {},
     "output_type": "execute_result"
    }
   ],
   "source": [
    "# Column datatypes\n",
    "df.dtypes"
   ]
  },
  {
   "cell_type": "code",
   "execution_count": 5,
   "metadata": {},
   "outputs": [
    {
     "data": {
      "text/html": [
       "<div>\n",
       "<style scoped>\n",
       "    .dataframe tbody tr th:only-of-type {\n",
       "        vertical-align: middle;\n",
       "    }\n",
       "\n",
       "    .dataframe tbody tr th {\n",
       "        vertical-align: top;\n",
       "    }\n",
       "\n",
       "    .dataframe thead th {\n",
       "        text-align: right;\n",
       "    }\n",
       "</style>\n",
       "<table border=\"1\" class=\"dataframe\">\n",
       "  <thead>\n",
       "    <tr style=\"text-align: right;\">\n",
       "      <th></th>\n",
       "      <th>tx_price</th>\n",
       "      <th>beds</th>\n",
       "      <th>baths</th>\n",
       "      <th>sqft</th>\n",
       "      <th>year_built</th>\n",
       "      <th>lot_size</th>\n",
       "      <th>basement</th>\n",
       "      <th>restaurants</th>\n",
       "      <th>groceries</th>\n",
       "      <th>nightlife</th>\n",
       "      <th>cafes</th>\n",
       "      <th>shopping</th>\n",
       "      <th>arts_entertainment</th>\n",
       "      <th>beauty_spas</th>\n",
       "      <th>active_life</th>\n",
       "      <th>median_age</th>\n",
       "      <th>married</th>\n",
       "      <th>college_grad</th>\n",
       "      <th>property_tax</th>\n",
       "      <th>insurance</th>\n",
       "      <th>median_school</th>\n",
       "      <th>num_schools</th>\n",
       "      <th>tx_year</th>\n",
       "    </tr>\n",
       "  </thead>\n",
       "  <tbody>\n",
       "    <tr>\n",
       "      <th>count</th>\n",
       "      <td>1883.000000</td>\n",
       "      <td>1883.000000</td>\n",
       "      <td>1883.000000</td>\n",
       "      <td>1883.000000</td>\n",
       "      <td>1883.000000</td>\n",
       "      <td>1.883000e+03</td>\n",
       "      <td>1657.0</td>\n",
       "      <td>1883.000000</td>\n",
       "      <td>1883.000000</td>\n",
       "      <td>1883.000000</td>\n",
       "      <td>1883.000000</td>\n",
       "      <td>1883.000000</td>\n",
       "      <td>1883.000000</td>\n",
       "      <td>1883.000000</td>\n",
       "      <td>1883.000000</td>\n",
       "      <td>1883.000000</td>\n",
       "      <td>1883.000000</td>\n",
       "      <td>1883.000000</td>\n",
       "      <td>1883.000000</td>\n",
       "      <td>1883.000000</td>\n",
       "      <td>1883.000000</td>\n",
       "      <td>1883.000000</td>\n",
       "      <td>1883.000000</td>\n",
       "    </tr>\n",
       "    <tr>\n",
       "      <th>mean</th>\n",
       "      <td>422839.807754</td>\n",
       "      <td>3.420605</td>\n",
       "      <td>2.579926</td>\n",
       "      <td>2329.398832</td>\n",
       "      <td>1982.963887</td>\n",
       "      <td>1.339262e+04</td>\n",
       "      <td>1.0</td>\n",
       "      <td>40.210303</td>\n",
       "      <td>4.505045</td>\n",
       "      <td>5.074881</td>\n",
       "      <td>5.325013</td>\n",
       "      <td>40.802443</td>\n",
       "      <td>3.394052</td>\n",
       "      <td>23.416888</td>\n",
       "      <td>15.835369</td>\n",
       "      <td>38.601168</td>\n",
       "      <td>69.091875</td>\n",
       "      <td>65.085502</td>\n",
       "      <td>466.777483</td>\n",
       "      <td>140.454063</td>\n",
       "      <td>6.502921</td>\n",
       "      <td>2.793415</td>\n",
       "      <td>2007.111524</td>\n",
       "    </tr>\n",
       "    <tr>\n",
       "      <th>std</th>\n",
       "      <td>151462.593276</td>\n",
       "      <td>1.068554</td>\n",
       "      <td>0.945576</td>\n",
       "      <td>1336.991858</td>\n",
       "      <td>20.295945</td>\n",
       "      <td>4.494930e+04</td>\n",
       "      <td>0.0</td>\n",
       "      <td>46.867012</td>\n",
       "      <td>4.491029</td>\n",
       "      <td>8.464668</td>\n",
       "      <td>7.539309</td>\n",
       "      <td>53.539296</td>\n",
       "      <td>4.699787</td>\n",
       "      <td>25.776916</td>\n",
       "      <td>17.667717</td>\n",
       "      <td>6.634110</td>\n",
       "      <td>19.659767</td>\n",
       "      <td>16.953165</td>\n",
       "      <td>231.656645</td>\n",
       "      <td>72.929765</td>\n",
       "      <td>1.996109</td>\n",
       "      <td>0.505358</td>\n",
       "      <td>5.196898</td>\n",
       "    </tr>\n",
       "    <tr>\n",
       "      <th>min</th>\n",
       "      <td>200000.000000</td>\n",
       "      <td>1.000000</td>\n",
       "      <td>1.000000</td>\n",
       "      <td>500.000000</td>\n",
       "      <td>1880.000000</td>\n",
       "      <td>0.000000e+00</td>\n",
       "      <td>1.0</td>\n",
       "      <td>0.000000</td>\n",
       "      <td>0.000000</td>\n",
       "      <td>0.000000</td>\n",
       "      <td>0.000000</td>\n",
       "      <td>0.000000</td>\n",
       "      <td>0.000000</td>\n",
       "      <td>0.000000</td>\n",
       "      <td>0.000000</td>\n",
       "      <td>22.000000</td>\n",
       "      <td>11.000000</td>\n",
       "      <td>5.000000</td>\n",
       "      <td>88.000000</td>\n",
       "      <td>30.000000</td>\n",
       "      <td>1.000000</td>\n",
       "      <td>1.000000</td>\n",
       "      <td>1993.000000</td>\n",
       "    </tr>\n",
       "    <tr>\n",
       "      <th>25%</th>\n",
       "      <td>300000.000000</td>\n",
       "      <td>3.000000</td>\n",
       "      <td>2.000000</td>\n",
       "      <td>1345.000000</td>\n",
       "      <td>1970.000000</td>\n",
       "      <td>1.542000e+03</td>\n",
       "      <td>1.0</td>\n",
       "      <td>7.000000</td>\n",
       "      <td>1.000000</td>\n",
       "      <td>0.000000</td>\n",
       "      <td>0.000000</td>\n",
       "      <td>6.000000</td>\n",
       "      <td>0.000000</td>\n",
       "      <td>4.000000</td>\n",
       "      <td>4.000000</td>\n",
       "      <td>33.000000</td>\n",
       "      <td>58.000000</td>\n",
       "      <td>54.000000</td>\n",
       "      <td>320.000000</td>\n",
       "      <td>94.000000</td>\n",
       "      <td>5.000000</td>\n",
       "      <td>3.000000</td>\n",
       "      <td>2004.000000</td>\n",
       "    </tr>\n",
       "    <tr>\n",
       "      <th>50%</th>\n",
       "      <td>392000.000000</td>\n",
       "      <td>3.000000</td>\n",
       "      <td>3.000000</td>\n",
       "      <td>1907.000000</td>\n",
       "      <td>1986.000000</td>\n",
       "      <td>6.098000e+03</td>\n",
       "      <td>1.0</td>\n",
       "      <td>23.000000</td>\n",
       "      <td>3.000000</td>\n",
       "      <td>2.000000</td>\n",
       "      <td>3.000000</td>\n",
       "      <td>22.000000</td>\n",
       "      <td>2.000000</td>\n",
       "      <td>15.000000</td>\n",
       "      <td>10.000000</td>\n",
       "      <td>38.000000</td>\n",
       "      <td>73.000000</td>\n",
       "      <td>66.000000</td>\n",
       "      <td>426.000000</td>\n",
       "      <td>125.000000</td>\n",
       "      <td>7.000000</td>\n",
       "      <td>3.000000</td>\n",
       "      <td>2007.000000</td>\n",
       "    </tr>\n",
       "    <tr>\n",
       "      <th>75%</th>\n",
       "      <td>525000.000000</td>\n",
       "      <td>4.000000</td>\n",
       "      <td>3.000000</td>\n",
       "      <td>3005.000000</td>\n",
       "      <td>2000.000000</td>\n",
       "      <td>1.176100e+04</td>\n",
       "      <td>1.0</td>\n",
       "      <td>58.000000</td>\n",
       "      <td>7.000000</td>\n",
       "      <td>6.000000</td>\n",
       "      <td>6.000000</td>\n",
       "      <td>51.000000</td>\n",
       "      <td>5.000000</td>\n",
       "      <td>35.000000</td>\n",
       "      <td>21.000000</td>\n",
       "      <td>43.000000</td>\n",
       "      <td>84.000000</td>\n",
       "      <td>78.000000</td>\n",
       "      <td>569.000000</td>\n",
       "      <td>169.000000</td>\n",
       "      <td>8.000000</td>\n",
       "      <td>3.000000</td>\n",
       "      <td>2011.000000</td>\n",
       "    </tr>\n",
       "    <tr>\n",
       "      <th>max</th>\n",
       "      <td>800000.000000</td>\n",
       "      <td>5.000000</td>\n",
       "      <td>6.000000</td>\n",
       "      <td>8450.000000</td>\n",
       "      <td>2015.000000</td>\n",
       "      <td>1.220551e+06</td>\n",
       "      <td>1.0</td>\n",
       "      <td>266.000000</td>\n",
       "      <td>24.000000</td>\n",
       "      <td>54.000000</td>\n",
       "      <td>47.000000</td>\n",
       "      <td>340.000000</td>\n",
       "      <td>35.000000</td>\n",
       "      <td>177.000000</td>\n",
       "      <td>94.000000</td>\n",
       "      <td>69.000000</td>\n",
       "      <td>100.000000</td>\n",
       "      <td>100.000000</td>\n",
       "      <td>4508.000000</td>\n",
       "      <td>1374.000000</td>\n",
       "      <td>10.000000</td>\n",
       "      <td>4.000000</td>\n",
       "      <td>2016.000000</td>\n",
       "    </tr>\n",
       "  </tbody>\n",
       "</table>\n",
       "</div>"
      ],
      "text/plain": [
       "            tx_price         beds        baths         sqft   year_built  \\\n",
       "count    1883.000000  1883.000000  1883.000000  1883.000000  1883.000000   \n",
       "mean   422839.807754     3.420605     2.579926  2329.398832  1982.963887   \n",
       "std    151462.593276     1.068554     0.945576  1336.991858    20.295945   \n",
       "min    200000.000000     1.000000     1.000000   500.000000  1880.000000   \n",
       "25%    300000.000000     3.000000     2.000000  1345.000000  1970.000000   \n",
       "50%    392000.000000     3.000000     3.000000  1907.000000  1986.000000   \n",
       "75%    525000.000000     4.000000     3.000000  3005.000000  2000.000000   \n",
       "max    800000.000000     5.000000     6.000000  8450.000000  2015.000000   \n",
       "\n",
       "           lot_size  basement  restaurants    groceries    nightlife  \\\n",
       "count  1.883000e+03    1657.0  1883.000000  1883.000000  1883.000000   \n",
       "mean   1.339262e+04       1.0    40.210303     4.505045     5.074881   \n",
       "std    4.494930e+04       0.0    46.867012     4.491029     8.464668   \n",
       "min    0.000000e+00       1.0     0.000000     0.000000     0.000000   \n",
       "25%    1.542000e+03       1.0     7.000000     1.000000     0.000000   \n",
       "50%    6.098000e+03       1.0    23.000000     3.000000     2.000000   \n",
       "75%    1.176100e+04       1.0    58.000000     7.000000     6.000000   \n",
       "max    1.220551e+06       1.0   266.000000    24.000000    54.000000   \n",
       "\n",
       "             cafes     shopping  arts_entertainment  beauty_spas  active_life  \\\n",
       "count  1883.000000  1883.000000         1883.000000  1883.000000  1883.000000   \n",
       "mean      5.325013    40.802443            3.394052    23.416888    15.835369   \n",
       "std       7.539309    53.539296            4.699787    25.776916    17.667717   \n",
       "min       0.000000     0.000000            0.000000     0.000000     0.000000   \n",
       "25%       0.000000     6.000000            0.000000     4.000000     4.000000   \n",
       "50%       3.000000    22.000000            2.000000    15.000000    10.000000   \n",
       "75%       6.000000    51.000000            5.000000    35.000000    21.000000   \n",
       "max      47.000000   340.000000           35.000000   177.000000    94.000000   \n",
       "\n",
       "        median_age      married  college_grad  property_tax    insurance  \\\n",
       "count  1883.000000  1883.000000   1883.000000   1883.000000  1883.000000   \n",
       "mean     38.601168    69.091875     65.085502    466.777483   140.454063   \n",
       "std       6.634110    19.659767     16.953165    231.656645    72.929765   \n",
       "min      22.000000    11.000000      5.000000     88.000000    30.000000   \n",
       "25%      33.000000    58.000000     54.000000    320.000000    94.000000   \n",
       "50%      38.000000    73.000000     66.000000    426.000000   125.000000   \n",
       "75%      43.000000    84.000000     78.000000    569.000000   169.000000   \n",
       "max      69.000000   100.000000    100.000000   4508.000000  1374.000000   \n",
       "\n",
       "       median_school  num_schools      tx_year  \n",
       "count    1883.000000  1883.000000  1883.000000  \n",
       "mean        6.502921     2.793415  2007.111524  \n",
       "std         1.996109     0.505358     5.196898  \n",
       "min         1.000000     1.000000  1993.000000  \n",
       "25%         5.000000     3.000000  2004.000000  \n",
       "50%         7.000000     3.000000  2007.000000  \n",
       "75%         8.000000     3.000000  2011.000000  \n",
       "max        10.000000     4.000000  2016.000000  "
      ]
     },
     "execution_count": 5,
     "metadata": {},
     "output_type": "execute_result"
    }
   ],
   "source": [
    "# Display first 5 rows of df\n",
    "df.describe()"
   ]
  },
  {
   "cell_type": "markdown",
   "metadata": {},
   "source": [
    "# Distributions"
   ]
  },
  {
   "cell_type": "code",
   "execution_count": 6,
   "metadata": {},
   "outputs": [
    {
     "data": {
      "image/png": "[encoded data removed]",
      "text/plain": [
       "<Figure size 1008x1008 with 25 Axes>"
      ]
     },
     "metadata": {
      "needs_background": "light"
     },
     "output_type": "display_data"
    }
   ],
   "source": [
    "# Plot histogram grid\n",
    "df.hist(figsize=(14,14), xrot=-45)\n",
    "\n",
    "# Clear the text \"residue\"\n",
    "plt.show()"
   ]
  },
  {
   "cell_type": "markdown",
   "metadata": {},
   "source": [
    "# Categories"
   ]
  },
  {
   "cell_type": "code",
   "execution_count": 7,
   "metadata": {},
   "outputs": [
    {
     "data": {
      "text/html": [
       "<div>\n",
       "<style scoped>\n",
       "    .dataframe tbody tr th:only-of-type {\n",
       "        vertical-align: middle;\n",
       "    }\n",
       "\n",
       "    .dataframe tbody tr th {\n",
       "        vertical-align: top;\n",
       "    }\n",
       "\n",
       "    .dataframe thead th {\n",
       "        text-align: right;\n",
       "    }\n",
       "</style>\n",
       "<table border=\"1\" class=\"dataframe\">\n",
       "  <thead>\n",
       "    <tr style=\"text-align: right;\">\n",
       "      <th></th>\n",
       "      <th>property_type</th>\n",
       "      <th>exterior_walls</th>\n",
       "      <th>roof</th>\n",
       "    </tr>\n",
       "  </thead>\n",
       "  <tbody>\n",
       "    <tr>\n",
       "      <th>count</th>\n",
       "      <td>1883</td>\n",
       "      <td>1660</td>\n",
       "      <td>1529</td>\n",
       "    </tr>\n",
       "    <tr>\n",
       "      <th>unique</th>\n",
       "      <td>2</td>\n",
       "      <td>16</td>\n",
       "      <td>16</td>\n",
       "    </tr>\n",
       "    <tr>\n",
       "      <th>top</th>\n",
       "      <td>Single-Family</td>\n",
       "      <td>Brick</td>\n",
       "      <td>Composition Shingle</td>\n",
       "    </tr>\n",
       "    <tr>\n",
       "      <th>freq</th>\n",
       "      <td>1080</td>\n",
       "      <td>687</td>\n",
       "      <td>1179</td>\n",
       "    </tr>\n",
       "  </tbody>\n",
       "</table>\n",
       "</div>"
      ],
      "text/plain": [
       "        property_type exterior_walls                 roof\n",
       "count            1883           1660                 1529\n",
       "unique              2             16                   16\n",
       "top     Single-Family          Brick  Composition Shingle\n",
       "freq             1080            687                 1179"
      ]
     },
     "execution_count": 7,
     "metadata": {},
     "output_type": "execute_result"
    }
   ],
   "source": [
    "# Summarize categorical features\n",
    "df.describe(include=['object'])"
   ]
  },
  {
   "cell_type": "code",
   "execution_count": 8,
   "metadata": {},
   "outputs": [
    {
     "data": {
      "image/png": "[encoded data removed]",
      "text/plain": [
       "<Figure size 432x288 with 1 Axes>"
      ]
     },
     "metadata": {
      "needs_background": "light"
     },
     "output_type": "display_data"
    },
    {
     "data": {
      "image/png": "[encoded data removed]",
      "text/plain": [
       "<Figure size 432x288 with 1 Axes>"
      ]
     },
     "metadata": {
      "needs_background": "light"
     },
     "output_type": "display_data"
    },
    {
     "data": {
      "image/png": "[encoded data removed]",
      "text/plain": [
       "<Figure size 432x288 with 1 Axes>"
      ]
     },
     "metadata": {
      "needs_background": "light"
     },
     "output_type": "display_data"
    }
   ],
   "source": [
    "# Plot bar plot for each categorical feature\n",
    "for feature in df.dtypes[df.dtypes == 'object'].index:\n",
    "    sns.countplot(y=feature, data=df)\n",
    "    plt.show()"
   ]
  },
  {
   "cell_type": "markdown",
   "metadata": {},
   "source": [
    "# Segmentations"
   ]
  },
  {
   "cell_type": "code",
   "execution_count": 9,
   "metadata": {},
   "outputs": [
    {
     "data": {
      "text/plain": [
       "<matplotlib.axes._subplots.AxesSubplot at 0x7f6e5a1f06a0>"
      ]
     },
     "execution_count": 9,
     "metadata": {},
     "output_type": "execute_result"
    },
    {
     "data": {
      "image/png": "[encoded data removed]",
      "text/plain": [
       "<Figure size 432x288 with 1 Axes>"
      ]
     },
     "metadata": {
      "needs_background": "light"
     },
     "output_type": "display_data"
    }
   ],
   "source": [
    "# Segment tx_price by property_type and plot distributions\n",
    "sns.boxplot(y='property_type', x='tx_price', data=df)"
   ]
  },
  {
   "cell_type": "code",
   "execution_count": 10,
   "metadata": {},
   "outputs": [
    {
     "data": {
      "text/html": [
       "<div>\n",
       "<style scoped>\n",
       "    .dataframe tbody tr th:only-of-type {\n",
       "        vertical-align: middle;\n",
       "    }\n",
       "\n",
       "    .dataframe tbody tr th {\n",
       "        vertical-align: top;\n",
       "    }\n",
       "\n",
       "    .dataframe thead th {\n",
       "        text-align: right;\n",
       "    }\n",
       "</style>\n",
       "<table border=\"1\" class=\"dataframe\">\n",
       "  <thead>\n",
       "    <tr style=\"text-align: right;\">\n",
       "      <th></th>\n",
       "      <th>tx_price</th>\n",
       "      <th>beds</th>\n",
       "      <th>baths</th>\n",
       "      <th>sqft</th>\n",
       "      <th>year_built</th>\n",
       "      <th>lot_size</th>\n",
       "      <th>basement</th>\n",
       "      <th>restaurants</th>\n",
       "      <th>groceries</th>\n",
       "      <th>nightlife</th>\n",
       "      <th>cafes</th>\n",
       "      <th>shopping</th>\n",
       "      <th>arts_entertainment</th>\n",
       "      <th>beauty_spas</th>\n",
       "      <th>active_life</th>\n",
       "      <th>median_age</th>\n",
       "      <th>married</th>\n",
       "      <th>college_grad</th>\n",
       "      <th>property_tax</th>\n",
       "      <th>insurance</th>\n",
       "      <th>median_school</th>\n",
       "      <th>num_schools</th>\n",
       "      <th>tx_year</th>\n",
       "    </tr>\n",
       "    <tr>\n",
       "      <th>property_type</th>\n",
       "      <th></th>\n",
       "      <th></th>\n",
       "      <th></th>\n",
       "      <th></th>\n",
       "      <th></th>\n",
       "      <th></th>\n",
       "      <th></th>\n",
       "      <th></th>\n",
       "      <th></th>\n",
       "      <th></th>\n",
       "      <th></th>\n",
       "      <th></th>\n",
       "      <th></th>\n",
       "      <th></th>\n",
       "      <th></th>\n",
       "      <th></th>\n",
       "      <th></th>\n",
       "      <th></th>\n",
       "      <th></th>\n",
       "      <th></th>\n",
       "      <th></th>\n",
       "      <th></th>\n",
       "      <th></th>\n",
       "    </tr>\n",
       "  </thead>\n",
       "  <tbody>\n",
       "    <tr>\n",
       "      <th>Apartment / Condo / Townhouse</th>\n",
       "      <td>366614.034869</td>\n",
       "      <td>2.601494</td>\n",
       "      <td>2.200498</td>\n",
       "      <td>1513.727273</td>\n",
       "      <td>1988.936488</td>\n",
       "      <td>3944.239103</td>\n",
       "      <td>1.0</td>\n",
       "      <td>58.418431</td>\n",
       "      <td>5.919054</td>\n",
       "      <td>7.855542</td>\n",
       "      <td>8.037360</td>\n",
       "      <td>57.631382</td>\n",
       "      <td>4.840598</td>\n",
       "      <td>32.087173</td>\n",
       "      <td>22.410959</td>\n",
       "      <td>37.199253</td>\n",
       "      <td>57.534247</td>\n",
       "      <td>66.372354</td>\n",
       "      <td>346.261519</td>\n",
       "      <td>105.652553</td>\n",
       "      <td>6.382316</td>\n",
       "      <td>2.831880</td>\n",
       "      <td>2007.941469</td>\n",
       "    </tr>\n",
       "    <tr>\n",
       "      <th>Single-Family</th>\n",
       "      <td>464644.711111</td>\n",
       "      <td>4.029630</td>\n",
       "      <td>2.862037</td>\n",
       "      <td>2935.865741</td>\n",
       "      <td>1978.523148</td>\n",
       "      <td>20417.666667</td>\n",
       "      <td>1.0</td>\n",
       "      <td>26.672222</td>\n",
       "      <td>3.453704</td>\n",
       "      <td>3.007407</td>\n",
       "      <td>3.308333</td>\n",
       "      <td>28.289815</td>\n",
       "      <td>2.318519</td>\n",
       "      <td>16.970370</td>\n",
       "      <td>10.946296</td>\n",
       "      <td>39.643519</td>\n",
       "      <td>77.685185</td>\n",
       "      <td>64.128704</td>\n",
       "      <td>556.383333</td>\n",
       "      <td>166.329630</td>\n",
       "      <td>6.592593</td>\n",
       "      <td>2.764815</td>\n",
       "      <td>2006.494444</td>\n",
       "    </tr>\n",
       "  </tbody>\n",
       "</table>\n",
       "</div>"
      ],
      "text/plain": [
       "                                    tx_price      beds     baths         sqft  \\\n",
       "property_type                                                                   \n",
       "Apartment / Condo / Townhouse  366614.034869  2.601494  2.200498  1513.727273   \n",
       "Single-Family                  464644.711111  4.029630  2.862037  2935.865741   \n",
       "\n",
       "                                year_built      lot_size  basement  \\\n",
       "property_type                                                        \n",
       "Apartment / Condo / Townhouse  1988.936488   3944.239103       1.0   \n",
       "Single-Family                  1978.523148  20417.666667       1.0   \n",
       "\n",
       "                               restaurants  groceries  nightlife     cafes  \\\n",
       "property_type                                                                \n",
       "Apartment / Condo / Townhouse    58.418431   5.919054   7.855542  8.037360   \n",
       "Single-Family                    26.672222   3.453704   3.007407  3.308333   \n",
       "\n",
       "                                shopping  arts_entertainment  beauty_spas  \\\n",
       "property_type                                                               \n",
       "Apartment / Condo / Townhouse  57.631382            4.840598    32.087173   \n",
       "Single-Family                  28.289815            2.318519    16.970370   \n",
       "\n",
       "                               active_life  median_age    married  \\\n",
       "property_type                                                       \n",
       "Apartment / Condo / Townhouse    22.410959   37.199253  57.534247   \n",
       "Single-Family                    10.946296   39.643519  77.685185   \n",
       "\n",
       "                               college_grad  property_tax   insurance  \\\n",
       "property_type                                                           \n",
       "Apartment / Condo / Townhouse     66.372354    346.261519  105.652553   \n",
       "Single-Family                     64.128704    556.383333  166.329630   \n",
       "\n",
       "                               median_school  num_schools      tx_year  \n",
       "property_type                                                           \n",
       "Apartment / Condo / Townhouse       6.382316     2.831880  2007.941469  \n",
       "Single-Family                       6.592593     2.764815  2006.494444  "
      ]
     },
     "execution_count": 10,
     "metadata": {},
     "output_type": "execute_result"
    }
   ],
   "source": [
    "# Segment by property_type and display the average means within each class\n",
    "df.groupby('property_type').mean()"
   ]
  },
  {
   "cell_type": "code",
   "execution_count": 11,
   "metadata": {},
   "outputs": [
    {
     "data": {
      "text/plain": [
       "<matplotlib.axes._subplots.AxesSubplot at 0x7f6e5c528320>"
      ]
     },
     "execution_count": 11,
     "metadata": {},
     "output_type": "execute_result"
    },
    {
     "data": {
      "image/png": "[encoded data removed]",
      "text/plain": [
       "<Figure size 432x288 with 1 Axes>"
      ]
     },
     "metadata": {
      "needs_background": "light"
     },
     "output_type": "display_data"
    }
   ],
   "source": [
    "# Segment sqft by sqft and property_type distributions\n",
    "sns.boxplot(y='property_type', x='sqft', data=df)"
   ]
  },
  {
   "cell_type": "markdown",
   "metadata": {},
   "source": [
    "* single family homes have bigger footprints on average\n",
    "* the variance in size also larger in single-family homes\n",
    "* This makes sense that prices also have the same distribution differences"
   ]
  },
  {
   "cell_type": "code",
   "execution_count": 12,
   "metadata": {},
   "outputs": [
    {
     "data": {
      "text/html": [
       "<div>\n",
       "<style scoped>\n",
       "    .dataframe tbody tr th:only-of-type {\n",
       "        vertical-align: middle;\n",
       "    }\n",
       "\n",
       "    .dataframe tbody tr th {\n",
       "        vertical-align: top;\n",
       "    }\n",
       "\n",
       "    .dataframe thead tr th {\n",
       "        text-align: left;\n",
       "    }\n",
       "\n",
       "    .dataframe thead tr:last-of-type th {\n",
       "        text-align: right;\n",
       "    }\n",
       "</style>\n",
       "<table border=\"1\" class=\"dataframe\">\n",
       "  <thead>\n",
       "    <tr>\n",
       "      <th></th>\n",
       "      <th colspan=\"2\" halign=\"left\">tx_price</th>\n",
       "      <th colspan=\"2\" halign=\"left\">beds</th>\n",
       "      <th colspan=\"2\" halign=\"left\">baths</th>\n",
       "      <th colspan=\"2\" halign=\"left\">sqft</th>\n",
       "      <th colspan=\"2\" halign=\"left\">year_built</th>\n",
       "      <th colspan=\"2\" halign=\"left\">lot_size</th>\n",
       "      <th colspan=\"2\" halign=\"left\">basement</th>\n",
       "      <th colspan=\"2\" halign=\"left\">restaurants</th>\n",
       "      <th colspan=\"2\" halign=\"left\">groceries</th>\n",
       "      <th colspan=\"2\" halign=\"left\">nightlife</th>\n",
       "      <th colspan=\"2\" halign=\"left\">cafes</th>\n",
       "      <th colspan=\"2\" halign=\"left\">shopping</th>\n",
       "      <th colspan=\"2\" halign=\"left\">arts_entertainment</th>\n",
       "      <th colspan=\"2\" halign=\"left\">beauty_spas</th>\n",
       "      <th colspan=\"2\" halign=\"left\">active_life</th>\n",
       "      <th colspan=\"2\" halign=\"left\">median_age</th>\n",
       "      <th colspan=\"2\" halign=\"left\">married</th>\n",
       "      <th colspan=\"2\" halign=\"left\">college_grad</th>\n",
       "      <th colspan=\"2\" halign=\"left\">property_tax</th>\n",
       "      <th colspan=\"2\" halign=\"left\">insurance</th>\n",
       "      <th colspan=\"2\" halign=\"left\">median_school</th>\n",
       "      <th colspan=\"2\" halign=\"left\">num_schools</th>\n",
       "      <th colspan=\"2\" halign=\"left\">tx_year</th>\n",
       "    </tr>\n",
       "    <tr>\n",
       "      <th></th>\n",
       "      <th>mean</th>\n",
       "      <th>std</th>\n",
       "      <th>mean</th>\n",
       "      <th>std</th>\n",
       "      <th>mean</th>\n",
       "      <th>std</th>\n",
       "      <th>mean</th>\n",
       "      <th>std</th>\n",
       "      <th>mean</th>\n",
       "      <th>std</th>\n",
       "      <th>mean</th>\n",
       "      <th>std</th>\n",
       "      <th>mean</th>\n",
       "      <th>std</th>\n",
       "      <th>mean</th>\n",
       "      <th>std</th>\n",
       "      <th>mean</th>\n",
       "      <th>std</th>\n",
       "      <th>mean</th>\n",
       "      <th>std</th>\n",
       "      <th>mean</th>\n",
       "      <th>std</th>\n",
       "      <th>mean</th>\n",
       "      <th>std</th>\n",
       "      <th>mean</th>\n",
       "      <th>std</th>\n",
       "      <th>mean</th>\n",
       "      <th>std</th>\n",
       "      <th>mean</th>\n",
       "      <th>std</th>\n",
       "      <th>mean</th>\n",
       "      <th>std</th>\n",
       "      <th>mean</th>\n",
       "      <th>std</th>\n",
       "      <th>mean</th>\n",
       "      <th>std</th>\n",
       "      <th>mean</th>\n",
       "      <th>std</th>\n",
       "      <th>mean</th>\n",
       "      <th>std</th>\n",
       "      <th>mean</th>\n",
       "      <th>std</th>\n",
       "      <th>mean</th>\n",
       "      <th>std</th>\n",
       "      <th>mean</th>\n",
       "      <th>std</th>\n",
       "    </tr>\n",
       "    <tr>\n",
       "      <th>property_type</th>\n",
       "      <th></th>\n",
       "      <th></th>\n",
       "      <th></th>\n",
       "      <th></th>\n",
       "      <th></th>\n",
       "      <th></th>\n",
       "      <th></th>\n",
       "      <th></th>\n",
       "      <th></th>\n",
       "      <th></th>\n",
       "      <th></th>\n",
       "      <th></th>\n",
       "      <th></th>\n",
       "      <th></th>\n",
       "      <th></th>\n",
       "      <th></th>\n",
       "      <th></th>\n",
       "      <th></th>\n",
       "      <th></th>\n",
       "      <th></th>\n",
       "      <th></th>\n",
       "      <th></th>\n",
       "      <th></th>\n",
       "      <th></th>\n",
       "      <th></th>\n",
       "      <th></th>\n",
       "      <th></th>\n",
       "      <th></th>\n",
       "      <th></th>\n",
       "      <th></th>\n",
       "      <th></th>\n",
       "      <th></th>\n",
       "      <th></th>\n",
       "      <th></th>\n",
       "      <th></th>\n",
       "      <th></th>\n",
       "      <th></th>\n",
       "      <th></th>\n",
       "      <th></th>\n",
       "      <th></th>\n",
       "      <th></th>\n",
       "      <th></th>\n",
       "      <th></th>\n",
       "      <th></th>\n",
       "      <th></th>\n",
       "      <th></th>\n",
       "    </tr>\n",
       "  </thead>\n",
       "  <tbody>\n",
       "    <tr>\n",
       "      <th>Apartment / Condo / Townhouse</th>\n",
       "      <td>366614.034869</td>\n",
       "      <td>121784.490486</td>\n",
       "      <td>2.601494</td>\n",
       "      <td>0.810220</td>\n",
       "      <td>2.200498</td>\n",
       "      <td>0.815009</td>\n",
       "      <td>1513.727273</td>\n",
       "      <td>556.286650</td>\n",
       "      <td>1988.936488</td>\n",
       "      <td>15.513640</td>\n",
       "      <td>3944.239103</td>\n",
       "      <td>44284.168767</td>\n",
       "      <td>1.0</td>\n",
       "      <td>0.0</td>\n",
       "      <td>58.418431</td>\n",
       "      <td>54.343594</td>\n",
       "      <td>5.919054</td>\n",
       "      <td>4.645774</td>\n",
       "      <td>7.855542</td>\n",
       "      <td>10.643816</td>\n",
       "      <td>8.037360</td>\n",
       "      <td>9.077038</td>\n",
       "      <td>57.631382</td>\n",
       "      <td>61.852299</td>\n",
       "      <td>4.840598</td>\n",
       "      <td>5.234834</td>\n",
       "      <td>32.087173</td>\n",
       "      <td>26.910443</td>\n",
       "      <td>22.410959</td>\n",
       "      <td>21.058178</td>\n",
       "      <td>37.199253</td>\n",
       "      <td>6.906584</td>\n",
       "      <td>57.534247</td>\n",
       "      <td>20.372706</td>\n",
       "      <td>66.372354</td>\n",
       "      <td>17.095874</td>\n",
       "      <td>346.261519</td>\n",
       "      <td>142.292282</td>\n",
       "      <td>105.652553</td>\n",
       "      <td>47.118015</td>\n",
       "      <td>6.382316</td>\n",
       "      <td>1.941998</td>\n",
       "      <td>2.831880</td>\n",
       "      <td>0.455370</td>\n",
       "      <td>2007.941469</td>\n",
       "      <td>4.099487</td>\n",
       "    </tr>\n",
       "    <tr>\n",
       "      <th>Single-Family</th>\n",
       "      <td>464644.711111</td>\n",
       "      <td>157758.739013</td>\n",
       "      <td>4.029630</td>\n",
       "      <td>0.795639</td>\n",
       "      <td>2.862037</td>\n",
       "      <td>0.937551</td>\n",
       "      <td>2935.865741</td>\n",
       "      <td>1422.871169</td>\n",
       "      <td>1978.523148</td>\n",
       "      <td>22.210582</td>\n",
       "      <td>20417.666667</td>\n",
       "      <td>44165.529302</td>\n",
       "      <td>1.0</td>\n",
       "      <td>0.0</td>\n",
       "      <td>26.672222</td>\n",
       "      <td>34.726416</td>\n",
       "      <td>3.453704</td>\n",
       "      <td>4.067285</td>\n",
       "      <td>3.007407</td>\n",
       "      <td>5.543822</td>\n",
       "      <td>3.308333</td>\n",
       "      <td>5.325053</td>\n",
       "      <td>28.289815</td>\n",
       "      <td>42.292313</td>\n",
       "      <td>2.318519</td>\n",
       "      <td>3.929691</td>\n",
       "      <td>16.970370</td>\n",
       "      <td>22.872112</td>\n",
       "      <td>10.946296</td>\n",
       "      <td>12.599296</td>\n",
       "      <td>39.643519</td>\n",
       "      <td>6.225732</td>\n",
       "      <td>77.685185</td>\n",
       "      <td>13.868205</td>\n",
       "      <td>64.128704</td>\n",
       "      <td>16.790347</td>\n",
       "      <td>556.383333</td>\n",
       "      <td>244.351559</td>\n",
       "      <td>166.329630</td>\n",
       "      <td>77.816022</td>\n",
       "      <td>6.592593</td>\n",
       "      <td>2.031663</td>\n",
       "      <td>2.764815</td>\n",
       "      <td>0.537959</td>\n",
       "      <td>2006.494444</td>\n",
       "      <td>5.807059</td>\n",
       "    </tr>\n",
       "  </tbody>\n",
       "</table>\n",
       "</div>"
      ],
      "text/plain": [
       "                                    tx_price                     beds  \\\n",
       "                                        mean            std      mean   \n",
       "property_type                                                           \n",
       "Apartment / Condo / Townhouse  366614.034869  121784.490486  2.601494   \n",
       "Single-Family                  464644.711111  157758.739013  4.029630   \n",
       "\n",
       "                                            baths                   sqft  \\\n",
       "                                    std      mean       std         mean   \n",
       "property_type                                                              \n",
       "Apartment / Condo / Townhouse  0.810220  2.200498  0.815009  1513.727273   \n",
       "Single-Family                  0.795639  2.862037  0.937551  2935.865741   \n",
       "\n",
       "                                             year_built             \\\n",
       "                                       std         mean        std   \n",
       "property_type                                                        \n",
       "Apartment / Condo / Townhouse   556.286650  1988.936488  15.513640   \n",
       "Single-Family                  1422.871169  1978.523148  22.210582   \n",
       "\n",
       "                                   lot_size               basement       \\\n",
       "                                       mean           std     mean  std   \n",
       "property_type                                                             \n",
       "Apartment / Condo / Townhouse   3944.239103  44284.168767      1.0  0.0   \n",
       "Single-Family                  20417.666667  44165.529302      1.0  0.0   \n",
       "\n",
       "                              restaurants            groceries            \\\n",
       "                                     mean        std      mean       std   \n",
       "property_type                                                              \n",
       "Apartment / Condo / Townhouse   58.418431  54.343594  5.919054  4.645774   \n",
       "Single-Family                   26.672222  34.726416  3.453704  4.067285   \n",
       "\n",
       "                              nightlife                cafes            \\\n",
       "                                   mean        std      mean       std   \n",
       "property_type                                                            \n",
       "Apartment / Condo / Townhouse  7.855542  10.643816  8.037360  9.077038   \n",
       "Single-Family                  3.007407   5.543822  3.308333  5.325053   \n",
       "\n",
       "                                shopping            arts_entertainment  \\\n",
       "                                    mean        std               mean   \n",
       "property_type                                                            \n",
       "Apartment / Condo / Townhouse  57.631382  61.852299           4.840598   \n",
       "Single-Family                  28.289815  42.292313           2.318519   \n",
       "\n",
       "                                        beauty_spas            active_life  \\\n",
       "                                    std        mean        std        mean   \n",
       "property_type                                                                \n",
       "Apartment / Condo / Townhouse  5.234834   32.087173  26.910443   22.410959   \n",
       "Single-Family                  3.929691   16.970370  22.872112   10.946296   \n",
       "\n",
       "                                         median_age              married  \\\n",
       "                                     std       mean       std       mean   \n",
       "property_type                                                              \n",
       "Apartment / Condo / Townhouse  21.058178  37.199253  6.906584  57.534247   \n",
       "Single-Family                  12.599296  39.643519  6.225732  77.685185   \n",
       "\n",
       "                                         college_grad            property_tax  \\\n",
       "                                     std         mean        std         mean   \n",
       "property_type                                                                   \n",
       "Apartment / Condo / Townhouse  20.372706    66.372354  17.095874   346.261519   \n",
       "Single-Family                  13.868205    64.128704  16.790347   556.383333   \n",
       "\n",
       "                                            insurance             \\\n",
       "                                      std        mean        std   \n",
       "property_type                                                      \n",
       "Apartment / Condo / Townhouse  142.292282  105.652553  47.118015   \n",
       "Single-Family                  244.351559  166.329630  77.816022   \n",
       "\n",
       "                              median_school           num_schools            \\\n",
       "                                       mean       std        mean       std   \n",
       "property_type                                                                 \n",
       "Apartment / Condo / Townhouse      6.382316  1.941998    2.831880  0.455370   \n",
       "Single-Family                      6.592593  2.031663    2.764815  0.537959   \n",
       "\n",
       "                                   tx_year            \n",
       "                                      mean       std  \n",
       "property_type                                         \n",
       "Apartment / Condo / Townhouse  2007.941469  4.099487  \n",
       "Single-Family                  2006.494444  5.807059  "
      ]
     },
     "execution_count": 12,
     "metadata": {},
     "output_type": "execute_result"
    }
   ],
   "source": [
    "# Segment by property_type and display the means and standard deviations within each class\n",
    "df.groupby('property_type').agg(['mean', 'std'])"
   ]
  },
  {
   "cell_type": "markdown",
   "metadata": {},
   "source": [
    "# Correlations"
   ]
  },
  {
   "cell_type": "code",
   "execution_count": 13,
   "metadata": {},
   "outputs": [
    {
     "data": {
      "text/plain": [
       "<matplotlib.axes._subplots.AxesSubplot at 0x7f6e5976ca20>"
      ]
     },
     "execution_count": 13,
     "metadata": {},
     "output_type": "execute_result"
    },
    {
     "data": {
      "image/png": "[encoded data removed]",
      "text/plain": [
       "<Figure size 720x576 with 2 Axes>"
      ]
     },
     "metadata": {},
     "output_type": "display_data"
    }
   ],
   "source": [
    "correlations = df.corr()\n",
    "# Change color scheme\n",
    "sns.set_style(\"white\")\n",
    "\n",
    "# Make the figsize 10 x 8\n",
    "plt.figure(figsize=(10,8))\n",
    "\n",
    "#Mask\n",
    "mask = np.zeros_like(correlations, dtype=np.bool)\n",
    "mask[np.triu_indices_from(mask)] = True\n",
    "# Plot heatmap of correlations, masked top right, and remove cross correlations\n",
    "sns.heatmap(correlations * 100, annot=True, fmt='.0f', mask=mask)"
   ]
  },
  {
   "cell_type": "markdown",
   "metadata": {},
   "source": [
    "# Data Cleaning"
   ]
  },
  {
   "cell_type": "code",
   "execution_count": 14,
   "metadata": {},
   "outputs": [
    {
     "name": "stdout",
     "output_type": "stream",
     "text": [
      "(1883, 26)\n"
     ]
    }
   ],
   "source": [
    "#remove duplicates\n",
    "df = df.drop_duplicates()\n",
    "print( df.shape )"
   ]
  },
  {
   "cell_type": "code",
   "execution_count": 15,
   "metadata": {},
   "outputs": [
    {
     "data": {
      "text/plain": [
       "array([0., 1.])"
      ]
     },
     "execution_count": 15,
     "metadata": {},
     "output_type": "execute_result"
    }
   ],
   "source": [
    "# fill missing basement values  0\n",
    "df['basement'] = df.basement.fillna(0)\n",
    "# Display unique values of 'basement'\n",
    "df.basement.unique()"
   ]
  },
  {
   "cell_type": "code",
   "execution_count": 16,
   "metadata": {},
   "outputs": [
    {
     "data": {
      "text/plain": [
       "<matplotlib.axes._subplots.AxesSubplot at 0x7f6e59eecf98>"
      ]
     },
     "execution_count": 16,
     "metadata": {},
     "output_type": "execute_result"
    },
    {
     "data": {
      "image/png": "[encoded data removed]",
      "text/plain": [
       "<Figure size 432x288 with 1 Axes>"
      ]
     },
     "metadata": {},
     "output_type": "display_data"
    }
   ],
   "source": [
    "#check for misspellings\n",
    "# Class distributions for 'roof'\n",
    "sns.countplot(y='roof', data=df)"
   ]
  },
  {
   "cell_type": "code",
   "execution_count": 17,
   "metadata": {},
   "outputs": [],
   "source": [
    "# composition : Composition, asphalt: Asphalt, shake-shingle: Shake Shingle\n",
    "\n",
    "df.roof.replace('composition', 'Composition', inplace=True)\n",
    "df.roof.replace('asphalt', 'Asphalt', inplace=True)\n",
    "df.roof.replace(['shake-shingle', 'asphalt,shake-shingle'], 'Shake Shingle', inplace=True)"
   ]
  },
  {
   "cell_type": "code",
   "execution_count": 18,
   "metadata": {},
   "outputs": [
    {
     "data": {
      "text/plain": [
       "<matplotlib.axes._subplots.AxesSubplot at 0x7f6e59de5cf8>"
      ]
     },
     "execution_count": 18,
     "metadata": {},
     "output_type": "execute_result"
    },
    {
     "data": {
      "image/png": "[encoded data removed]",
      "text/plain": [
       "<Figure size 432x288 with 1 Axes>"
      ]
     },
     "metadata": {},
     "output_type": "display_data"
    }
   ],
   "source": [
    "# Class distributions for 'exterior_walls'\n",
    "sns.countplot(y='exterior_walls', data=df)"
   ]
  },
  {
   "cell_type": "code",
   "execution_count": 19,
   "metadata": {},
   "outputs": [
    {
     "data": {
      "text/plain": [
       "<matplotlib.axes._subplots.AxesSubplot at 0x7f6e59dc0550>"
      ]
     },
     "execution_count": 19,
     "metadata": {},
     "output_type": "execute_result"
    },
    {
     "data": {
      "image/png": "[encoded data removed]",
      "text/plain": [
       "<Figure size 432x288 with 1 Axes>"
      ]
     },
     "metadata": {},
     "output_type": "display_data"
    }
   ],
   "source": [
    "# 'Rock, Stone' should be 'Masonry'\n",
    "df.exterior_walls.replace('Rock, Stone', 'Masonry', inplace=True)\n",
    "# 'Concrete' and 'Block' should be 'Concrete Block'\n",
    "df.exterior_walls.replace(['Concrete', 'Block'], 'Concrete Block', inplace=True)\n",
    "# Class distributions for 'exterior_walls'\n",
    "sns.countplot(y='exterior_walls', data=df)"
   ]
  },
  {
   "cell_type": "markdown",
   "metadata": {},
   "source": [
    "# Remove Outliers"
   ]
  },
  {
   "cell_type": "code",
   "execution_count": 20,
   "metadata": {},
   "outputs": [
    {
     "name": "stderr",
     "output_type": "stream",
     "text": [
      "/opt/conda/lib/python3.6/site-packages/scipy/stats/stats.py:1713: FutureWarning: Using a non-tuple sequence for multidimensional indexing is deprecated; use `arr[tuple(seq)]` instead of `arr[seq]`. In the future this will be interpreted as an array index, `arr[np.array(seq)]`, which will result either in an error or a different result.\n",
      "  return np.add.reduce(sorted[indexer] * weights, axis=axis) / sumval\n"
     ]
    },
    {
     "data": {
      "image/png": "[encoded data removed]",
      "text/plain": [
       "<Figure size 432x288 with 1 Axes>"
      ]
     },
     "metadata": {},
     "output_type": "display_data"
    }
   ],
   "source": [
    "# Plot Target Variable 'tx_price' checkfor outliers\n",
    "sns.violinplot(df.tx_price)\n",
    "plt.show()"
   ]
  },
  {
   "cell_type": "code",
   "execution_count": 21,
   "metadata": {},
   "outputs": [
    {
     "data": {
      "image/png": "[encoded data removed]",
      "text/plain": [
       "<Figure size 432x288 with 1 Axes>"
      ]
     },
     "metadata": {},
     "output_type": "display_data"
    },
    {
     "data": {
      "image/png": "[encoded data removed]",
      "text/plain": [
       "<Figure size 432x288 with 1 Axes>"
      ]
     },
     "metadata": {},
     "output_type": "display_data"
    },
    {
     "data": {
      "image/png": "[encoded data removed]",
      "text/plain": [
       "<Figure size 432x288 with 1 Axes>"
      ]
     },
     "metadata": {},
     "output_type": "display_data"
    }
   ],
   "source": [
    "# Violin plot of beds\n",
    "sns.violinplot(df.beds)\n",
    "plt.show()\n",
    "\n",
    "# Violin plot of sqft\n",
    "sns.violinplot(df.sqft)\n",
    "plt.show()\n",
    "\n",
    "# Violin plot of lot_size\n",
    "sns.violinplot(df.lot_size)\n",
    "plt.show()"
   ]
  },
  {
   "cell_type": "code",
   "execution_count": 22,
   "metadata": {},
   "outputs": [
    {
     "data": {
      "text/plain": [
       "102     1220551\n",
       "1111     436471\n",
       "1876     436035\n",
       "1832     436035\n",
       "1115     435600\n",
       "Name: lot_size, dtype: int64"
      ]
     },
     "execution_count": 22,
     "metadata": {},
     "output_type": "execute_result"
    }
   ],
   "source": [
    "#lotsize might have issues with outliers, check top values\n",
    "# Sort df.lot_size and display the top 5 samples\n",
    "df.lot_size.sort_values(ascending=False).head()"
   ]
  },
  {
   "cell_type": "code",
   "execution_count": 23,
   "metadata": {},
   "outputs": [
    {
     "name": "stdout",
     "output_type": "stream",
     "text": [
      "1882\n"
     ]
    }
   ],
   "source": [
    "# Remove lot_size outliers\n",
    "df = df[df.lot_size <= 500000]\n",
    "\n",
    "# print length of df\n",
    "print( len(df) )"
   ]
  },
  {
   "cell_type": "code",
   "execution_count": 24,
   "metadata": {},
   "outputs": [
    {
     "data": {
      "text/plain": [
       "property_type       0\n",
       "exterior_walls    223\n",
       "roof              353\n",
       "dtype: int64"
      ]
     },
     "execution_count": 24,
     "metadata": {},
     "output_type": "execute_result"
    }
   ],
   "source": [
    "# check for missing data labels\n",
    "# Display number of missing values by feature (categorical)\n",
    "df.select_dtypes(include=['object']).isnull().sum()"
   ]
  },
  {
   "cell_type": "code",
   "execution_count": 25,
   "metadata": {},
   "outputs": [
    {
     "data": {
      "text/plain": [
       "property_type     0\n",
       "exterior_walls    0\n",
       "roof              0\n",
       "dtype: int64"
      ]
     },
     "execution_count": 25,
     "metadata": {},
     "output_type": "execute_result"
    }
   ],
   "source": [
    "# Fill missing categorical values\n",
    "for column in df.select_dtypes(include=['object']):\n",
    "    df[column] = df[column].fillna('Missing')\n",
    "# Display number of missing values by category\n",
    "df.select_dtypes(include=['object']).isnull().sum()"
   ]
  },
  {
   "cell_type": "code",
   "execution_count": 26,
   "metadata": {},
   "outputs": [
    {
     "data": {
      "text/plain": [
       "tx_price              0\n",
       "beds                  0\n",
       "baths                 0\n",
       "sqft                  0\n",
       "year_built            0\n",
       "lot_size              0\n",
       "basement              0\n",
       "restaurants           0\n",
       "groceries             0\n",
       "nightlife             0\n",
       "cafes                 0\n",
       "shopping              0\n",
       "arts_entertainment    0\n",
       "beauty_spas           0\n",
       "active_life           0\n",
       "median_age            0\n",
       "married               0\n",
       "college_grad          0\n",
       "property_tax          0\n",
       "insurance             0\n",
       "median_school         0\n",
       "num_schools           0\n",
       "tx_year               0\n",
       "dtype: int64"
      ]
     },
     "execution_count": 26,
     "metadata": {},
     "output_type": "execute_result"
    }
   ],
   "source": [
    "# Final Check Display number of missing values by feature\n",
    "df.select_dtypes(exclude=['object']).isnull().sum()"
   ]
  },
  {
   "cell_type": "code",
   "execution_count": 27,
   "metadata": {},
   "outputs": [],
   "source": [
    "# Save cleaned dataframe to new file\n",
    "df.to_csv('cleaned_df.csv', index=None)"
   ]
  },
  {
   "cell_type": "markdown",
   "metadata": {},
   "source": [
    "# Enginner Features"
   ]
  },
  {
   "cell_type": "code",
   "execution_count": 28,
   "metadata": {},
   "outputs": [
    {
     "data": {
      "text/html": [
       "<div>\n",
       "<style scoped>\n",
       "    .dataframe tbody tr th:only-of-type {\n",
       "        vertical-align: middle;\n",
       "    }\n",
       "\n",
       "    .dataframe tbody tr th {\n",
       "        vertical-align: top;\n",
       "    }\n",
       "\n",
       "    .dataframe thead th {\n",
       "        text-align: right;\n",
       "    }\n",
       "</style>\n",
       "<table border=\"1\" class=\"dataframe\">\n",
       "  <thead>\n",
       "    <tr style=\"text-align: right;\">\n",
       "      <th></th>\n",
       "      <th>tx_price</th>\n",
       "      <th>beds</th>\n",
       "      <th>baths</th>\n",
       "      <th>sqft</th>\n",
       "      <th>year_built</th>\n",
       "      <th>lot_size</th>\n",
       "      <th>property_type</th>\n",
       "      <th>exterior_walls</th>\n",
       "      <th>roof</th>\n",
       "      <th>basement</th>\n",
       "      <th>restaurants</th>\n",
       "      <th>groceries</th>\n",
       "      <th>nightlife</th>\n",
       "      <th>cafes</th>\n",
       "      <th>shopping</th>\n",
       "      <th>arts_entertainment</th>\n",
       "      <th>beauty_spas</th>\n",
       "      <th>active_life</th>\n",
       "      <th>median_age</th>\n",
       "      <th>married</th>\n",
       "      <th>college_grad</th>\n",
       "      <th>property_tax</th>\n",
       "      <th>insurance</th>\n",
       "      <th>median_school</th>\n",
       "      <th>num_schools</th>\n",
       "      <th>tx_year</th>\n",
       "    </tr>\n",
       "  </thead>\n",
       "  <tbody>\n",
       "    <tr>\n",
       "      <th>0</th>\n",
       "      <td>295850</td>\n",
       "      <td>1</td>\n",
       "      <td>1</td>\n",
       "      <td>584</td>\n",
       "      <td>2013</td>\n",
       "      <td>0</td>\n",
       "      <td>Apartment / Condo / Townhouse</td>\n",
       "      <td>Wood Siding</td>\n",
       "      <td>Missing</td>\n",
       "      <td>0.0</td>\n",
       "      <td>107</td>\n",
       "      <td>9</td>\n",
       "      <td>30</td>\n",
       "      <td>19</td>\n",
       "      <td>89</td>\n",
       "      <td>6</td>\n",
       "      <td>47</td>\n",
       "      <td>58</td>\n",
       "      <td>33.0</td>\n",
       "      <td>65.0</td>\n",
       "      <td>84.0</td>\n",
       "      <td>234.0</td>\n",
       "      <td>81.0</td>\n",
       "      <td>9.0</td>\n",
       "      <td>3.0</td>\n",
       "      <td>2013</td>\n",
       "    </tr>\n",
       "    <tr>\n",
       "      <th>1</th>\n",
       "      <td>216500</td>\n",
       "      <td>1</td>\n",
       "      <td>1</td>\n",
       "      <td>612</td>\n",
       "      <td>1965</td>\n",
       "      <td>0</td>\n",
       "      <td>Apartment / Condo / Townhouse</td>\n",
       "      <td>Brick</td>\n",
       "      <td>Composition Shingle</td>\n",
       "      <td>1.0</td>\n",
       "      <td>105</td>\n",
       "      <td>15</td>\n",
       "      <td>6</td>\n",
       "      <td>13</td>\n",
       "      <td>87</td>\n",
       "      <td>2</td>\n",
       "      <td>26</td>\n",
       "      <td>14</td>\n",
       "      <td>39.0</td>\n",
       "      <td>73.0</td>\n",
       "      <td>69.0</td>\n",
       "      <td>169.0</td>\n",
       "      <td>51.0</td>\n",
       "      <td>3.0</td>\n",
       "      <td>3.0</td>\n",
       "      <td>2006</td>\n",
       "    </tr>\n",
       "    <tr>\n",
       "      <th>2</th>\n",
       "      <td>279900</td>\n",
       "      <td>1</td>\n",
       "      <td>1</td>\n",
       "      <td>615</td>\n",
       "      <td>1963</td>\n",
       "      <td>0</td>\n",
       "      <td>Apartment / Condo / Townhouse</td>\n",
       "      <td>Wood Siding</td>\n",
       "      <td>Missing</td>\n",
       "      <td>0.0</td>\n",
       "      <td>183</td>\n",
       "      <td>13</td>\n",
       "      <td>31</td>\n",
       "      <td>30</td>\n",
       "      <td>101</td>\n",
       "      <td>10</td>\n",
       "      <td>74</td>\n",
       "      <td>62</td>\n",
       "      <td>28.0</td>\n",
       "      <td>15.0</td>\n",
       "      <td>86.0</td>\n",
       "      <td>216.0</td>\n",
       "      <td>74.0</td>\n",
       "      <td>8.0</td>\n",
       "      <td>3.0</td>\n",
       "      <td>2012</td>\n",
       "    </tr>\n",
       "    <tr>\n",
       "      <th>3</th>\n",
       "      <td>379900</td>\n",
       "      <td>1</td>\n",
       "      <td>1</td>\n",
       "      <td>618</td>\n",
       "      <td>2000</td>\n",
       "      <td>33541</td>\n",
       "      <td>Apartment / Condo / Townhouse</td>\n",
       "      <td>Wood Siding</td>\n",
       "      <td>Missing</td>\n",
       "      <td>0.0</td>\n",
       "      <td>198</td>\n",
       "      <td>9</td>\n",
       "      <td>38</td>\n",
       "      <td>25</td>\n",
       "      <td>127</td>\n",
       "      <td>11</td>\n",
       "      <td>72</td>\n",
       "      <td>83</td>\n",
       "      <td>36.0</td>\n",
       "      <td>25.0</td>\n",
       "      <td>91.0</td>\n",
       "      <td>265.0</td>\n",
       "      <td>92.0</td>\n",
       "      <td>9.0</td>\n",
       "      <td>3.0</td>\n",
       "      <td>2005</td>\n",
       "    </tr>\n",
       "    <tr>\n",
       "      <th>4</th>\n",
       "      <td>340000</td>\n",
       "      <td>1</td>\n",
       "      <td>1</td>\n",
       "      <td>634</td>\n",
       "      <td>1992</td>\n",
       "      <td>0</td>\n",
       "      <td>Apartment / Condo / Townhouse</td>\n",
       "      <td>Brick</td>\n",
       "      <td>Missing</td>\n",
       "      <td>0.0</td>\n",
       "      <td>149</td>\n",
       "      <td>7</td>\n",
       "      <td>22</td>\n",
       "      <td>20</td>\n",
       "      <td>83</td>\n",
       "      <td>10</td>\n",
       "      <td>50</td>\n",
       "      <td>73</td>\n",
       "      <td>37.0</td>\n",
       "      <td>20.0</td>\n",
       "      <td>75.0</td>\n",
       "      <td>88.0</td>\n",
       "      <td>30.0</td>\n",
       "      <td>9.0</td>\n",
       "      <td>3.0</td>\n",
       "      <td>2002</td>\n",
       "    </tr>\n",
       "  </tbody>\n",
       "</table>\n",
       "</div>"
      ],
      "text/plain": [
       "   tx_price  beds  baths  sqft  year_built  lot_size  \\\n",
       "0    295850     1      1   584        2013         0   \n",
       "1    216500     1      1   612        1965         0   \n",
       "2    279900     1      1   615        1963         0   \n",
       "3    379900     1      1   618        2000     33541   \n",
       "4    340000     1      1   634        1992         0   \n",
       "\n",
       "                   property_type exterior_walls                 roof  \\\n",
       "0  Apartment / Condo / Townhouse    Wood Siding              Missing   \n",
       "1  Apartment / Condo / Townhouse          Brick  Composition Shingle   \n",
       "2  Apartment / Condo / Townhouse    Wood Siding              Missing   \n",
       "3  Apartment / Condo / Townhouse    Wood Siding              Missing   \n",
       "4  Apartment / Condo / Townhouse          Brick              Missing   \n",
       "\n",
       "   basement  restaurants  groceries  nightlife  cafes  shopping  \\\n",
       "0       0.0          107          9         30     19        89   \n",
       "1       1.0          105         15          6     13        87   \n",
       "2       0.0          183         13         31     30       101   \n",
       "3       0.0          198          9         38     25       127   \n",
       "4       0.0          149          7         22     20        83   \n",
       "\n",
       "   arts_entertainment  beauty_spas  active_life  median_age  married  \\\n",
       "0                   6           47           58        33.0     65.0   \n",
       "1                   2           26           14        39.0     73.0   \n",
       "2                  10           74           62        28.0     15.0   \n",
       "3                  11           72           83        36.0     25.0   \n",
       "4                  10           50           73        37.0     20.0   \n",
       "\n",
       "   college_grad  property_tax  insurance  median_school  num_schools  tx_year  \n",
       "0          84.0         234.0       81.0            9.0          3.0     2013  \n",
       "1          69.0         169.0       51.0            3.0          3.0     2006  \n",
       "2          86.0         216.0       74.0            8.0          3.0     2012  \n",
       "3          91.0         265.0       92.0            9.0          3.0     2005  \n",
       "4          75.0          88.0       30.0            9.0          3.0     2002  "
      ]
     },
     "execution_count": 28,
     "metadata": {},
     "output_type": "execute_result"
    }
   ],
   "source": [
    "# Load cleaned dataset\n",
    "df = pd.read_csv('cleaned_df.csv')\n",
    "df.head()"
   ]
  },
  {
   "cell_type": "code",
   "execution_count": 29,
   "metadata": {},
   "outputs": [],
   "source": [
    "#create indicator for 2bds 2bths\n",
    "df['two_and_two'] = ((df.beds == 2) & (df.baths == 2)).astype(int)"
   ]
  },
  {
   "cell_type": "code",
   "execution_count": 30,
   "metadata": {},
   "outputs": [
    {
     "data": {
      "text/plain": [
       "0.09458023379383634"
      ]
     },
     "execution_count": 30,
     "metadata": {},
     "output_type": "execute_result"
    }
   ],
   "source": [
    "# Display percent for 2bds 2bths\n",
    "df.two_and_two.mean()"
   ]
  },
  {
   "cell_type": "code",
   "execution_count": 31,
   "metadata": {},
   "outputs": [],
   "source": [
    "#During recession\n",
    "# Create indicator feature for transactions between 2010 and 2013, inclusive\n",
    "#df['during_recession'] = df.tx_year.between(2010, 2013).astype(int)"
   ]
  },
  {
   "cell_type": "markdown",
   "metadata": {},
   "source": [
    "# Create new Features for Model Training\n",
    "* Property Age"
   ]
  },
  {
   "cell_type": "code",
   "execution_count": 32,
   "metadata": {},
   "outputs": [
    {
     "name": "stdout",
     "output_type": "stream",
     "text": [
      "19\n"
     ]
    }
   ],
   "source": [
    "# Create a property age feature\n",
    "df['property_age'] = df.tx_year - df.year_built\n",
    "# Number of observations with 'property_age' < 0\n",
    "print( sum(df.property_age < 0) )"
   ]
  },
  {
   "cell_type": "code",
   "execution_count": 33,
   "metadata": {},
   "outputs": [
    {
     "name": "stdout",
     "output_type": "stream",
     "text": [
      "1863\n"
     ]
    }
   ],
   "source": [
    "# Remove rows where property_age is less than 0 ( not built yet)\n",
    "df = df[df.property_age >= 0]\n",
    "\n",
    "# Print number of rows in remaining dataframe\n",
    "print( len(df) )\n"
   ]
  },
  {
   "cell_type": "markdown",
   "metadata": {},
   "source": [
    "* Number of nearby schools "
   ]
  },
  {
   "cell_type": "code",
   "execution_count": 34,
   "metadata": {},
   "outputs": [
    {
     "data": {
      "text/plain": [
       "18.0"
      ]
     },
     "execution_count": 34,
     "metadata": {},
     "output_type": "execute_result"
    }
   ],
   "source": [
    "# Create a school score feature that num_schools * median_school\n",
    "df['school_score'] = df.num_schools * df.median_school\n",
    "# Display median school score\n",
    "df.school_score.median()"
   ]
  },
  {
   "cell_type": "markdown",
   "metadata": {},
   "source": [
    "# Regroup Classes with low samples"
   ]
  },
  {
   "cell_type": "code",
   "execution_count": 35,
   "metadata": {},
   "outputs": [],
   "source": [
    "# Group 'Wood Siding' and 'Wood Shingle' with 'Wood'\n",
    "df.exterior_walls.replace(['Wood Siding', 'Wood Shingle'], 'Wood', inplace=True)"
   ]
  },
  {
   "cell_type": "code",
   "execution_count": 36,
   "metadata": {},
   "outputs": [],
   "source": [
    "# List of classes to group\n",
    "other_exterior_walls = ['Concrete Block', 'Stucco', 'Masonry', 'Other', 'Asbestos shingle']\n",
    "\n",
    "# Group other classes into 'Other'\n",
    "df.exterior_walls.replace(other_exterior_walls, 'Other', inplace=True)"
   ]
  },
  {
   "cell_type": "code",
   "execution_count": 37,
   "metadata": {},
   "outputs": [
    {
     "data": {
      "text/plain": [
       "<matplotlib.axes._subplots.AxesSubplot at 0x7f6fad17a400>"
      ]
     },
     "execution_count": 37,
     "metadata": {},
     "output_type": "execute_result"
    },
    {
     "data": {
      "image/png": "[encoded data removed]",
      "text/plain": [
       "<Figure size 432x288 with 1 Axes>"
      ]
     },
     "metadata": {},
     "output_type": "display_data"
    }
   ],
   "source": [
    "# Bar plot for exterior_walls\n",
    "sns.countplot(y='exterior_walls', data=df)"
   ]
  },
  {
   "cell_type": "code",
   "execution_count": 38,
   "metadata": {},
   "outputs": [
    {
     "data": {
      "text/plain": [
       "<matplotlib.axes._subplots.AxesSubplot at 0x7f6fad154f60>"
      ]
     },
     "execution_count": 38,
     "metadata": {},
     "output_type": "execute_result"
    },
    {
     "data": {
      "image/png": "[encoded data removed]",
      "text/plain": [
       "<Figure size 432x288 with 1 Axes>"
      ]
     },
     "metadata": {},
     "output_type": "display_data"
    }
   ],
   "source": [
    "# Group 'Composition' and 'Wood Shake/ Shingles' into 'Composition Shingle'\n",
    "df.roof.replace(['Composition', 'Wood Shake/ Shingles'], 'Composition Shingle', inplace=True)\n",
    "# List of classes to group\n",
    "other_roofs = ['Other', 'Gravel/Rock', 'Roll Composition', 'Slate', 'Built-up', 'Asbestos', 'Metal']\n",
    "\n",
    "# Group other classes into 'Other'\n",
    "df.roof.replace(other_roofs, 'Other', inplace=True)\n",
    "# Bar plot for roof\n",
    "sns.countplot(y='roof', data=df)"
   ]
  },
  {
   "cell_type": "markdown",
   "metadata": {},
   "source": [
    "# Encode Dummy Varialbles"
   ]
  },
  {
   "cell_type": "code",
   "execution_count": 39,
   "metadata": {},
   "outputs": [],
   "source": [
    "# Create new dataframe with dummy features\n",
    "#Dummy variables are a set of binary (0 or 1) features that each represent \n",
    "#a single class from a categorical feature\n",
    "df = pd.get_dummies(df, columns=['exterior_walls', 'roof', 'property_type'])"
   ]
  },
  {
   "cell_type": "code",
   "execution_count": 40,
   "metadata": {},
   "outputs": [
    {
     "data": {
      "text/html": [
       "<div>\n",
       "<style scoped>\n",
       "    .dataframe tbody tr th:only-of-type {\n",
       "        vertical-align: middle;\n",
       "    }\n",
       "\n",
       "    .dataframe tbody tr th {\n",
       "        vertical-align: top;\n",
       "    }\n",
       "\n",
       "    .dataframe thead th {\n",
       "        text-align: right;\n",
       "    }\n",
       "</style>\n",
       "<table border=\"1\" class=\"dataframe\">\n",
       "  <thead>\n",
       "    <tr style=\"text-align: right;\">\n",
       "      <th></th>\n",
       "      <th>tx_price</th>\n",
       "      <th>beds</th>\n",
       "      <th>baths</th>\n",
       "      <th>sqft</th>\n",
       "      <th>year_built</th>\n",
       "      <th>lot_size</th>\n",
       "      <th>basement</th>\n",
       "      <th>restaurants</th>\n",
       "      <th>groceries</th>\n",
       "      <th>nightlife</th>\n",
       "      <th>cafes</th>\n",
       "      <th>shopping</th>\n",
       "      <th>arts_entertainment</th>\n",
       "      <th>beauty_spas</th>\n",
       "      <th>active_life</th>\n",
       "      <th>median_age</th>\n",
       "      <th>married</th>\n",
       "      <th>college_grad</th>\n",
       "      <th>property_tax</th>\n",
       "      <th>insurance</th>\n",
       "      <th>median_school</th>\n",
       "      <th>num_schools</th>\n",
       "      <th>tx_year</th>\n",
       "      <th>two_and_two</th>\n",
       "      <th>property_age</th>\n",
       "      <th>school_score</th>\n",
       "      <th>exterior_walls_Brick</th>\n",
       "      <th>exterior_walls_Brick veneer</th>\n",
       "      <th>exterior_walls_Combination</th>\n",
       "      <th>exterior_walls_Metal</th>\n",
       "      <th>exterior_walls_Missing</th>\n",
       "      <th>exterior_walls_Other</th>\n",
       "      <th>exterior_walls_Siding (Alum/Vinyl)</th>\n",
       "      <th>exterior_walls_Wood</th>\n",
       "      <th>roof_Asphalt</th>\n",
       "      <th>roof_Composition Shingle</th>\n",
       "      <th>roof_Missing</th>\n",
       "      <th>roof_Other</th>\n",
       "      <th>roof_Shake Shingle</th>\n",
       "      <th>property_type_Apartment / Condo / Townhouse</th>\n",
       "      <th>property_type_Single-Family</th>\n",
       "    </tr>\n",
       "  </thead>\n",
       "  <tbody>\n",
       "    <tr>\n",
       "      <th>0</th>\n",
       "      <td>295850</td>\n",
       "      <td>1</td>\n",
       "      <td>1</td>\n",
       "      <td>584</td>\n",
       "      <td>2013</td>\n",
       "      <td>0</td>\n",
       "      <td>0.0</td>\n",
       "      <td>107</td>\n",
       "      <td>9</td>\n",
       "      <td>30</td>\n",
       "      <td>19</td>\n",
       "      <td>89</td>\n",
       "      <td>6</td>\n",
       "      <td>47</td>\n",
       "      <td>58</td>\n",
       "      <td>33.0</td>\n",
       "      <td>65.0</td>\n",
       "      <td>84.0</td>\n",
       "      <td>234.0</td>\n",
       "      <td>81.0</td>\n",
       "      <td>9.0</td>\n",
       "      <td>3.0</td>\n",
       "      <td>2013</td>\n",
       "      <td>0</td>\n",
       "      <td>0</td>\n",
       "      <td>27.0</td>\n",
       "      <td>0</td>\n",
       "      <td>0</td>\n",
       "      <td>0</td>\n",
       "      <td>0</td>\n",
       "      <td>0</td>\n",
       "      <td>0</td>\n",
       "      <td>0</td>\n",
       "      <td>1</td>\n",
       "      <td>0</td>\n",
       "      <td>0</td>\n",
       "      <td>1</td>\n",
       "      <td>0</td>\n",
       "      <td>0</td>\n",
       "      <td>1</td>\n",
       "      <td>0</td>\n",
       "    </tr>\n",
       "    <tr>\n",
       "      <th>1</th>\n",
       "      <td>216500</td>\n",
       "      <td>1</td>\n",
       "      <td>1</td>\n",
       "      <td>612</td>\n",
       "      <td>1965</td>\n",
       "      <td>0</td>\n",
       "      <td>1.0</td>\n",
       "      <td>105</td>\n",
       "      <td>15</td>\n",
       "      <td>6</td>\n",
       "      <td>13</td>\n",
       "      <td>87</td>\n",
       "      <td>2</td>\n",
       "      <td>26</td>\n",
       "      <td>14</td>\n",
       "      <td>39.0</td>\n",
       "      <td>73.0</td>\n",
       "      <td>69.0</td>\n",
       "      <td>169.0</td>\n",
       "      <td>51.0</td>\n",
       "      <td>3.0</td>\n",
       "      <td>3.0</td>\n",
       "      <td>2006</td>\n",
       "      <td>0</td>\n",
       "      <td>41</td>\n",
       "      <td>9.0</td>\n",
       "      <td>1</td>\n",
       "      <td>0</td>\n",
       "      <td>0</td>\n",
       "      <td>0</td>\n",
       "      <td>0</td>\n",
       "      <td>0</td>\n",
       "      <td>0</td>\n",
       "      <td>0</td>\n",
       "      <td>0</td>\n",
       "      <td>1</td>\n",
       "      <td>0</td>\n",
       "      <td>0</td>\n",
       "      <td>0</td>\n",
       "      <td>1</td>\n",
       "      <td>0</td>\n",
       "    </tr>\n",
       "    <tr>\n",
       "      <th>2</th>\n",
       "      <td>279900</td>\n",
       "      <td>1</td>\n",
       "      <td>1</td>\n",
       "      <td>615</td>\n",
       "      <td>1963</td>\n",
       "      <td>0</td>\n",
       "      <td>0.0</td>\n",
       "      <td>183</td>\n",
       "      <td>13</td>\n",
       "      <td>31</td>\n",
       "      <td>30</td>\n",
       "      <td>101</td>\n",
       "      <td>10</td>\n",
       "      <td>74</td>\n",
       "      <td>62</td>\n",
       "      <td>28.0</td>\n",
       "      <td>15.0</td>\n",
       "      <td>86.0</td>\n",
       "      <td>216.0</td>\n",
       "      <td>74.0</td>\n",
       "      <td>8.0</td>\n",
       "      <td>3.0</td>\n",
       "      <td>2012</td>\n",
       "      <td>0</td>\n",
       "      <td>49</td>\n",
       "      <td>24.0</td>\n",
       "      <td>0</td>\n",
       "      <td>0</td>\n",
       "      <td>0</td>\n",
       "      <td>0</td>\n",
       "      <td>0</td>\n",
       "      <td>0</td>\n",
       "      <td>0</td>\n",
       "      <td>1</td>\n",
       "      <td>0</td>\n",
       "      <td>0</td>\n",
       "      <td>1</td>\n",
       "      <td>0</td>\n",
       "      <td>0</td>\n",
       "      <td>1</td>\n",
       "      <td>0</td>\n",
       "    </tr>\n",
       "    <tr>\n",
       "      <th>3</th>\n",
       "      <td>379900</td>\n",
       "      <td>1</td>\n",
       "      <td>1</td>\n",
       "      <td>618</td>\n",
       "      <td>2000</td>\n",
       "      <td>33541</td>\n",
       "      <td>0.0</td>\n",
       "      <td>198</td>\n",
       "      <td>9</td>\n",
       "      <td>38</td>\n",
       "      <td>25</td>\n",
       "      <td>127</td>\n",
       "      <td>11</td>\n",
       "      <td>72</td>\n",
       "      <td>83</td>\n",
       "      <td>36.0</td>\n",
       "      <td>25.0</td>\n",
       "      <td>91.0</td>\n",
       "      <td>265.0</td>\n",
       "      <td>92.0</td>\n",
       "      <td>9.0</td>\n",
       "      <td>3.0</td>\n",
       "      <td>2005</td>\n",
       "      <td>0</td>\n",
       "      <td>5</td>\n",
       "      <td>27.0</td>\n",
       "      <td>0</td>\n",
       "      <td>0</td>\n",
       "      <td>0</td>\n",
       "      <td>0</td>\n",
       "      <td>0</td>\n",
       "      <td>0</td>\n",
       "      <td>0</td>\n",
       "      <td>1</td>\n",
       "      <td>0</td>\n",
       "      <td>0</td>\n",
       "      <td>1</td>\n",
       "      <td>0</td>\n",
       "      <td>0</td>\n",
       "      <td>1</td>\n",
       "      <td>0</td>\n",
       "    </tr>\n",
       "    <tr>\n",
       "      <th>4</th>\n",
       "      <td>340000</td>\n",
       "      <td>1</td>\n",
       "      <td>1</td>\n",
       "      <td>634</td>\n",
       "      <td>1992</td>\n",
       "      <td>0</td>\n",
       "      <td>0.0</td>\n",
       "      <td>149</td>\n",
       "      <td>7</td>\n",
       "      <td>22</td>\n",
       "      <td>20</td>\n",
       "      <td>83</td>\n",
       "      <td>10</td>\n",
       "      <td>50</td>\n",
       "      <td>73</td>\n",
       "      <td>37.0</td>\n",
       "      <td>20.0</td>\n",
       "      <td>75.0</td>\n",
       "      <td>88.0</td>\n",
       "      <td>30.0</td>\n",
       "      <td>9.0</td>\n",
       "      <td>3.0</td>\n",
       "      <td>2002</td>\n",
       "      <td>0</td>\n",
       "      <td>10</td>\n",
       "      <td>27.0</td>\n",
       "      <td>1</td>\n",
       "      <td>0</td>\n",
       "      <td>0</td>\n",
       "      <td>0</td>\n",
       "      <td>0</td>\n",
       "      <td>0</td>\n",
       "      <td>0</td>\n",
       "      <td>0</td>\n",
       "      <td>0</td>\n",
       "      <td>0</td>\n",
       "      <td>1</td>\n",
       "      <td>0</td>\n",
       "      <td>0</td>\n",
       "      <td>1</td>\n",
       "      <td>0</td>\n",
       "    </tr>\n",
       "  </tbody>\n",
       "</table>\n",
       "</div>"
      ],
      "text/plain": [
       "   tx_price  beds  baths  sqft  year_built  lot_size  basement  restaurants  \\\n",
       "0    295850     1      1   584        2013         0       0.0          107   \n",
       "1    216500     1      1   612        1965         0       1.0          105   \n",
       "2    279900     1      1   615        1963         0       0.0          183   \n",
       "3    379900     1      1   618        2000     33541       0.0          198   \n",
       "4    340000     1      1   634        1992         0       0.0          149   \n",
       "\n",
       "   groceries  nightlife  cafes  shopping  arts_entertainment  beauty_spas  \\\n",
       "0          9         30     19        89                   6           47   \n",
       "1         15          6     13        87                   2           26   \n",
       "2         13         31     30       101                  10           74   \n",
       "3          9         38     25       127                  11           72   \n",
       "4          7         22     20        83                  10           50   \n",
       "\n",
       "   active_life  median_age  married  college_grad  property_tax  insurance  \\\n",
       "0           58        33.0     65.0          84.0         234.0       81.0   \n",
       "1           14        39.0     73.0          69.0         169.0       51.0   \n",
       "2           62        28.0     15.0          86.0         216.0       74.0   \n",
       "3           83        36.0     25.0          91.0         265.0       92.0   \n",
       "4           73        37.0     20.0          75.0          88.0       30.0   \n",
       "\n",
       "   median_school  num_schools  tx_year  two_and_two  property_age  \\\n",
       "0            9.0          3.0     2013            0             0   \n",
       "1            3.0          3.0     2006            0            41   \n",
       "2            8.0          3.0     2012            0            49   \n",
       "3            9.0          3.0     2005            0             5   \n",
       "4            9.0          3.0     2002            0            10   \n",
       "\n",
       "   school_score  exterior_walls_Brick  exterior_walls_Brick veneer  \\\n",
       "0          27.0                     0                            0   \n",
       "1           9.0                     1                            0   \n",
       "2          24.0                     0                            0   \n",
       "3          27.0                     0                            0   \n",
       "4          27.0                     1                            0   \n",
       "\n",
       "   exterior_walls_Combination  exterior_walls_Metal  exterior_walls_Missing  \\\n",
       "0                           0                     0                       0   \n",
       "1                           0                     0                       0   \n",
       "2                           0                     0                       0   \n",
       "3                           0                     0                       0   \n",
       "4                           0                     0                       0   \n",
       "\n",
       "   exterior_walls_Other  exterior_walls_Siding (Alum/Vinyl)  \\\n",
       "0                     0                                   0   \n",
       "1                     0                                   0   \n",
       "2                     0                                   0   \n",
       "3                     0                                   0   \n",
       "4                     0                                   0   \n",
       "\n",
       "   exterior_walls_Wood  roof_Asphalt  roof_Composition Shingle  roof_Missing  \\\n",
       "0                    1             0                         0             1   \n",
       "1                    0             0                         1             0   \n",
       "2                    1             0                         0             1   \n",
       "3                    1             0                         0             1   \n",
       "4                    0             0                         0             1   \n",
       "\n",
       "   roof_Other  roof_Shake Shingle  \\\n",
       "0           0                   0   \n",
       "1           0                   0   \n",
       "2           0                   0   \n",
       "3           0                   0   \n",
       "4           0                   0   \n",
       "\n",
       "   property_type_Apartment / Condo / Townhouse  property_type_Single-Family  \n",
       "0                                            1                            0  \n",
       "1                                            1                            0  \n",
       "2                                            1                            0  \n",
       "3                                            1                            0  \n",
       "4                                            1                            0  "
      ]
     },
     "execution_count": 40,
     "metadata": {},
     "output_type": "execute_result"
    }
   ],
   "source": [
    "# First 5 rows of dataframe\n",
    "df.head()"
   ]
  },
  {
   "cell_type": "code",
   "execution_count": null,
   "metadata": {},
   "outputs": [],
   "source": []
  },
  {
   "cell_type": "code",
   "execution_count": 41,
   "metadata": {},
   "outputs": [],
   "source": [
    "# Save analytical base table\n",
    "# Drop 'tx_year' and 'year_built' from the dataset\n",
    "#df = df.drop(['tx_year', 'year_built'], axis=1)\n",
    "df = df.drop(['year_built'], axis=1)\n",
    "df.to_csv('Train_dataset.csv', index=None)\n"
   ]
  },
  {
   "cell_type": "code",
   "execution_count": 42,
   "metadata": {},
   "outputs": [
    {
     "name": "stdout",
     "output_type": "stream",
     "text": [
      "(1863, 40)\n"
     ]
    }
   ],
   "source": [
    "print(df.shape)"
   ]
  },
  {
   "cell_type": "markdown",
   "metadata": {},
   "source": [
    "# Regression Modeling"
   ]
  },
  {
   "cell_type": "code",
   "execution_count": 43,
   "metadata": {},
   "outputs": [],
   "source": [
    "import pandas as pd\n",
    "pd.set_option('display.max_columns', 100)\n",
    "pd.set_option('display.float_format', lambda x: '%.3f' % x)\n",
    "import numpy as np\n",
    "from matplotlib import pyplot as plt\n",
    "%matplotlib inline \n",
    "\n",
    "#import Libraries\n",
    "# Scikit-Learn for Modeling\n",
    "import sklearn\n",
    "# Import Elastic Net, Ridge Regression, and Lasso Regression\n",
    "from sklearn.linear_model import ElasticNet, Ridge, Lasso\n",
    "\n",
    "# Import Random Forest and Gradient Boosted Trees\n",
    "from sklearn.ensemble import RandomForestRegressor, GradientBoostingRegressor"
   ]
  },
  {
   "cell_type": "code",
   "execution_count": 49,
   "metadata": {},
   "outputs": [
    {
     "name": "stdout",
     "output_type": "stream",
     "text": [
      "The scikit-learn version is 0.20.0.\n"
     ]
    }
   ],
   "source": [
    "print('The scikit-learn version is {}.'.format(sklearn.__version__))"
   ]
  },
  {
   "cell_type": "code",
   "execution_count": 44,
   "metadata": {},
   "outputs": [
    {
     "name": "stdout",
     "output_type": "stream",
     "text": [
      "(1863, 40)\n"
     ]
    }
   ],
   "source": [
    "# Load Dataset\n",
    "df = pd.read_csv('Train_dataset.csv')\n",
    "#pd.read_csv('backup_analytical_base_table.csv')\n",
    "print(df.shape)"
   ]
  },
  {
   "cell_type": "code",
   "execution_count": 45,
   "metadata": {},
   "outputs": [
    {
     "data": {
      "text/plain": [
       "tx_price                                         int64\n",
       "beds                                             int64\n",
       "baths                                            int64\n",
       "sqft                                             int64\n",
       "lot_size                                         int64\n",
       "basement                                       float64\n",
       "restaurants                                      int64\n",
       "groceries                                        int64\n",
       "nightlife                                        int64\n",
       "cafes                                            int64\n",
       "shopping                                         int64\n",
       "arts_entertainment                               int64\n",
       "beauty_spas                                      int64\n",
       "active_life                                      int64\n",
       "median_age                                     float64\n",
       "married                                        float64\n",
       "college_grad                                   float64\n",
       "property_tax                                   float64\n",
       "insurance                                      float64\n",
       "median_school                                  float64\n",
       "num_schools                                    float64\n",
       "tx_year                                          int64\n",
       "two_and_two                                      int64\n",
       "property_age                                     int64\n",
       "school_score                                   float64\n",
       "exterior_walls_Brick                             int64\n",
       "exterior_walls_Brick veneer                      int64\n",
       "exterior_walls_Combination                       int64\n",
       "exterior_walls_Metal                             int64\n",
       "exterior_walls_Missing                           int64\n",
       "exterior_walls_Other                             int64\n",
       "exterior_walls_Siding (Alum/Vinyl)               int64\n",
       "exterior_walls_Wood                              int64\n",
       "roof_Asphalt                                     int64\n",
       "roof_Composition Shingle                         int64\n",
       "roof_Missing                                     int64\n",
       "roof_Other                                       int64\n",
       "roof_Shake Shingle                               int64\n",
       "property_type_Apartment / Condo / Townhouse      int64\n",
       "property_type_Single-Family                      int64\n",
       "dtype: object"
      ]
     },
     "execution_count": 45,
     "metadata": {},
     "output_type": "execute_result"
    }
   ],
   "source": [
    "df.dtypes"
   ]
  },
  {
   "cell_type": "markdown",
   "metadata": {},
   "source": [
    "## 1. Split Dataset for Train Test"
   ]
  },
  {
   "cell_type": "code",
   "execution_count": 50,
   "metadata": {},
   "outputs": [],
   "source": [
    "# Function for splitting training and test set\n",
    "from sklearn.model_selection import train_test_split # Scikit-Learn 0.18+\n",
    "\n",
    "# Create separate object for target variable\n",
    "y = df.tx_price\n",
    "\n",
    "# Create separate object for input features\n",
    "X = df.drop('tx_price', axis=1)"
   ]
  },
  {
   "cell_type": "code",
   "execution_count": 77,
   "metadata": {},
   "outputs": [
    {
     "name": "stdout",
     "output_type": "stream",
     "text": [
      "1490 373 1490 373\n"
     ]
    }
   ],
   "source": [
    "# Split X and y into train and test sets\n",
    "# test_size=0.2 to set aside 20% of obervations for test set\n",
    "# pass random_state = 1234 to set the randoms tate of replicable results\n",
    "X_train, X_test, y_train, y_test = train_test_split(X, y, \n",
    "                                                    test_size=0.2, \n",
    "                                                    random_state=123)\n",
    "print( len(X_train), len(X_test), len(y_train), len(y_test) )"
   ]
  },
  {
   "cell_type": "markdown",
   "metadata": {},
   "source": [
    "## 2. Build Pipeline\n",
    "* Preprocess data for training"
   ]
  },
  {
   "cell_type": "code",
   "execution_count": 78,
   "metadata": {},
   "outputs": [
    {
     "data": {
      "text/html": [
       "<div>\n",
       "<style scoped>\n",
       "    .dataframe tbody tr th:only-of-type {\n",
       "        vertical-align: middle;\n",
       "    }\n",
       "\n",
       "    .dataframe tbody tr th {\n",
       "        vertical-align: top;\n",
       "    }\n",
       "\n",
       "    .dataframe thead th {\n",
       "        text-align: right;\n",
       "    }\n",
       "</style>\n",
       "<table border=\"1\" class=\"dataframe\">\n",
       "  <thead>\n",
       "    <tr style=\"text-align: right;\">\n",
       "      <th></th>\n",
       "      <th>beds</th>\n",
       "      <th>baths</th>\n",
       "      <th>sqft</th>\n",
       "      <th>lot_size</th>\n",
       "      <th>basement</th>\n",
       "      <th>restaurants</th>\n",
       "      <th>groceries</th>\n",
       "      <th>nightlife</th>\n",
       "      <th>cafes</th>\n",
       "      <th>shopping</th>\n",
       "      <th>arts_entertainment</th>\n",
       "      <th>beauty_spas</th>\n",
       "      <th>active_life</th>\n",
       "      <th>median_age</th>\n",
       "      <th>married</th>\n",
       "      <th>college_grad</th>\n",
       "      <th>property_tax</th>\n",
       "      <th>insurance</th>\n",
       "      <th>median_school</th>\n",
       "      <th>num_schools</th>\n",
       "      <th>tx_year</th>\n",
       "      <th>two_and_two</th>\n",
       "      <th>property_age</th>\n",
       "      <th>school_score</th>\n",
       "      <th>exterior_walls_Brick</th>\n",
       "      <th>exterior_walls_Brick veneer</th>\n",
       "      <th>exterior_walls_Combination</th>\n",
       "      <th>exterior_walls_Metal</th>\n",
       "      <th>exterior_walls_Missing</th>\n",
       "      <th>exterior_walls_Other</th>\n",
       "      <th>exterior_walls_Siding (Alum/Vinyl)</th>\n",
       "      <th>exterior_walls_Wood</th>\n",
       "      <th>roof_Asphalt</th>\n",
       "      <th>roof_Composition Shingle</th>\n",
       "      <th>roof_Missing</th>\n",
       "      <th>roof_Other</th>\n",
       "      <th>roof_Shake Shingle</th>\n",
       "      <th>property_type_Apartment / Condo / Townhouse</th>\n",
       "      <th>property_type_Single-Family</th>\n",
       "    </tr>\n",
       "  </thead>\n",
       "  <tbody>\n",
       "    <tr>\n",
       "      <th>count</th>\n",
       "      <td>1490.000</td>\n",
       "      <td>1490.000</td>\n",
       "      <td>1490.000</td>\n",
       "      <td>1490.000</td>\n",
       "      <td>1490.000</td>\n",
       "      <td>1490.000</td>\n",
       "      <td>1490.000</td>\n",
       "      <td>1490.000</td>\n",
       "      <td>1490.000</td>\n",
       "      <td>1490.000</td>\n",
       "      <td>1490.000</td>\n",
       "      <td>1490.000</td>\n",
       "      <td>1490.000</td>\n",
       "      <td>1490.000</td>\n",
       "      <td>1490.000</td>\n",
       "      <td>1490.000</td>\n",
       "      <td>1490.000</td>\n",
       "      <td>1490.000</td>\n",
       "      <td>1490.000</td>\n",
       "      <td>1490.000</td>\n",
       "      <td>1490.000</td>\n",
       "      <td>1490.000</td>\n",
       "      <td>1490.000</td>\n",
       "      <td>1490.000</td>\n",
       "      <td>1490.000</td>\n",
       "      <td>1490.000</td>\n",
       "      <td>1490.000</td>\n",
       "      <td>1490.000</td>\n",
       "      <td>1490.000</td>\n",
       "      <td>1490.000</td>\n",
       "      <td>1490.000</td>\n",
       "      <td>1490.000</td>\n",
       "      <td>1490.000</td>\n",
       "      <td>1490.000</td>\n",
       "      <td>1490.000</td>\n",
       "      <td>1490.000</td>\n",
       "      <td>1490.000</td>\n",
       "      <td>1490.000</td>\n",
       "      <td>1490.000</td>\n",
       "    </tr>\n",
       "    <tr>\n",
       "      <th>mean</th>\n",
       "      <td>3.393</td>\n",
       "      <td>2.549</td>\n",
       "      <td>2270.290</td>\n",
       "      <td>11483.715</td>\n",
       "      <td>0.877</td>\n",
       "      <td>41.050</td>\n",
       "      <td>4.580</td>\n",
       "      <td>5.174</td>\n",
       "      <td>5.422</td>\n",
       "      <td>41.168</td>\n",
       "      <td>3.446</td>\n",
       "      <td>23.740</td>\n",
       "      <td>16.110</td>\n",
       "      <td>38.447</td>\n",
       "      <td>68.946</td>\n",
       "      <td>65.209</td>\n",
       "      <td>458.136</td>\n",
       "      <td>137.924</td>\n",
       "      <td>6.493</td>\n",
       "      <td>2.784</td>\n",
       "      <td>2007.128</td>\n",
       "      <td>0.093</td>\n",
       "      <td>24.811</td>\n",
       "      <td>17.908</td>\n",
       "      <td>0.366</td>\n",
       "      <td>0.024</td>\n",
       "      <td>0.049</td>\n",
       "      <td>0.067</td>\n",
       "      <td>0.123</td>\n",
       "      <td>0.040</td>\n",
       "      <td>0.262</td>\n",
       "      <td>0.068</td>\n",
       "      <td>0.076</td>\n",
       "      <td>0.648</td>\n",
       "      <td>0.185</td>\n",
       "      <td>0.062</td>\n",
       "      <td>0.030</td>\n",
       "      <td>0.432</td>\n",
       "      <td>0.568</td>\n",
       "    </tr>\n",
       "    <tr>\n",
       "      <th>std</th>\n",
       "      <td>1.060</td>\n",
       "      <td>0.917</td>\n",
       "      <td>1271.341</td>\n",
       "      <td>29966.241</td>\n",
       "      <td>0.329</td>\n",
       "      <td>47.078</td>\n",
       "      <td>4.485</td>\n",
       "      <td>8.524</td>\n",
       "      <td>7.575</td>\n",
       "      <td>53.359</td>\n",
       "      <td>4.708</td>\n",
       "      <td>25.803</td>\n",
       "      <td>17.759</td>\n",
       "      <td>6.518</td>\n",
       "      <td>19.536</td>\n",
       "      <td>16.688</td>\n",
       "      <td>220.115</td>\n",
       "      <td>69.441</td>\n",
       "      <td>1.997</td>\n",
       "      <td>0.519</td>\n",
       "      <td>5.124</td>\n",
       "      <td>0.291</td>\n",
       "      <td>21.206</td>\n",
       "      <td>6.483</td>\n",
       "      <td>0.482</td>\n",
       "      <td>0.154</td>\n",
       "      <td>0.216</td>\n",
       "      <td>0.250</td>\n",
       "      <td>0.328</td>\n",
       "      <td>0.197</td>\n",
       "      <td>0.440</td>\n",
       "      <td>0.253</td>\n",
       "      <td>0.265</td>\n",
       "      <td>0.478</td>\n",
       "      <td>0.388</td>\n",
       "      <td>0.241</td>\n",
       "      <td>0.171</td>\n",
       "      <td>0.496</td>\n",
       "      <td>0.496</td>\n",
       "    </tr>\n",
       "    <tr>\n",
       "      <th>min</th>\n",
       "      <td>1.000</td>\n",
       "      <td>1.000</td>\n",
       "      <td>500.000</td>\n",
       "      <td>0.000</td>\n",
       "      <td>0.000</td>\n",
       "      <td>0.000</td>\n",
       "      <td>0.000</td>\n",
       "      <td>0.000</td>\n",
       "      <td>0.000</td>\n",
       "      <td>0.000</td>\n",
       "      <td>0.000</td>\n",
       "      <td>0.000</td>\n",
       "      <td>0.000</td>\n",
       "      <td>26.000</td>\n",
       "      <td>11.000</td>\n",
       "      <td>5.000</td>\n",
       "      <td>88.000</td>\n",
       "      <td>30.000</td>\n",
       "      <td>1.000</td>\n",
       "      <td>1.000</td>\n",
       "      <td>1993.000</td>\n",
       "      <td>0.000</td>\n",
       "      <td>0.000</td>\n",
       "      <td>3.000</td>\n",
       "      <td>0.000</td>\n",
       "      <td>0.000</td>\n",
       "      <td>0.000</td>\n",
       "      <td>0.000</td>\n",
       "      <td>0.000</td>\n",
       "      <td>0.000</td>\n",
       "      <td>0.000</td>\n",
       "      <td>0.000</td>\n",
       "      <td>0.000</td>\n",
       "      <td>0.000</td>\n",
       "      <td>0.000</td>\n",
       "      <td>0.000</td>\n",
       "      <td>0.000</td>\n",
       "      <td>0.000</td>\n",
       "      <td>0.000</td>\n",
       "    </tr>\n",
       "    <tr>\n",
       "      <th>25%</th>\n",
       "      <td>3.000</td>\n",
       "      <td>2.000</td>\n",
       "      <td>1332.000</td>\n",
       "      <td>1520.000</td>\n",
       "      <td>1.000</td>\n",
       "      <td>7.000</td>\n",
       "      <td>1.000</td>\n",
       "      <td>0.000</td>\n",
       "      <td>0.250</td>\n",
       "      <td>7.250</td>\n",
       "      <td>0.000</td>\n",
       "      <td>5.000</td>\n",
       "      <td>5.000</td>\n",
       "      <td>33.000</td>\n",
       "      <td>58.000</td>\n",
       "      <td>54.000</td>\n",
       "      <td>321.000</td>\n",
       "      <td>95.000</td>\n",
       "      <td>5.000</td>\n",
       "      <td>3.000</td>\n",
       "      <td>2004.000</td>\n",
       "      <td>0.000</td>\n",
       "      <td>6.000</td>\n",
       "      <td>12.000</td>\n",
       "      <td>0.000</td>\n",
       "      <td>0.000</td>\n",
       "      <td>0.000</td>\n",
       "      <td>0.000</td>\n",
       "      <td>0.000</td>\n",
       "      <td>0.000</td>\n",
       "      <td>0.000</td>\n",
       "      <td>0.000</td>\n",
       "      <td>0.000</td>\n",
       "      <td>0.000</td>\n",
       "      <td>0.000</td>\n",
       "      <td>0.000</td>\n",
       "      <td>0.000</td>\n",
       "      <td>0.000</td>\n",
       "      <td>0.000</td>\n",
       "    </tr>\n",
       "    <tr>\n",
       "      <th>50%</th>\n",
       "      <td>3.000</td>\n",
       "      <td>3.000</td>\n",
       "      <td>1876.500</td>\n",
       "      <td>5736.000</td>\n",
       "      <td>1.000</td>\n",
       "      <td>24.000</td>\n",
       "      <td>3.000</td>\n",
       "      <td>2.000</td>\n",
       "      <td>3.000</td>\n",
       "      <td>22.000</td>\n",
       "      <td>2.000</td>\n",
       "      <td>15.000</td>\n",
       "      <td>10.000</td>\n",
       "      <td>37.000</td>\n",
       "      <td>73.000</td>\n",
       "      <td>66.000</td>\n",
       "      <td>422.500</td>\n",
       "      <td>124.000</td>\n",
       "      <td>7.000</td>\n",
       "      <td>3.000</td>\n",
       "      <td>2007.000</td>\n",
       "      <td>0.000</td>\n",
       "      <td>21.000</td>\n",
       "      <td>18.000</td>\n",
       "      <td>0.000</td>\n",
       "      <td>0.000</td>\n",
       "      <td>0.000</td>\n",
       "      <td>0.000</td>\n",
       "      <td>0.000</td>\n",
       "      <td>0.000</td>\n",
       "      <td>0.000</td>\n",
       "      <td>0.000</td>\n",
       "      <td>0.000</td>\n",
       "      <td>1.000</td>\n",
       "      <td>0.000</td>\n",
       "      <td>0.000</td>\n",
       "      <td>0.000</td>\n",
       "      <td>0.000</td>\n",
       "      <td>1.000</td>\n",
       "    </tr>\n",
       "    <tr>\n",
       "      <th>75%</th>\n",
       "      <td>4.000</td>\n",
       "      <td>3.000</td>\n",
       "      <td>2918.250</td>\n",
       "      <td>11325.000</td>\n",
       "      <td>1.000</td>\n",
       "      <td>60.000</td>\n",
       "      <td>7.000</td>\n",
       "      <td>6.000</td>\n",
       "      <td>7.000</td>\n",
       "      <td>51.000</td>\n",
       "      <td>5.000</td>\n",
       "      <td>36.000</td>\n",
       "      <td>21.000</td>\n",
       "      <td>43.000</td>\n",
       "      <td>84.000</td>\n",
       "      <td>78.000</td>\n",
       "      <td>560.750</td>\n",
       "      <td>166.000</td>\n",
       "      <td>8.000</td>\n",
       "      <td>3.000</td>\n",
       "      <td>2011.000</td>\n",
       "      <td>0.000</td>\n",
       "      <td>40.000</td>\n",
       "      <td>24.000</td>\n",
       "      <td>1.000</td>\n",
       "      <td>0.000</td>\n",
       "      <td>0.000</td>\n",
       "      <td>0.000</td>\n",
       "      <td>0.000</td>\n",
       "      <td>0.000</td>\n",
       "      <td>1.000</td>\n",
       "      <td>0.000</td>\n",
       "      <td>0.000</td>\n",
       "      <td>1.000</td>\n",
       "      <td>0.000</td>\n",
       "      <td>0.000</td>\n",
       "      <td>0.000</td>\n",
       "      <td>1.000</td>\n",
       "      <td>1.000</td>\n",
       "    </tr>\n",
       "    <tr>\n",
       "      <th>max</th>\n",
       "      <td>5.000</td>\n",
       "      <td>6.000</td>\n",
       "      <td>7842.000</td>\n",
       "      <td>436035.000</td>\n",
       "      <td>1.000</td>\n",
       "      <td>266.000</td>\n",
       "      <td>24.000</td>\n",
       "      <td>54.000</td>\n",
       "      <td>47.000</td>\n",
       "      <td>340.000</td>\n",
       "      <td>35.000</td>\n",
       "      <td>177.000</td>\n",
       "      <td>94.000</td>\n",
       "      <td>66.000</td>\n",
       "      <td>100.000</td>\n",
       "      <td>99.000</td>\n",
       "      <td>4508.000</td>\n",
       "      <td>1374.000</td>\n",
       "      <td>10.000</td>\n",
       "      <td>4.000</td>\n",
       "      <td>2016.000</td>\n",
       "      <td>1.000</td>\n",
       "      <td>114.000</td>\n",
       "      <td>30.000</td>\n",
       "      <td>1.000</td>\n",
       "      <td>1.000</td>\n",
       "      <td>1.000</td>\n",
       "      <td>1.000</td>\n",
       "      <td>1.000</td>\n",
       "      <td>1.000</td>\n",
       "      <td>1.000</td>\n",
       "      <td>1.000</td>\n",
       "      <td>1.000</td>\n",
       "      <td>1.000</td>\n",
       "      <td>1.000</td>\n",
       "      <td>1.000</td>\n",
       "      <td>1.000</td>\n",
       "      <td>1.000</td>\n",
       "      <td>1.000</td>\n",
       "    </tr>\n",
       "  </tbody>\n",
       "</table>\n",
       "</div>"
      ],
      "text/plain": [
       "          beds    baths     sqft   lot_size  basement  restaurants  groceries  \\\n",
       "count 1490.000 1490.000 1490.000   1490.000  1490.000     1490.000   1490.000   \n",
       "mean     3.393    2.549 2270.290  11483.715     0.877       41.050      4.580   \n",
       "std      1.060    0.917 1271.341  29966.241     0.329       47.078      4.485   \n",
       "min      1.000    1.000  500.000      0.000     0.000        0.000      0.000   \n",
       "25%      3.000    2.000 1332.000   1520.000     1.000        7.000      1.000   \n",
       "50%      3.000    3.000 1876.500   5736.000     1.000       24.000      3.000   \n",
       "75%      4.000    3.000 2918.250  11325.000     1.000       60.000      7.000   \n",
       "max      5.000    6.000 7842.000 436035.000     1.000      266.000     24.000   \n",
       "\n",
       "       nightlife    cafes  shopping  arts_entertainment  beauty_spas  \\\n",
       "count   1490.000 1490.000  1490.000            1490.000     1490.000   \n",
       "mean       5.174    5.422    41.168               3.446       23.740   \n",
       "std        8.524    7.575    53.359               4.708       25.803   \n",
       "min        0.000    0.000     0.000               0.000        0.000   \n",
       "25%        0.000    0.250     7.250               0.000        5.000   \n",
       "50%        2.000    3.000    22.000               2.000       15.000   \n",
       "75%        6.000    7.000    51.000               5.000       36.000   \n",
       "max       54.000   47.000   340.000              35.000      177.000   \n",
       "\n",
       "       active_life  median_age  married  college_grad  property_tax  \\\n",
       "count     1490.000    1490.000 1490.000      1490.000      1490.000   \n",
       "mean        16.110      38.447   68.946        65.209       458.136   \n",
       "std         17.759       6.518   19.536        16.688       220.115   \n",
       "min          0.000      26.000   11.000         5.000        88.000   \n",
       "25%          5.000      33.000   58.000        54.000       321.000   \n",
       "50%         10.000      37.000   73.000        66.000       422.500   \n",
       "75%         21.000      43.000   84.000        78.000       560.750   \n",
       "max         94.000      66.000  100.000        99.000      4508.000   \n",
       "\n",
       "       insurance  median_school  num_schools  tx_year  two_and_two  \\\n",
       "count   1490.000       1490.000     1490.000 1490.000     1490.000   \n",
       "mean     137.924          6.493        2.784 2007.128        0.093   \n",
       "std       69.441          1.997        0.519    5.124        0.291   \n",
       "min       30.000          1.000        1.000 1993.000        0.000   \n",
       "25%       95.000          5.000        3.000 2004.000        0.000   \n",
       "50%      124.000          7.000        3.000 2007.000        0.000   \n",
       "75%      166.000          8.000        3.000 2011.000        0.000   \n",
       "max     1374.000         10.000        4.000 2016.000        1.000   \n",
       "\n",
       "       property_age  school_score  exterior_walls_Brick  \\\n",
       "count      1490.000      1490.000              1490.000   \n",
       "mean         24.811        17.908                 0.366   \n",
       "std          21.206         6.483                 0.482   \n",
       "min           0.000         3.000                 0.000   \n",
       "25%           6.000        12.000                 0.000   \n",
       "50%          21.000        18.000                 0.000   \n",
       "75%          40.000        24.000                 1.000   \n",
       "max         114.000        30.000                 1.000   \n",
       "\n",
       "       exterior_walls_Brick veneer  exterior_walls_Combination  \\\n",
       "count                     1490.000                    1490.000   \n",
       "mean                         0.024                       0.049   \n",
       "std                          0.154                       0.216   \n",
       "min                          0.000                       0.000   \n",
       "25%                          0.000                       0.000   \n",
       "50%                          0.000                       0.000   \n",
       "75%                          0.000                       0.000   \n",
       "max                          1.000                       1.000   \n",
       "\n",
       "       exterior_walls_Metal  exterior_walls_Missing  exterior_walls_Other  \\\n",
       "count              1490.000                1490.000              1490.000   \n",
       "mean                  0.067                   0.123                 0.040   \n",
       "std                   0.250                   0.328                 0.197   \n",
       "min                   0.000                   0.000                 0.000   \n",
       "25%                   0.000                   0.000                 0.000   \n",
       "50%                   0.000                   0.000                 0.000   \n",
       "75%                   0.000                   0.000                 0.000   \n",
       "max                   1.000                   1.000                 1.000   \n",
       "\n",
       "       exterior_walls_Siding (Alum/Vinyl)  exterior_walls_Wood  roof_Asphalt  \\\n",
       "count                            1490.000             1490.000      1490.000   \n",
       "mean                                0.262                0.068         0.076   \n",
       "std                                 0.440                0.253         0.265   \n",
       "min                                 0.000                0.000         0.000   \n",
       "25%                                 0.000                0.000         0.000   \n",
       "50%                                 0.000                0.000         0.000   \n",
       "75%                                 1.000                0.000         0.000   \n",
       "max                                 1.000                1.000         1.000   \n",
       "\n",
       "       roof_Composition Shingle  roof_Missing  roof_Other  roof_Shake Shingle  \\\n",
       "count                  1490.000      1490.000    1490.000            1490.000   \n",
       "mean                      0.648         0.185       0.062               0.030   \n",
       "std                       0.478         0.388       0.241               0.171   \n",
       "min                       0.000         0.000       0.000               0.000   \n",
       "25%                       0.000         0.000       0.000               0.000   \n",
       "50%                       1.000         0.000       0.000               0.000   \n",
       "75%                       1.000         0.000       0.000               0.000   \n",
       "max                       1.000         1.000       1.000               1.000   \n",
       "\n",
       "       property_type_Apartment / Condo / Townhouse  \\\n",
       "count                                     1490.000   \n",
       "mean                                         0.432   \n",
       "std                                          0.496   \n",
       "min                                          0.000   \n",
       "25%                                          0.000   \n",
       "50%                                          0.000   \n",
       "75%                                          1.000   \n",
       "max                                          1.000   \n",
       "\n",
       "       property_type_Single-Family  \n",
       "count                     1490.000  \n",
       "mean                         0.568  \n",
       "std                          0.496  \n",
       "min                          0.000  \n",
       "25%                          0.000  \n",
       "50%                          1.000  \n",
       "75%                          1.000  \n",
       "max                          1.000  "
      ]
     },
     "execution_count": 78,
     "metadata": {},
     "output_type": "execute_result"
    }
   ],
   "source": [
    "# Summary statistics of X_train\n",
    "X_train.describe()"
   ]
  },
  {
   "cell_type": "markdown",
   "metadata": {},
   "source": [
    "* Need to Standarize my featurs to the same scale by subtracting means and dividing by StdDevs\n",
    "* This is important because regression algorithms will overemphasize featurs that are on larger numerical\n",
    "  scales\n",
    "* this will \"center around zero, with unit variance\"\n"
   ]
  },
  {
   "cell_type": "code",
   "execution_count": 79,
   "metadata": {},
   "outputs": [],
   "source": [
    "# Standardize X_train\n",
    "X_train_new = (X_train - X_train.mean()) / X_train.std()"
   ]
  },
  {
   "cell_type": "code",
   "execution_count": 80,
   "metadata": {},
   "outputs": [
    {
     "data": {
      "text/html": [
       "<div>\n",
       "<style scoped>\n",
       "    .dataframe tbody tr th:only-of-type {\n",
       "        vertical-align: middle;\n",
       "    }\n",
       "\n",
       "    .dataframe tbody tr th {\n",
       "        vertical-align: top;\n",
       "    }\n",
       "\n",
       "    .dataframe thead th {\n",
       "        text-align: right;\n",
       "    }\n",
       "</style>\n",
       "<table border=\"1\" class=\"dataframe\">\n",
       "  <thead>\n",
       "    <tr style=\"text-align: right;\">\n",
       "      <th></th>\n",
       "      <th>beds</th>\n",
       "      <th>baths</th>\n",
       "      <th>sqft</th>\n",
       "      <th>lot_size</th>\n",
       "      <th>basement</th>\n",
       "      <th>restaurants</th>\n",
       "      <th>groceries</th>\n",
       "      <th>nightlife</th>\n",
       "      <th>cafes</th>\n",
       "      <th>shopping</th>\n",
       "      <th>arts_entertainment</th>\n",
       "      <th>beauty_spas</th>\n",
       "      <th>active_life</th>\n",
       "      <th>median_age</th>\n",
       "      <th>married</th>\n",
       "      <th>college_grad</th>\n",
       "      <th>property_tax</th>\n",
       "      <th>insurance</th>\n",
       "      <th>median_school</th>\n",
       "      <th>num_schools</th>\n",
       "      <th>tx_year</th>\n",
       "      <th>two_and_two</th>\n",
       "      <th>property_age</th>\n",
       "      <th>school_score</th>\n",
       "      <th>exterior_walls_Brick</th>\n",
       "      <th>exterior_walls_Brick veneer</th>\n",
       "      <th>exterior_walls_Combination</th>\n",
       "      <th>exterior_walls_Metal</th>\n",
       "      <th>exterior_walls_Missing</th>\n",
       "      <th>exterior_walls_Other</th>\n",
       "      <th>exterior_walls_Siding (Alum/Vinyl)</th>\n",
       "      <th>exterior_walls_Wood</th>\n",
       "      <th>roof_Asphalt</th>\n",
       "      <th>roof_Composition Shingle</th>\n",
       "      <th>roof_Missing</th>\n",
       "      <th>roof_Other</th>\n",
       "      <th>roof_Shake Shingle</th>\n",
       "      <th>property_type_Apartment / Condo / Townhouse</th>\n",
       "      <th>property_type_Single-Family</th>\n",
       "    </tr>\n",
       "  </thead>\n",
       "  <tbody>\n",
       "    <tr>\n",
       "      <th>count</th>\n",
       "      <td>1490.000</td>\n",
       "      <td>1490.000</td>\n",
       "      <td>1490.000</td>\n",
       "      <td>1490.000</td>\n",
       "      <td>1490.000</td>\n",
       "      <td>1490.000</td>\n",
       "      <td>1490.000</td>\n",
       "      <td>1490.000</td>\n",
       "      <td>1490.000</td>\n",
       "      <td>1490.000</td>\n",
       "      <td>1490.000</td>\n",
       "      <td>1490.000</td>\n",
       "      <td>1490.000</td>\n",
       "      <td>1490.000</td>\n",
       "      <td>1490.000</td>\n",
       "      <td>1490.000</td>\n",
       "      <td>1490.000</td>\n",
       "      <td>1490.000</td>\n",
       "      <td>1490.000</td>\n",
       "      <td>1490.000</td>\n",
       "      <td>1490.000</td>\n",
       "      <td>1490.000</td>\n",
       "      <td>1490.000</td>\n",
       "      <td>1490.000</td>\n",
       "      <td>1490.000</td>\n",
       "      <td>1490.000</td>\n",
       "      <td>1490.000</td>\n",
       "      <td>1490.000</td>\n",
       "      <td>1490.000</td>\n",
       "      <td>1490.000</td>\n",
       "      <td>1490.000</td>\n",
       "      <td>1490.000</td>\n",
       "      <td>1490.000</td>\n",
       "      <td>1490.000</td>\n",
       "      <td>1490.000</td>\n",
       "      <td>1490.000</td>\n",
       "      <td>1490.000</td>\n",
       "      <td>1490.000</td>\n",
       "      <td>1490.000</td>\n",
       "    </tr>\n",
       "    <tr>\n",
       "      <th>mean</th>\n",
       "      <td>0.000</td>\n",
       "      <td>-0.000</td>\n",
       "      <td>-0.000</td>\n",
       "      <td>0.000</td>\n",
       "      <td>-0.000</td>\n",
       "      <td>0.000</td>\n",
       "      <td>-0.000</td>\n",
       "      <td>-0.000</td>\n",
       "      <td>0.000</td>\n",
       "      <td>0.000</td>\n",
       "      <td>0.000</td>\n",
       "      <td>-0.000</td>\n",
       "      <td>0.000</td>\n",
       "      <td>0.000</td>\n",
       "      <td>-0.000</td>\n",
       "      <td>0.000</td>\n",
       "      <td>-0.000</td>\n",
       "      <td>0.000</td>\n",
       "      <td>-0.000</td>\n",
       "      <td>-0.000</td>\n",
       "      <td>0.000</td>\n",
       "      <td>-0.000</td>\n",
       "      <td>0.000</td>\n",
       "      <td>0.000</td>\n",
       "      <td>-0.000</td>\n",
       "      <td>-0.000</td>\n",
       "      <td>-0.000</td>\n",
       "      <td>-0.000</td>\n",
       "      <td>-0.000</td>\n",
       "      <td>0.000</td>\n",
       "      <td>0.000</td>\n",
       "      <td>-0.000</td>\n",
       "      <td>0.000</td>\n",
       "      <td>0.000</td>\n",
       "      <td>-0.000</td>\n",
       "      <td>-0.000</td>\n",
       "      <td>-0.000</td>\n",
       "      <td>0.000</td>\n",
       "      <td>-0.000</td>\n",
       "    </tr>\n",
       "    <tr>\n",
       "      <th>std</th>\n",
       "      <td>1.000</td>\n",
       "      <td>1.000</td>\n",
       "      <td>1.000</td>\n",
       "      <td>1.000</td>\n",
       "      <td>1.000</td>\n",
       "      <td>1.000</td>\n",
       "      <td>1.000</td>\n",
       "      <td>1.000</td>\n",
       "      <td>1.000</td>\n",
       "      <td>1.000</td>\n",
       "      <td>1.000</td>\n",
       "      <td>1.000</td>\n",
       "      <td>1.000</td>\n",
       "      <td>1.000</td>\n",
       "      <td>1.000</td>\n",
       "      <td>1.000</td>\n",
       "      <td>1.000</td>\n",
       "      <td>1.000</td>\n",
       "      <td>1.000</td>\n",
       "      <td>1.000</td>\n",
       "      <td>1.000</td>\n",
       "      <td>1.000</td>\n",
       "      <td>1.000</td>\n",
       "      <td>1.000</td>\n",
       "      <td>1.000</td>\n",
       "      <td>1.000</td>\n",
       "      <td>1.000</td>\n",
       "      <td>1.000</td>\n",
       "      <td>1.000</td>\n",
       "      <td>1.000</td>\n",
       "      <td>1.000</td>\n",
       "      <td>1.000</td>\n",
       "      <td>1.000</td>\n",
       "      <td>1.000</td>\n",
       "      <td>1.000</td>\n",
       "      <td>1.000</td>\n",
       "      <td>1.000</td>\n",
       "      <td>1.000</td>\n",
       "      <td>1.000</td>\n",
       "    </tr>\n",
       "    <tr>\n",
       "      <th>min</th>\n",
       "      <td>-2.259</td>\n",
       "      <td>-1.690</td>\n",
       "      <td>-1.392</td>\n",
       "      <td>-0.383</td>\n",
       "      <td>-2.663</td>\n",
       "      <td>-0.872</td>\n",
       "      <td>-1.021</td>\n",
       "      <td>-0.607</td>\n",
       "      <td>-0.716</td>\n",
       "      <td>-0.772</td>\n",
       "      <td>-0.732</td>\n",
       "      <td>-0.920</td>\n",
       "      <td>-0.907</td>\n",
       "      <td>-1.910</td>\n",
       "      <td>-2.966</td>\n",
       "      <td>-3.608</td>\n",
       "      <td>-1.682</td>\n",
       "      <td>-1.554</td>\n",
       "      <td>-2.751</td>\n",
       "      <td>-3.440</td>\n",
       "      <td>-2.757</td>\n",
       "      <td>-0.321</td>\n",
       "      <td>-1.170</td>\n",
       "      <td>-2.300</td>\n",
       "      <td>-0.760</td>\n",
       "      <td>-0.157</td>\n",
       "      <td>-0.227</td>\n",
       "      <td>-0.268</td>\n",
       "      <td>-0.374</td>\n",
       "      <td>-0.205</td>\n",
       "      <td>-0.595</td>\n",
       "      <td>-0.271</td>\n",
       "      <td>-0.286</td>\n",
       "      <td>-1.355</td>\n",
       "      <td>-0.476</td>\n",
       "      <td>-0.256</td>\n",
       "      <td>-0.176</td>\n",
       "      <td>-0.872</td>\n",
       "      <td>-1.146</td>\n",
       "    </tr>\n",
       "    <tr>\n",
       "      <th>25%</th>\n",
       "      <td>-0.371</td>\n",
       "      <td>-0.599</td>\n",
       "      <td>-0.738</td>\n",
       "      <td>-0.332</td>\n",
       "      <td>0.375</td>\n",
       "      <td>-0.723</td>\n",
       "      <td>-0.798</td>\n",
       "      <td>-0.607</td>\n",
       "      <td>-0.683</td>\n",
       "      <td>-0.636</td>\n",
       "      <td>-0.732</td>\n",
       "      <td>-0.726</td>\n",
       "      <td>-0.626</td>\n",
       "      <td>-0.836</td>\n",
       "      <td>-0.560</td>\n",
       "      <td>-0.672</td>\n",
       "      <td>-0.623</td>\n",
       "      <td>-0.618</td>\n",
       "      <td>-0.748</td>\n",
       "      <td>0.417</td>\n",
       "      <td>-0.610</td>\n",
       "      <td>-0.321</td>\n",
       "      <td>-0.887</td>\n",
       "      <td>-0.911</td>\n",
       "      <td>-0.760</td>\n",
       "      <td>-0.157</td>\n",
       "      <td>-0.227</td>\n",
       "      <td>-0.268</td>\n",
       "      <td>-0.374</td>\n",
       "      <td>-0.205</td>\n",
       "      <td>-0.595</td>\n",
       "      <td>-0.271</td>\n",
       "      <td>-0.286</td>\n",
       "      <td>-1.355</td>\n",
       "      <td>-0.476</td>\n",
       "      <td>-0.256</td>\n",
       "      <td>-0.176</td>\n",
       "      <td>-0.872</td>\n",
       "      <td>-1.146</td>\n",
       "    </tr>\n",
       "    <tr>\n",
       "      <th>50%</th>\n",
       "      <td>-0.371</td>\n",
       "      <td>0.492</td>\n",
       "      <td>-0.310</td>\n",
       "      <td>-0.192</td>\n",
       "      <td>0.375</td>\n",
       "      <td>-0.362</td>\n",
       "      <td>-0.352</td>\n",
       "      <td>-0.372</td>\n",
       "      <td>-0.320</td>\n",
       "      <td>-0.359</td>\n",
       "      <td>-0.307</td>\n",
       "      <td>-0.339</td>\n",
       "      <td>-0.344</td>\n",
       "      <td>-0.222</td>\n",
       "      <td>0.208</td>\n",
       "      <td>0.047</td>\n",
       "      <td>-0.162</td>\n",
       "      <td>-0.201</td>\n",
       "      <td>0.254</td>\n",
       "      <td>0.417</td>\n",
       "      <td>-0.025</td>\n",
       "      <td>-0.321</td>\n",
       "      <td>-0.180</td>\n",
       "      <td>0.014</td>\n",
       "      <td>-0.760</td>\n",
       "      <td>-0.157</td>\n",
       "      <td>-0.227</td>\n",
       "      <td>-0.268</td>\n",
       "      <td>-0.374</td>\n",
       "      <td>-0.205</td>\n",
       "      <td>-0.595</td>\n",
       "      <td>-0.271</td>\n",
       "      <td>-0.286</td>\n",
       "      <td>0.737</td>\n",
       "      <td>-0.476</td>\n",
       "      <td>-0.256</td>\n",
       "      <td>-0.176</td>\n",
       "      <td>-0.872</td>\n",
       "      <td>0.872</td>\n",
       "    </tr>\n",
       "    <tr>\n",
       "      <th>75%</th>\n",
       "      <td>0.573</td>\n",
       "      <td>0.492</td>\n",
       "      <td>0.510</td>\n",
       "      <td>-0.005</td>\n",
       "      <td>0.375</td>\n",
       "      <td>0.403</td>\n",
       "      <td>0.540</td>\n",
       "      <td>0.097</td>\n",
       "      <td>0.208</td>\n",
       "      <td>0.184</td>\n",
       "      <td>0.330</td>\n",
       "      <td>0.475</td>\n",
       "      <td>0.275</td>\n",
       "      <td>0.699</td>\n",
       "      <td>0.771</td>\n",
       "      <td>0.766</td>\n",
       "      <td>0.466</td>\n",
       "      <td>0.404</td>\n",
       "      <td>0.755</td>\n",
       "      <td>0.417</td>\n",
       "      <td>0.756</td>\n",
       "      <td>-0.321</td>\n",
       "      <td>0.716</td>\n",
       "      <td>0.940</td>\n",
       "      <td>1.314</td>\n",
       "      <td>-0.157</td>\n",
       "      <td>-0.227</td>\n",
       "      <td>-0.268</td>\n",
       "      <td>-0.374</td>\n",
       "      <td>-0.205</td>\n",
       "      <td>1.679</td>\n",
       "      <td>-0.271</td>\n",
       "      <td>-0.286</td>\n",
       "      <td>0.737</td>\n",
       "      <td>-0.476</td>\n",
       "      <td>-0.256</td>\n",
       "      <td>-0.176</td>\n",
       "      <td>1.146</td>\n",
       "      <td>0.872</td>\n",
       "    </tr>\n",
       "    <tr>\n",
       "      <th>max</th>\n",
       "      <td>1.516</td>\n",
       "      <td>3.765</td>\n",
       "      <td>4.383</td>\n",
       "      <td>14.168</td>\n",
       "      <td>0.375</td>\n",
       "      <td>4.778</td>\n",
       "      <td>4.330</td>\n",
       "      <td>5.728</td>\n",
       "      <td>5.489</td>\n",
       "      <td>5.600</td>\n",
       "      <td>6.702</td>\n",
       "      <td>5.940</td>\n",
       "      <td>4.386</td>\n",
       "      <td>4.227</td>\n",
       "      <td>1.590</td>\n",
       "      <td>2.025</td>\n",
       "      <td>18.399</td>\n",
       "      <td>17.800</td>\n",
       "      <td>1.756</td>\n",
       "      <td>2.345</td>\n",
       "      <td>1.731</td>\n",
       "      <td>3.117</td>\n",
       "      <td>4.206</td>\n",
       "      <td>1.865</td>\n",
       "      <td>1.314</td>\n",
       "      <td>6.353</td>\n",
       "      <td>4.404</td>\n",
       "      <td>3.727</td>\n",
       "      <td>2.672</td>\n",
       "      <td>4.880</td>\n",
       "      <td>1.679</td>\n",
       "      <td>3.688</td>\n",
       "      <td>3.490</td>\n",
       "      <td>0.737</td>\n",
       "      <td>2.101</td>\n",
       "      <td>3.897</td>\n",
       "      <td>5.665</td>\n",
       "      <td>1.146</td>\n",
       "      <td>0.872</td>\n",
       "    </tr>\n",
       "  </tbody>\n",
       "</table>\n",
       "</div>"
      ],
      "text/plain": [
       "          beds    baths     sqft  lot_size  basement  restaurants  groceries  \\\n",
       "count 1490.000 1490.000 1490.000  1490.000  1490.000     1490.000   1490.000   \n",
       "mean     0.000   -0.000   -0.000     0.000    -0.000        0.000     -0.000   \n",
       "std      1.000    1.000    1.000     1.000     1.000        1.000      1.000   \n",
       "min     -2.259   -1.690   -1.392    -0.383    -2.663       -0.872     -1.021   \n",
       "25%     -0.371   -0.599   -0.738    -0.332     0.375       -0.723     -0.798   \n",
       "50%     -0.371    0.492   -0.310    -0.192     0.375       -0.362     -0.352   \n",
       "75%      0.573    0.492    0.510    -0.005     0.375        0.403      0.540   \n",
       "max      1.516    3.765    4.383    14.168     0.375        4.778      4.330   \n",
       "\n",
       "       nightlife    cafes  shopping  arts_entertainment  beauty_spas  \\\n",
       "count   1490.000 1490.000  1490.000            1490.000     1490.000   \n",
       "mean      -0.000    0.000     0.000               0.000       -0.000   \n",
       "std        1.000    1.000     1.000               1.000        1.000   \n",
       "min       -0.607   -0.716    -0.772              -0.732       -0.920   \n",
       "25%       -0.607   -0.683    -0.636              -0.732       -0.726   \n",
       "50%       -0.372   -0.320    -0.359              -0.307       -0.339   \n",
       "75%        0.097    0.208     0.184               0.330        0.475   \n",
       "max        5.728    5.489     5.600               6.702        5.940   \n",
       "\n",
       "       active_life  median_age  married  college_grad  property_tax  \\\n",
       "count     1490.000    1490.000 1490.000      1490.000      1490.000   \n",
       "mean         0.000       0.000   -0.000         0.000        -0.000   \n",
       "std          1.000       1.000    1.000         1.000         1.000   \n",
       "min         -0.907      -1.910   -2.966        -3.608        -1.682   \n",
       "25%         -0.626      -0.836   -0.560        -0.672        -0.623   \n",
       "50%         -0.344      -0.222    0.208         0.047        -0.162   \n",
       "75%          0.275       0.699    0.771         0.766         0.466   \n",
       "max          4.386       4.227    1.590         2.025        18.399   \n",
       "\n",
       "       insurance  median_school  num_schools  tx_year  two_and_two  \\\n",
       "count   1490.000       1490.000     1490.000 1490.000     1490.000   \n",
       "mean       0.000         -0.000       -0.000    0.000       -0.000   \n",
       "std        1.000          1.000        1.000    1.000        1.000   \n",
       "min       -1.554         -2.751       -3.440   -2.757       -0.321   \n",
       "25%       -0.618         -0.748        0.417   -0.610       -0.321   \n",
       "50%       -0.201          0.254        0.417   -0.025       -0.321   \n",
       "75%        0.404          0.755        0.417    0.756       -0.321   \n",
       "max       17.800          1.756        2.345    1.731        3.117   \n",
       "\n",
       "       property_age  school_score  exterior_walls_Brick  \\\n",
       "count      1490.000      1490.000              1490.000   \n",
       "mean          0.000         0.000                -0.000   \n",
       "std           1.000         1.000                 1.000   \n",
       "min          -1.170        -2.300                -0.760   \n",
       "25%          -0.887        -0.911                -0.760   \n",
       "50%          -0.180         0.014                -0.760   \n",
       "75%           0.716         0.940                 1.314   \n",
       "max           4.206         1.865                 1.314   \n",
       "\n",
       "       exterior_walls_Brick veneer  exterior_walls_Combination  \\\n",
       "count                     1490.000                    1490.000   \n",
       "mean                        -0.000                      -0.000   \n",
       "std                          1.000                       1.000   \n",
       "min                         -0.157                      -0.227   \n",
       "25%                         -0.157                      -0.227   \n",
       "50%                         -0.157                      -0.227   \n",
       "75%                         -0.157                      -0.227   \n",
       "max                          6.353                       4.404   \n",
       "\n",
       "       exterior_walls_Metal  exterior_walls_Missing  exterior_walls_Other  \\\n",
       "count              1490.000                1490.000              1490.000   \n",
       "mean                 -0.000                  -0.000                 0.000   \n",
       "std                   1.000                   1.000                 1.000   \n",
       "min                  -0.268                  -0.374                -0.205   \n",
       "25%                  -0.268                  -0.374                -0.205   \n",
       "50%                  -0.268                  -0.374                -0.205   \n",
       "75%                  -0.268                  -0.374                -0.205   \n",
       "max                   3.727                   2.672                 4.880   \n",
       "\n",
       "       exterior_walls_Siding (Alum/Vinyl)  exterior_walls_Wood  roof_Asphalt  \\\n",
       "count                            1490.000             1490.000      1490.000   \n",
       "mean                                0.000               -0.000         0.000   \n",
       "std                                 1.000                1.000         1.000   \n",
       "min                                -0.595               -0.271        -0.286   \n",
       "25%                                -0.595               -0.271        -0.286   \n",
       "50%                                -0.595               -0.271        -0.286   \n",
       "75%                                 1.679               -0.271        -0.286   \n",
       "max                                 1.679                3.688         3.490   \n",
       "\n",
       "       roof_Composition Shingle  roof_Missing  roof_Other  roof_Shake Shingle  \\\n",
       "count                  1490.000      1490.000    1490.000            1490.000   \n",
       "mean                      0.000        -0.000      -0.000              -0.000   \n",
       "std                       1.000         1.000       1.000               1.000   \n",
       "min                      -1.355        -0.476      -0.256              -0.176   \n",
       "25%                      -1.355        -0.476      -0.256              -0.176   \n",
       "50%                       0.737        -0.476      -0.256              -0.176   \n",
       "75%                       0.737        -0.476      -0.256              -0.176   \n",
       "max                       0.737         2.101       3.897               5.665   \n",
       "\n",
       "       property_type_Apartment / Condo / Townhouse  \\\n",
       "count                                     1490.000   \n",
       "mean                                         0.000   \n",
       "std                                          1.000   \n",
       "min                                         -0.872   \n",
       "25%                                         -0.872   \n",
       "50%                                         -0.872   \n",
       "75%                                          1.146   \n",
       "max                                          1.146   \n",
       "\n",
       "       property_type_Single-Family  \n",
       "count                     1490.000  \n",
       "mean                        -0.000  \n",
       "std                          1.000  \n",
       "min                         -1.146  \n",
       "25%                         -1.146  \n",
       "50%                          0.872  \n",
       "75%                          0.872  \n",
       "max                          0.872  "
      ]
     },
     "execution_count": 80,
     "metadata": {},
     "output_type": "execute_result"
    }
   ],
   "source": [
    "# Summary statistics of X_train_new\n",
    "X_train_new.describe()"
   ]
  },
  {
   "cell_type": "markdown",
   "metadata": {},
   "source": [
    "* The Means are all now centered around zero 0.0\n",
    "* standard deviations are 1.0, De-varianced"
   ]
  },
  {
   "cell_type": "markdown",
   "metadata": {},
   "source": [
    "# Pipeline Engineering"
   ]
  },
  {
   "cell_type": "markdown",
   "metadata": {},
   "source": [
    "* Tuning settings for cross-validation\n",
    "\n",
    "Steps\n",
    "\n",
    "1. splitinto 10 equal folds\n",
    "2. preprocess 9 training folds, learning the preprocessing parameters\n",
    "3. train your model on those newly preprossed 9 folds\n",
    "4. preprocess the hold-out fold using the same preprocessing parameters form the traning folds\n",
    "5. evaluate model on the new hold-out fold\n",
    "6. repeat 2-5, 10 times \n",
    "7. average performance of 10 folds"
   ]
  },
  {
   "cell_type": "code",
   "execution_count": 81,
   "metadata": {},
   "outputs": [],
   "source": [
    "# Function for creating model pipelines\n",
    "from sklearn.pipeline import make_pipeline\n",
    "# For standardization\n",
    "from sklearn.preprocessing import StandardScaler"
   ]
  },
  {
   "cell_type": "code",
   "execution_count": 82,
   "metadata": {},
   "outputs": [],
   "source": [
    "# Create pipelines dictionary\n",
    "\n",
    "pipelines = {\n",
    "    'lasso' : make_pipeline(StandardScaler(), Lasso(random_state=123)),\n",
    "    'ridge' : make_pipeline(StandardScaler(), Ridge(random_state=123)),\n",
    "    'enet'  : make_pipeline(StandardScaler(), ElasticNet(random_state=123))\n",
    "}"
   ]
  },
  {
   "cell_type": "markdown",
   "metadata": {},
   "source": [
    "* add RandomForestRegressor and GradientBoostingRegressor\n",
    "* set random_state=123 to ensure replicable results\n"
   ]
  },
  {
   "cell_type": "code",
   "execution_count": 83,
   "metadata": {},
   "outputs": [],
   "source": [
    "# Add a pipeline for 'rf'\n",
    "pipelines['rf'] = make_pipeline(StandardScaler(), RandomForestRegressor(random_state=123))\n",
    "\n",
    "# Add a pipeline for 'gb'\n",
    "pipelines['gb'] = make_pipeline(StandardScaler(), GradientBoostingRegressor(random_state=123))"
   ]
  },
  {
   "cell_type": "code",
   "execution_count": 84,
   "metadata": {},
   "outputs": [
    {
     "name": "stdout",
     "output_type": "stream",
     "text": [
      "lasso <class 'sklearn.pipeline.Pipeline'>\n",
      "ridge <class 'sklearn.pipeline.Pipeline'>\n",
      "enet <class 'sklearn.pipeline.Pipeline'>\n",
      "rf <class 'sklearn.pipeline.Pipeline'>\n",
      "gb <class 'sklearn.pipeline.Pipeline'>\n"
     ]
    }
   ],
   "source": [
    "# Check that we have all 5 algorithms, and that they are all pipelines\n",
    "for key, value in pipelines.items():\n",
    "    print( key, type(value) )"
   ]
  },
  {
   "cell_type": "markdown",
   "metadata": {},
   "source": [
    "# Declare Hyperparameters for tuning"
   ]
  },
  {
   "cell_type": "markdown",
   "metadata": {},
   "source": [
    "* Model parameters are learned attributes that define individual models\n",
    "* Hypermaramters are \"higher-level\" settings for modeling algorithms\n",
    "* becuase hyper parameters cannot be leared from data they must be Tuned systematically, Crossvalidation"
   ]
  },
  {
   "cell_type": "code",
   "execution_count": 85,
   "metadata": {},
   "outputs": [
    {
     "data": {
      "text/plain": [
       "{'memory': None,\n",
       " 'steps': [('standardscaler',\n",
       "   StandardScaler(copy=True, with_mean=True, with_std=True)),\n",
       "  ('lasso', Lasso(alpha=1.0, copy_X=True, fit_intercept=True, max_iter=1000,\n",
       "      normalize=False, positive=False, precompute=False, random_state=123,\n",
       "      selection='cyclic', tol=0.0001, warm_start=False))],\n",
       " 'standardscaler': StandardScaler(copy=True, with_mean=True, with_std=True),\n",
       " 'lasso': Lasso(alpha=1.0, copy_X=True, fit_intercept=True, max_iter=1000,\n",
       "    normalize=False, positive=False, precompute=False, random_state=123,\n",
       "    selection='cyclic', tol=0.0001, warm_start=False),\n",
       " 'standardscaler__copy': True,\n",
       " 'standardscaler__with_mean': True,\n",
       " 'standardscaler__with_std': True,\n",
       " 'lasso__alpha': 1.0,\n",
       " 'lasso__copy_X': True,\n",
       " 'lasso__fit_intercept': True,\n",
       " 'lasso__max_iter': 1000,\n",
       " 'lasso__normalize': False,\n",
       " 'lasso__positive': False,\n",
       " 'lasso__precompute': False,\n",
       " 'lasso__random_state': 123,\n",
       " 'lasso__selection': 'cyclic',\n",
       " 'lasso__tol': 0.0001,\n",
       " 'lasso__warm_start': False}"
      ]
     },
     "execution_count": 85,
     "metadata": {},
     "output_type": "execute_result"
    }
   ],
   "source": [
    "# List tuneable hyperparameters of our Lasso pipeline\n",
    "pipelines['lasso'].get_params()"
   ]
  },
  {
   "cell_type": "markdown",
   "metadata": {},
   "source": [
    "* for Lasso and Ridge Regression : Strength of the penalty is best parameter 0.001 and 10 "
   ]
  },
  {
   "cell_type": "code",
   "execution_count": 86,
   "metadata": {},
   "outputs": [],
   "source": [
    "# Lasso hyperparameters\n",
    "lasso_hyperparameters = { \n",
    "    'lasso__alpha' : [0.001, 0.005, 0.01, 0.05, 0.1, 0.5, 1, 5, 10] \n",
    "}\n",
    "\n",
    "# Ridge hyperparameters\n",
    "ridge_hyperparameters = { \n",
    "    'ridge__alpha': [0.001, 0.005, 0.01, 0.05, 0.1, 0.5, 1, 5, 10]  \n",
    "}"
   ]
  },
  {
   "cell_type": "markdown",
   "metadata": {},
   "source": [
    "* for Elsastic-Nets L1_ratio isthe best"
   ]
  },
  {
   "cell_type": "code",
   "execution_count": 87,
   "metadata": {},
   "outputs": [],
   "source": [
    "# Elastic Net hyperparameters\n",
    "enet_hyperparameters = { \n",
    "    'elasticnet__alpha': [0.001, 0.005, 0.01, 0.05, 0.1, 0.5, 1, 5, 10],                        \n",
    "    'elasticnet__l1_ratio' : [0.1, 0.3, 0.5, 0.7, 0.9]  \n",
    "}"
   ]
  },
  {
   "cell_type": "markdown",
   "metadata": {},
   "source": [
    "* RanomForestRegressor : estimators 100-200, max_features auto, sqrt, .33"
   ]
  },
  {
   "cell_type": "code",
   "execution_count": 88,
   "metadata": {},
   "outputs": [],
   "source": [
    "# Random forest hyperparameters\n",
    "rf_hyperparameters = { \n",
    "    'randomforestregressor__n_estimators' : [100, 200],\n",
    "    'randomforestregressor__max_features': ['auto', 'sqrt', 0.33],\n",
    "}"
   ]
  },
  {
   "cell_type": "markdown",
   "metadata": {},
   "source": [
    "* GradientBoost: estimators 100-200, learn rate 0.05,0.1,0.2, max depth 1:3:5"
   ]
  },
  {
   "cell_type": "code",
   "execution_count": 89,
   "metadata": {},
   "outputs": [],
   "source": [
    "# Boosted tree hyperparameters\n",
    "gb_hyperparameters = { \n",
    "    'gradientboostingregressor__n_estimators': [100, 200],\n",
    "    'gradientboostingregressor__learning_rate' : [0.05, 0.1, 0.2],\n",
    "    'gradientboostingregressor__max_depth': [1, 3, 5]\n",
    "}"
   ]
  },
  {
   "cell_type": "markdown",
   "metadata": {},
   "source": [
    "# create hyperparamters dictionary to save learning"
   ]
  },
  {
   "cell_type": "code",
   "execution_count": 90,
   "metadata": {},
   "outputs": [],
   "source": [
    "# Create hyperparameters dictionary\n",
    "hyperparameters = {\n",
    "    'rf' : rf_hyperparameters,\n",
    "    'gb' : gb_hyperparameters,\n",
    "    'lasso' : lasso_hyperparameters,\n",
    "    'ridge' : ridge_hyperparameters,\n",
    "    'enet' : enet_hyperparameters\n",
    "}"
   ]
  },
  {
   "cell_type": "code",
   "execution_count": 91,
   "metadata": {},
   "outputs": [
    {
     "name": "stdout",
     "output_type": "stream",
     "text": [
      "enet was found in hyperparameters, and it is a grid.\n",
      "gb was found in hyperparameters, and it is a grid.\n",
      "ridge was found in hyperparameters, and it is a grid.\n",
      "rf was found in hyperparameters, and it is a grid.\n",
      "lasso was found in hyperparameters, and it is a grid.\n"
     ]
    }
   ],
   "source": [
    "# check dictionary structure\n",
    "for key in ['enet', 'gb', 'ridge', 'rf', 'lasso']:\n",
    "    if key in hyperparameters:\n",
    "        if type(hyperparameters[key]) is dict:\n",
    "            print( key, 'was found in hyperparameters, and it is a grid.' )\n",
    "        else:\n",
    "            print( key, 'was found in hyperparameters, but it is not a grid.' )\n",
    "    else:\n",
    "        print( key, 'was not found in hyperparameters')"
   ]
  },
  {
   "cell_type": "markdown",
   "metadata": {},
   "source": [
    "# Fit and Tune Models with Cross Validation"
   ]
  },
  {
   "cell_type": "code",
   "execution_count": 92,
   "metadata": {},
   "outputs": [],
   "source": [
    "#import gridsearchcv : performs look to search for best combo of vlaues int he hyper paramter grid then create CV score\n",
    "from sklearn.model_selection import GridSearchCV"
   ]
  },
  {
   "cell_type": "code",
   "execution_count": 93,
   "metadata": {},
   "outputs": [],
   "source": [
    "# Create cross-validation object from Lasso pipeline and Lasso hyperparameters\n",
    "model = GridSearchCV(pipelines['lasso'], hyperparameters['lasso'], cv=10, n_jobs=-1)"
   ]
  },
  {
   "cell_type": "code",
   "execution_count": 94,
   "metadata": {},
   "outputs": [
    {
     "name": "stderr",
     "output_type": "stream",
     "text": [
      "/opt/conda/lib/python3.6/site-packages/sklearn/preprocessing/data.py:617: DataConversionWarning: Data with input dtype int64, float64 were all converted to float64 by StandardScaler.\n",
      "  return self.partial_fit(X, y)\n",
      "/opt/conda/lib/python3.6/site-packages/sklearn/base.py:465: DataConversionWarning: Data with input dtype int64, float64 were all converted to float64 by StandardScaler.\n",
      "  return self.fit(X, y, **fit_params).transform(X)\n",
      "/opt/conda/lib/python3.6/site-packages/sklearn/linear_model/coordinate_descent.py:491: ConvergenceWarning: Objective did not converge. You might want to increase the number of iterations. Fitting data with very small alpha may cause precision problems.\n",
      "  ConvergenceWarning)\n"
     ]
    },
    {
     "data": {
      "text/plain": [
       "GridSearchCV(cv=10, error_score='raise-deprecating',\n",
       "       estimator=Pipeline(memory=None,\n",
       "     steps=[('standardscaler', StandardScaler(copy=True, with_mean=True, with_std=True)), ('lasso', Lasso(alpha=1.0, copy_X=True, fit_intercept=True, max_iter=1000,\n",
       "   normalize=False, positive=False, precompute=False, random_state=123,\n",
       "   selection='cyclic', tol=0.0001, warm_start=False))]),\n",
       "       fit_params=None, iid='warn', n_jobs=-1,\n",
       "       param_grid={'lasso__alpha': [0.001, 0.005, 0.01, 0.05, 0.1, 0.5, 1, 5, 10]},\n",
       "       pre_dispatch='2*n_jobs', refit=True, return_train_score='warn',\n",
       "       scoring=None, verbose=0)"
      ]
     },
     "execution_count": 94,
     "metadata": {},
     "output_type": "execute_result"
    }
   ],
   "source": [
    "# Fit and tune model\n",
    "model.fit(X_train, y_train)"
   ]
  },
  {
   "cell_type": "markdown",
   "metadata": {},
   "source": [
    "* Create fitted models dictionary that have been tuned using CV\n"
   ]
  },
  {
   "cell_type": "code",
   "execution_count": 95,
   "metadata": {},
   "outputs": [
    {
     "name": "stderr",
     "output_type": "stream",
     "text": [
      "/opt/conda/lib/python3.6/site-packages/sklearn/preprocessing/data.py:617: DataConversionWarning: Data with input dtype int64, float64 were all converted to float64 by StandardScaler.\n",
      "  return self.partial_fit(X, y)\n",
      "/opt/conda/lib/python3.6/site-packages/sklearn/base.py:465: DataConversionWarning: Data with input dtype int64, float64 were all converted to float64 by StandardScaler.\n",
      "  return self.fit(X, y, **fit_params).transform(X)\n",
      "/opt/conda/lib/python3.6/site-packages/sklearn/linear_model/coordinate_descent.py:491: ConvergenceWarning: Objective did not converge. You might want to increase the number of iterations. Fitting data with very small alpha may cause precision problems.\n",
      "  ConvergenceWarning)\n"
     ]
    },
    {
     "name": "stdout",
     "output_type": "stream",
     "text": [
      "lasso has been fitted.\n"
     ]
    },
    {
     "name": "stderr",
     "output_type": "stream",
     "text": [
      "/opt/conda/lib/python3.6/site-packages/sklearn/preprocessing/data.py:617: DataConversionWarning: Data with input dtype int64, float64 were all converted to float64 by StandardScaler.\n",
      "  return self.partial_fit(X, y)\n",
      "/opt/conda/lib/python3.6/site-packages/sklearn/base.py:465: DataConversionWarning: Data with input dtype int64, float64 were all converted to float64 by StandardScaler.\n",
      "  return self.fit(X, y, **fit_params).transform(X)\n"
     ]
    },
    {
     "name": "stdout",
     "output_type": "stream",
     "text": [
      "ridge has been fitted.\n"
     ]
    },
    {
     "name": "stderr",
     "output_type": "stream",
     "text": [
      "/opt/conda/lib/python3.6/site-packages/sklearn/preprocessing/data.py:617: DataConversionWarning: Data with input dtype int64, float64 were all converted to float64 by StandardScaler.\n",
      "  return self.partial_fit(X, y)\n",
      "/opt/conda/lib/python3.6/site-packages/sklearn/base.py:465: DataConversionWarning: Data with input dtype int64, float64 were all converted to float64 by StandardScaler.\n",
      "  return self.fit(X, y, **fit_params).transform(X)\n"
     ]
    },
    {
     "name": "stdout",
     "output_type": "stream",
     "text": [
      "enet has been fitted.\n"
     ]
    },
    {
     "name": "stderr",
     "output_type": "stream",
     "text": [
      "/opt/conda/lib/python3.6/site-packages/sklearn/preprocessing/data.py:617: DataConversionWarning: Data with input dtype int64, float64 were all converted to float64 by StandardScaler.\n",
      "  return self.partial_fit(X, y)\n",
      "/opt/conda/lib/python3.6/site-packages/sklearn/base.py:465: DataConversionWarning: Data with input dtype int64, float64 were all converted to float64 by StandardScaler.\n",
      "  return self.fit(X, y, **fit_params).transform(X)\n"
     ]
    },
    {
     "name": "stdout",
     "output_type": "stream",
     "text": [
      "rf has been fitted.\n"
     ]
    },
    {
     "name": "stderr",
     "output_type": "stream",
     "text": [
      "/opt/conda/lib/python3.6/site-packages/sklearn/preprocessing/data.py:617: DataConversionWarning: Data with input dtype int64, float64 were all converted to float64 by StandardScaler.\n",
      "  return self.partial_fit(X, y)\n",
      "/opt/conda/lib/python3.6/site-packages/sklearn/base.py:465: DataConversionWarning: Data with input dtype int64, float64 were all converted to float64 by StandardScaler.\n",
      "  return self.fit(X, y, **fit_params).transform(X)\n"
     ]
    },
    {
     "name": "stdout",
     "output_type": "stream",
     "text": [
      "gb has been fitted.\n"
     ]
    }
   ],
   "source": [
    "# Create empty dictionary called fitted_models\n",
    "fitted_models = {}\n",
    "\n",
    "# Loop through model pipelines, tuning each one and saving it to fitted_models\n",
    "for name, pipeline in pipelines.items():\n",
    "    # Create cross-validation object from pipeline and hyperparameters\n",
    "    model = GridSearchCV(pipeline, hyperparameters[name], cv=10, n_jobs=-1)\n",
    "    \n",
    "    # Fit model on X_train, y_train\n",
    "    model.fit(X_train, y_train)\n",
    "    \n",
    "    # Store model in fitted_models[name] \n",
    "    fitted_models[name] = model\n",
    "    \n",
    "    # Print '{name} has been fitted'\n",
    "    print(name, 'has been fitted.')"
   ]
  },
  {
   "cell_type": "code",
   "execution_count": 96,
   "metadata": {},
   "outputs": [
    {
     "name": "stdout",
     "output_type": "stream",
     "text": [
      "lasso <class 'sklearn.model_selection._search.GridSearchCV'>\n",
      "ridge <class 'sklearn.model_selection._search.GridSearchCV'>\n",
      "enet <class 'sklearn.model_selection._search.GridSearchCV'>\n",
      "rf <class 'sklearn.model_selection._search.GridSearchCV'>\n",
      "gb <class 'sklearn.model_selection._search.GridSearchCV'>\n"
     ]
    }
   ],
   "source": [
    "# Check that we have 5 cross-validation objects\n",
    "for key, value in fitted_models.items():\n",
    "    print( key, type(value) )"
   ]
  },
  {
   "cell_type": "code",
   "execution_count": 97,
   "metadata": {},
   "outputs": [
    {
     "name": "stdout",
     "output_type": "stream",
     "text": [
      "lasso has been fitted.\n",
      "ridge has been fitted.\n",
      "enet has been fitted.\n",
      "rf has been fitted.\n",
      "gb has been fitted.\n"
     ]
    },
    {
     "name": "stderr",
     "output_type": "stream",
     "text": [
      "/opt/conda/lib/python3.6/site-packages/sklearn/pipeline.py:331: DataConversionWarning: Data with input dtype int64, float64 were all converted to float64 by StandardScaler.\n",
      "  Xt = transform.transform(Xt)\n",
      "/opt/conda/lib/python3.6/site-packages/sklearn/pipeline.py:331: DataConversionWarning: Data with input dtype int64, float64 were all converted to float64 by StandardScaler.\n",
      "  Xt = transform.transform(Xt)\n",
      "/opt/conda/lib/python3.6/site-packages/sklearn/pipeline.py:331: DataConversionWarning: Data with input dtype int64, float64 were all converted to float64 by StandardScaler.\n",
      "  Xt = transform.transform(Xt)\n",
      "/opt/conda/lib/python3.6/site-packages/sklearn/pipeline.py:331: DataConversionWarning: Data with input dtype int64, float64 were all converted to float64 by StandardScaler.\n",
      "  Xt = transform.transform(Xt)\n",
      "/opt/conda/lib/python3.6/site-packages/sklearn/pipeline.py:331: DataConversionWarning: Data with input dtype int64, float64 were all converted to float64 by StandardScaler.\n",
      "  Xt = transform.transform(Xt)\n"
     ]
    }
   ],
   "source": [
    "from sklearn.exceptions import NotFittedError\n",
    "\n",
    "for name, model in fitted_models.items():\n",
    "    try:\n",
    "        pred = model.predict(X_test)\n",
    "        print(name, 'has been fitted.')\n",
    "    except NotFittedError as e:\n",
    "        print(repr(e))"
   ]
  },
  {
   "cell_type": "markdown",
   "metadata": {},
   "source": [
    "# Evaluate Models and Summarize Findings"
   ]
  },
  {
   "cell_type": "markdown",
   "metadata": {},
   "source": [
    "* Check R^2 for each model, higher R^2 is better\n",
    "* To evaluate we need to see how the performance was on the test data"
   ]
  },
  {
   "cell_type": "code",
   "execution_count": 100,
   "metadata": {},
   "outputs": [
    {
     "name": "stdout",
     "output_type": "stream",
     "text": [
      "lasso 0.3857893700514607\n",
      "ridge 0.3895048427033123\n",
      "enet 0.4136839109854389\n",
      "rf 0.8022544755963958\n",
      "gb 0.8207180460192705\n"
     ]
    }
   ],
   "source": [
    "# Display best_score_ for each fitted model\n",
    "for name, model in fitted_models.items():\n",
    "    print( name, model.best_score_ )"
   ]
  },
  {
   "cell_type": "code",
   "execution_count": 99,
   "metadata": {},
   "outputs": [],
   "source": [
    "# Import r2_score and mean_absolute_error functions\n",
    "from sklearn.metrics import r2_score\n",
    "from sklearn.metrics import mean_absolute_error"
   ]
  },
  {
   "cell_type": "markdown",
   "metadata": {},
   "source": [
    "* See how the models performed on unseen data"
   ]
  },
  {
   "cell_type": "code",
   "execution_count": 101,
   "metadata": {},
   "outputs": [
    {
     "data": {
      "text/plain": [
       "GridSearchCV(cv=10, error_score='raise-deprecating',\n",
       "       estimator=Pipeline(memory=None,\n",
       "     steps=[('standardscaler', StandardScaler(copy=True, with_mean=True, with_std=True)), ('randomforestregressor', RandomForestRegressor(bootstrap=True, criterion='mse', max_depth=None,\n",
       "           max_features='auto', max_leaf_nodes=None,\n",
       "           min_impurity_decrease=0.0, min_impurity_split=None,\n",
       "  ...rs='warn', n_jobs=None,\n",
       "           oob_score=False, random_state=123, verbose=0, warm_start=False))]),\n",
       "       fit_params=None, iid='warn', n_jobs=-1,\n",
       "       param_grid={'randomforestregressor__n_estimators': [100, 200], 'randomforestregressor__max_features': ['auto', 'sqrt', 0.33]},\n",
       "       pre_dispatch='2*n_jobs', refit=True, return_train_score='warn',\n",
       "       scoring=None, verbose=0)"
      ]
     },
     "execution_count": 101,
     "metadata": {},
     "output_type": "execute_result"
    }
   ],
   "source": [
    "# Display fitted random forest object\n",
    "fitted_models['rf']"
   ]
  },
  {
   "cell_type": "code",
   "execution_count": 102,
   "metadata": {},
   "outputs": [
    {
     "name": "stderr",
     "output_type": "stream",
     "text": [
      "/opt/conda/lib/python3.6/site-packages/sklearn/pipeline.py:331: DataConversionWarning: Data with input dtype int64, float64 were all converted to float64 by StandardScaler.\n",
      "  Xt = transform.transform(Xt)\n"
     ]
    }
   ],
   "source": [
    "# Predict test set using fitted random forest\n",
    "pred = fitted_models['rf'].predict(X_test)"
   ]
  },
  {
   "cell_type": "code",
   "execution_count": 104,
   "metadata": {},
   "outputs": [
    {
     "name": "stdout",
     "output_type": "stream",
     "text": [
      "R^2: 0.8203948904610905\n",
      "MAE: 48691.14258713138\n"
     ]
    }
   ],
   "source": [
    "# Calculate and print R^2 and MAE\n",
    "# first pass actual values to target variable\n",
    "# second pass predicted values to target variable\n",
    "print( 'R^2:', r2_score(y_test, pred ))\n",
    "print( 'MAE:', mean_absolute_error(y_test, pred))"
   ]
  },
  {
   "cell_type": "markdown",
   "metadata": {},
   "source": [
    "### Print performance of each fitted model"
   ]
  },
  {
   "cell_type": "code",
   "execution_count": 105,
   "metadata": {},
   "outputs": [
    {
     "name": "stdout",
     "output_type": "stream",
     "text": [
      "lasso\n",
      "--------\n",
      "R^2: 0.504219668092748\n",
      "MAE: 86527.24362176245\n",
      "\n",
      "ridge\n",
      "--------\n",
      "R^2: 0.5070371070676569\n",
      "MAE: 86339.59162615107\n",
      "\n",
      "enet\n",
      "--------\n",
      "R^2: 0.5059255601116107\n",
      "MAE: 86545.77404809612\n",
      "\n",
      "rf\n",
      "--------\n",
      "R^2: 0.8203948904610905\n",
      "MAE: 48691.14258713138\n",
      "\n",
      "gb\n",
      "--------\n",
      "R^2: 0.8273096905575231\n",
      "MAE: 47290.97201875595\n",
      "\n"
     ]
    },
    {
     "name": "stderr",
     "output_type": "stream",
     "text": [
      "/opt/conda/lib/python3.6/site-packages/sklearn/pipeline.py:331: DataConversionWarning: Data with input dtype int64, float64 were all converted to float64 by StandardScaler.\n",
      "  Xt = transform.transform(Xt)\n",
      "/opt/conda/lib/python3.6/site-packages/sklearn/pipeline.py:331: DataConversionWarning: Data with input dtype int64, float64 were all converted to float64 by StandardScaler.\n",
      "  Xt = transform.transform(Xt)\n",
      "/opt/conda/lib/python3.6/site-packages/sklearn/pipeline.py:331: DataConversionWarning: Data with input dtype int64, float64 were all converted to float64 by StandardScaler.\n",
      "  Xt = transform.transform(Xt)\n",
      "/opt/conda/lib/python3.6/site-packages/sklearn/pipeline.py:331: DataConversionWarning: Data with input dtype int64, float64 were all converted to float64 by StandardScaler.\n",
      "  Xt = transform.transform(Xt)\n",
      "/opt/conda/lib/python3.6/site-packages/sklearn/pipeline.py:331: DataConversionWarning: Data with input dtype int64, float64 were all converted to float64 by StandardScaler.\n",
      "  Xt = transform.transform(Xt)\n"
     ]
    }
   ],
   "source": [
    "# Code here\n",
    "for name, model in fitted_models.items():\n",
    "    pred = model.predict(X_test)\n",
    "    print( name )\n",
    "    print( '--------' )\n",
    "    print( 'R^2:', r2_score(y_test, pred ))\n",
    "    print( 'MAE:', mean_absolute_error(y_test, pred))\n",
    "    print()"
   ]
  },
  {
   "cell_type": "markdown",
   "metadata": {},
   "source": [
    "# Which Model is best?\n",
    "### higest R^2 : gradient boost\n",
    "### lowest mean absolute error : random forest\n",
    "### is error less than 70,000? : yes"
   ]
  },
  {
   "cell_type": "code",
   "execution_count": 106,
   "metadata": {},
   "outputs": [
    {
     "name": "stderr",
     "output_type": "stream",
     "text": [
      "/opt/conda/lib/python3.6/site-packages/sklearn/pipeline.py:331: DataConversionWarning: Data with input dtype int64, float64 were all converted to float64 by StandardScaler.\n",
      "  Xt = transform.transform(Xt)\n"
     ]
    },
    {
     "data": {
      "image/png": "[encoded data removed]",
      "text/plain": [
       "<Figure size 432x288 with 1 Axes>"
      ]
     },
     "metadata": {
      "needs_background": "light"
     },
     "output_type": "display_data"
    }
   ],
   "source": [
    "gb_pred = fitted_models['gb'].predict(X_test)\n",
    "plt.scatter(gb_pred, y_test)\n",
    "plt.xlabel('predicted')\n",
    "plt.ylabel('actual')\n",
    "plt.show()"
   ]
  },
  {
   "cell_type": "markdown",
   "metadata": {},
   "source": [
    "### Save Gradient Boost Model"
   ]
  },
  {
   "cell_type": "code",
   "execution_count": 107,
   "metadata": {},
   "outputs": [
    {
     "data": {
      "text/plain": [
       "sklearn.model_selection._search.GridSearchCV"
      ]
     },
     "execution_count": 107,
     "metadata": {},
     "output_type": "execute_result"
    }
   ],
   "source": [
    "type(fitted_models['gb'])"
   ]
  },
  {
   "cell_type": "code",
   "execution_count": 108,
   "metadata": {},
   "outputs": [
    {
     "data": {
      "text/plain": [
       "sklearn.pipeline.Pipeline"
      ]
     },
     "execution_count": 108,
     "metadata": {},
     "output_type": "execute_result"
    }
   ],
   "source": [
    "type(fitted_models['gb'].best_estimator_)"
   ]
  },
  {
   "cell_type": "code",
   "execution_count": 110,
   "metadata": {},
   "outputs": [
    {
     "data": {
      "text/plain": [
       "Pipeline(memory=None,\n",
       "     steps=[('standardscaler', StandardScaler(copy=True, with_mean=True, with_std=True)), ('gradientboostingregressor', GradientBoostingRegressor(alpha=0.9, criterion='friedman_mse', init=None,\n",
       "             learning_rate=0.05, loss='ls', max_depth=3, max_features=None,\n",
       "             max_leaf_nodes=None, m...123, subsample=1.0, tol=0.0001,\n",
       "             validation_fraction=0.1, verbose=0, warm_start=False))])"
      ]
     },
     "execution_count": 110,
     "metadata": {},
     "output_type": "execute_result"
    }
   ],
   "source": [
    "fitted_models['gb'].best_estimator_"
   ]
  },
  {
   "cell_type": "markdown",
   "metadata": {},
   "source": [
    "* max_depth =3\n",
    "* learning rate=0.05"
   ]
  },
  {
   "cell_type": "markdown",
   "metadata": {},
   "source": [
    "# Refernences and Appendix"
   ]
  },
  {
   "cell_type": "markdown",
   "metadata": {},
   "source": [
    "1. Python Data Science Essentials - Alberto Boschetti 2016\n",
    "2. Python for Probability, Statistics, and Machine Learning Jose Unpingco 2016\n",
    "3. Deep Learning for Python Jason Brownlee 2017\n",
    "4. Python Notes for Professionals - Goalkicker.com\n",
    "5. Quantlib python cookbok - Goutham Balaram 2017\n",
    "6. Machine Learning Mastery w Python -Jason Brownlee 2017"
   ]
  },
  {
   "cell_type": "code",
   "execution_count": null,
   "metadata": {},
   "outputs": [],
   "source": []
  },
  {
   "cell_type": "code",
   "execution_count": null,
   "metadata": {},
   "outputs": [],
   "source": []
  },
  {
   "cell_type": "code",
   "execution_count": null,
   "metadata": {},
   "outputs": [],
   "source": []
  },
  {
   "cell_type": "code",
   "execution_count": null,
   "metadata": {},
   "outputs": [],
   "source": []
  },
  {
   "cell_type": "code",
   "execution_count": null,
   "metadata": {},
   "outputs": [],
   "source": []
  }
 ],
 "metadata": {
  "kernelspec": {
   "display_name": "Python 3",
   "language": "python",
   "name": "python3"
  },
  "language_info": {
   "codemirror_mode": {
    "name": "ipython",
    "version": 3
   },
   "file_extension": ".py",
   "mimetype": "text/x-python",
   "name": "python",
   "nbconvert_exporter": "python",
   "pygments_lexer": "ipython3",
   "version": "3.6.5"
  }
 },
 "nbformat": 4,
 "nbformat_minor": 2
}
