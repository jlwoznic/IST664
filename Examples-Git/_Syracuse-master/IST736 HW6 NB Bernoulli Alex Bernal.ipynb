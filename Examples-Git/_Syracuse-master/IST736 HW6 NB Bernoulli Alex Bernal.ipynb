{
 "cells": [
  {
   "cell_type": "markdown",
   "metadata": {},
   "source": [
    "# Import Libraries"
   ]
  },
  {
   "cell_type": "code",
   "execution_count": 1,
   "metadata": {
    "ExecuteTime": {
     "end_time": "2019-04-30T02:39:47.708929Z",
     "start_time": "2019-04-30T02:39:46.329059Z"
    }
   },
   "outputs": [
    {
     "data": {
      "text/html": [
       "<div>\n",
       "<style scoped>\n",
       "    .dataframe tbody tr th:only-of-type {\n",
       "        vertical-align: middle;\n",
       "    }\n",
       "\n",
       "    .dataframe tbody tr th {\n",
       "        vertical-align: top;\n",
       "    }\n",
       "\n",
       "    .dataframe thead th {\n",
       "        text-align: right;\n",
       "    }\n",
       "</style>\n",
       "<table border=\"1\" class=\"dataframe\">\n",
       "  <thead>\n",
       "    <tr style=\"text-align: right;\">\n",
       "      <th></th>\n",
       "      <th>lie</th>\n",
       "      <th>sentiment</th>\n",
       "      <th>review</th>\n",
       "    </tr>\n",
       "  </thead>\n",
       "  <tbody>\n",
       "    <tr>\n",
       "      <th>0</th>\n",
       "      <td>f</td>\n",
       "      <td>n</td>\n",
       "      <td>'Mike\\'s Pizza High Point, NY Service was very...</td>\n",
       "    </tr>\n",
       "    <tr>\n",
       "      <th>1</th>\n",
       "      <td>f</td>\n",
       "      <td>n</td>\n",
       "      <td>'i really like this buffet restaurant in Marsh...</td>\n",
       "    </tr>\n",
       "    <tr>\n",
       "      <th>2</th>\n",
       "      <td>f</td>\n",
       "      <td>n</td>\n",
       "      <td>'After I went shopping with some of my friend,...</td>\n",
       "    </tr>\n",
       "    <tr>\n",
       "      <th>3</th>\n",
       "      <td>f</td>\n",
       "      <td>n</td>\n",
       "      <td>'Olive Oil Garden was very disappointing. I ex...</td>\n",
       "    </tr>\n",
       "    <tr>\n",
       "      <th>4</th>\n",
       "      <td>f</td>\n",
       "      <td>n</td>\n",
       "      <td>'The Seven Heaven restaurant was never known f...</td>\n",
       "    </tr>\n",
       "    <tr>\n",
       "      <th>5</th>\n",
       "      <td>f</td>\n",
       "      <td>n</td>\n",
       "      <td>'I went to XYZ restaurant and had a terrible e...</td>\n",
       "    </tr>\n",
       "    <tr>\n",
       "      <th>6</th>\n",
       "      <td>f</td>\n",
       "      <td>n</td>\n",
       "      <td>'I went to ABC restaurant two days ago and I h...</td>\n",
       "    </tr>\n",
       "    <tr>\n",
       "      <th>7</th>\n",
       "      <td>f</td>\n",
       "      <td>n</td>\n",
       "      <td>'I went to the Chilis on Erie Blvd and had the...</td>\n",
       "    </tr>\n",
       "    <tr>\n",
       "      <th>8</th>\n",
       "      <td>f</td>\n",
       "      <td>n</td>\n",
       "      <td>'OMG. This restaurant is horrible. The recepti...</td>\n",
       "    </tr>\n",
       "    <tr>\n",
       "      <th>9</th>\n",
       "      <td>f</td>\n",
       "      <td>n</td>\n",
       "      <td>'Yesterday, I went to a casino-restaurant call...</td>\n",
       "    </tr>\n",
       "  </tbody>\n",
       "</table>\n",
       "</div>"
      ],
      "text/plain": [
       "  lie sentiment                                             review\n",
       "0   f         n  'Mike\\'s Pizza High Point, NY Service was very...\n",
       "1   f         n  'i really like this buffet restaurant in Marsh...\n",
       "2   f         n  'After I went shopping with some of my friend,...\n",
       "3   f         n  'Olive Oil Garden was very disappointing. I ex...\n",
       "4   f         n  'The Seven Heaven restaurant was never known f...\n",
       "5   f         n  'I went to XYZ restaurant and had a terrible e...\n",
       "6   f         n  'I went to ABC restaurant two days ago and I h...\n",
       "7   f         n  'I went to the Chilis on Erie Blvd and had the...\n",
       "8   f         n  'OMG. This restaurant is horrible. The recepti...\n",
       "9   f         n  'Yesterday, I went to a casino-restaurant call..."
      ]
     },
     "execution_count": 1,
     "metadata": {},
     "output_type": "execute_result"
    }
   ],
   "source": [
    "import pandas as pd\n",
    "import numpy as np\n",
    "# Prevent future/deprecation warnings from showing in output\n",
    "import warnings\n",
    "warnings.filterwarnings(action='ignore')\n",
    "\n",
    "import sklearn\n",
    "from sklearn.naive_bayes import BernoulliNB\n",
    "from sklearn.naive_bayes import GaussianNB\n",
    "from sklearn.naive_bayes import MultinomialNB\n",
    "from sklearn import metrics\n",
    "from sklearn.metrics import accuracy_score\n",
    "from sklearn.feature_extraction.text import CountVectorizer\n",
    "\n",
    "#df = pd.read_csv(\"C://Users//User//Desktop/deception_data_converted_final_Alex.csv\", sep=',', engine='python')\n",
    "df = pd.read_csv('C:\\\\Users\\\\User\\\\Documents\\\\deception_data_converted_final.tsv', sep='\\t')\n",
    "df.head(10)"
   ]
  },
  {
   "cell_type": "code",
   "execution_count": 2,
   "metadata": {
    "ExecuteTime": {
     "end_time": "2019-04-30T02:39:47.713922Z",
     "start_time": "2019-04-30T02:39:47.709926Z"
    }
   },
   "outputs": [
    {
     "data": {
      "text/plain": [
       "lie          0\n",
       "sentiment    0\n",
       "review       0\n",
       "dtype: int64"
      ]
     },
     "execution_count": 2,
     "metadata": {},
     "output_type": "execute_result"
    }
   ],
   "source": [
    "# Check for NaN values:\n",
    "df.isnull().sum()"
   ]
  },
  {
   "cell_type": "code",
   "execution_count": 3,
   "metadata": {
    "ExecuteTime": {
     "end_time": "2019-04-30T02:39:47.722917Z",
     "start_time": "2019-04-30T02:39:47.714925Z"
    }
   },
   "outputs": [],
   "source": [
    "# Create Feature and Label sets\n",
    "X = df['review']  # note the double set of brackets\n",
    "y = df['sentiment']"
   ]
  },
  {
   "cell_type": "code",
   "execution_count": 4,
   "metadata": {
    "ExecuteTime": {
     "end_time": "2019-04-30T02:39:47.744861Z",
     "start_time": "2019-04-30T02:39:47.724888Z"
    }
   },
   "outputs": [
    {
     "name": "stdout",
     "output_type": "stream",
     "text": [
      "Training Data Shape: (61,)\n",
      "Testing Data Shape:  (31,)\n"
     ]
    }
   ],
   "source": [
    "from sklearn.model_selection import train_test_split\n",
    "\n",
    "X_train, X_test, y_train, y_test = train_test_split(X, y, test_size=0.33, random_state=42)\n",
    "\n",
    "print('Training Data Shape:', X_train.shape)\n",
    "print('Testing Data Shape: ', X_test.shape)"
   ]
  },
  {
   "cell_type": "markdown",
   "metadata": {},
   "source": [
    "# Multinomial Naive bayes #1"
   ]
  },
  {
   "cell_type": "code",
   "execution_count": 5,
   "metadata": {
    "ExecuteTime": {
     "end_time": "2019-04-30T02:39:47.758796Z",
     "start_time": "2019-04-30T02:39:47.746829Z"
    }
   },
   "outputs": [
    {
     "data": {
      "text/plain": [
       "Pipeline(memory=None,\n",
       "     steps=[('vect', CountVectorizer(analyzer='word', binary=False, decode_error='strict',\n",
       "        dtype=<class 'numpy.int64'>, encoding='utf-8', input='content',\n",
       "        lowercase=True, max_df=1.0, max_features=None, min_df=1,\n",
       "        ngram_range=(1, 1), preprocessor=None, stop_words=None,\n",
       "        strip...inear_tf=False, use_idf=True)), ('clf', MultinomialNB(alpha=1.0, class_prior=None, fit_prior=True))])"
      ]
     },
     "execution_count": 5,
     "metadata": {},
     "output_type": "execute_result"
    }
   ],
   "source": [
    "#multinomial #1\n",
    "from sklearn.naive_bayes import MultinomialNB\n",
    "from sklearn.pipeline import Pipeline\n",
    "from sklearn.feature_extraction.text import TfidfTransformer\n",
    "\n",
    "nb = Pipeline([('vect', CountVectorizer()),\n",
    "               ('tfidf', TfidfTransformer()),\n",
    "               ('clf', MultinomialNB()),\n",
    "              ])\n",
    "nb.fit(X_train, y_train)"
   ]
  },
  {
   "cell_type": "code",
   "execution_count": 6,
   "metadata": {
    "ExecuteTime": {
     "end_time": "2019-04-30T02:39:47.768769Z",
     "start_time": "2019-04-30T02:39:47.759794Z"
    }
   },
   "outputs": [
    {
     "name": "stdout",
     "output_type": "stream",
     "text": [
      "accuracy 0.8709677419354839\n",
      "              precision    recall  f1-score   support\n",
      "\n",
      "           n       1.00      0.78      0.88        18\n",
      "           p       0.76      1.00      0.87        13\n",
      "\n",
      "   micro avg       0.87      0.87      0.87        31\n",
      "   macro avg       0.88      0.89      0.87        31\n",
      "weighted avg       0.90      0.87      0.87        31\n",
      "\n"
     ]
    }
   ],
   "source": [
    "from sklearn.metrics import classification_report\n",
    "y_pred = nb.predict(X_test)\n",
    "\n",
    "print('accuracy %s' % accuracy_score(y_pred, y_test))\n",
    "print(classification_report(y_test, y_pred))"
   ]
  },
  {
   "cell_type": "markdown",
   "metadata": {},
   "source": [
    "# Bernoulli #1"
   ]
  },
  {
   "cell_type": "code",
   "execution_count": 7,
   "metadata": {
    "ExecuteTime": {
     "end_time": "2019-04-30T02:39:47.779768Z",
     "start_time": "2019-04-30T02:39:47.769778Z"
    }
   },
   "outputs": [],
   "source": [
    "# Bernoulli \n",
    "from sklearn.naive_bayes import BernoulliNB\n",
    "from sklearn.pipeline import Pipeline\n",
    "from sklearn.feature_extraction.text import TfidfTransformer\n",
    "\n",
    "nb = Pipeline([('vect', CountVectorizer()),\n",
    "               ('tfidf', TfidfTransformer()),\n",
    "               ('clf', BernoulliNB()),\n",
    "              ])\n",
    "nb.fit(X_train, y_train)\n",
    "\n",
    "BernNB  = BernoulliNB(binarize = True)\n",
    "# binarize = 0.1 > Values greater than the threshold(0.1) map to 1, \n",
    "# while values less than or equal to the threshold map to 0.\n",
    "# It can also be used as a pre-processing step for estimators\n",
    "\n"
   ]
  },
  {
   "cell_type": "code",
   "execution_count": 8,
   "metadata": {
    "ExecuteTime": {
     "end_time": "2019-04-30T02:39:47.791733Z",
     "start_time": "2019-04-30T02:39:47.781734Z"
    }
   },
   "outputs": [
    {
     "data": {
      "text/plain": [
       "CountVectorizer(analyzer='word', binary=False, decode_error='strict',\n",
       "        dtype=<class 'numpy.int64'>, encoding='utf-8', input='content',\n",
       "        lowercase=True, max_df=1.0, max_features=None, min_df=1,\n",
       "        ngram_range=(1, 1), preprocessor=None, stop_words='english',\n",
       "        strip_accents=None, token_pattern='(?u)\\\\b\\\\w\\\\w+\\\\b',\n",
       "        tokenizer=None, vocabulary=None)"
      ]
     },
     "execution_count": 8,
     "metadata": {},
     "output_type": "execute_result"
    }
   ],
   "source": [
    "from sklearn.feature_extraction.text import CountVectorizer\n",
    "\n",
    "# vectorising the text\n",
    "vect = CountVectorizer(stop_words='english')\n",
    "vect.fit(X_train)"
   ]
  },
  {
   "cell_type": "code",
   "execution_count": 9,
   "metadata": {
    "ExecuteTime": {
     "end_time": "2019-04-30T02:39:47.802702Z",
     "start_time": "2019-04-30T02:39:47.792723Z"
    }
   },
   "outputs": [],
   "source": [
    "# transform\n",
    "X_train_transformed = vect.transform(X_train)\n",
    "X_test_tranformed =vect.transform(X_test)"
   ]
  },
  {
   "cell_type": "code",
   "execution_count": 10,
   "metadata": {
    "ExecuteTime": {
     "end_time": "2019-04-30T02:39:47.816665Z",
     "start_time": "2019-04-30T02:39:47.803700Z"
    }
   },
   "outputs": [
    {
     "data": {
      "text/plain": [
       "0.7096774193548387"
      ]
     },
     "execution_count": 10,
     "metadata": {},
     "output_type": "execute_result"
    }
   ],
   "source": [
    "from sklearn.naive_bayes import BernoulliNB\n",
    "\n",
    "# instantiate bernoulli NB object\n",
    "bnb = BernoulliNB()\n",
    "# fit \n",
    "bnb.fit(X_train_transformed,y_train)\n",
    "\n",
    "# predict class\n",
    "y_pred_class = bnb.predict(X_test_tranformed)\n",
    "\n",
    "# predict probability\n",
    "y_pred_proba =bnb.predict_proba(X_test_tranformed)\n",
    "\n",
    "# accuracy\n",
    "from sklearn import metrics\n",
    "metrics.accuracy_score(y_test, y_pred_class)"
   ]
  },
  {
   "cell_type": "code",
   "execution_count": 11,
   "metadata": {
    "ExecuteTime": {
     "end_time": "2019-04-30T02:39:47.825642Z",
     "start_time": "2019-04-30T02:39:47.817662Z"
    }
   },
   "outputs": [
    {
     "name": "stdout",
     "output_type": "stream",
     "text": [
      "              precision    recall  f1-score   support\n",
      "\n",
      "           n       1.00      0.50      0.67        18\n",
      "           p       0.59      1.00      0.74        13\n",
      "\n",
      "   micro avg       0.71      0.71      0.71        31\n",
      "   macro avg       0.80      0.75      0.70        31\n",
      "weighted avg       0.83      0.71      0.70        31\n",
      "\n"
     ]
    }
   ],
   "source": [
    "# accuracy\n",
    "from sklearn import metrics\n",
    "from sklearn.metrics import classification_report\n",
    "y_pred = bnb.predict(X_test_tranformed)\n",
    "print(classification_report(y_test, y_pred_class))"
   ]
  },
  {
   "cell_type": "markdown",
   "metadata": {},
   "source": [
    "# Modeling with Data Processing"
   ]
  },
  {
   "cell_type": "code",
   "execution_count": 12,
   "metadata": {
    "ExecuteTime": {
     "end_time": "2019-04-30T02:39:47.836618Z",
     "start_time": "2019-04-30T02:39:47.826615Z"
    }
   },
   "outputs": [
    {
     "data": {
      "text/html": [
       "<div>\n",
       "<style scoped>\n",
       "    .dataframe tbody tr th:only-of-type {\n",
       "        vertical-align: middle;\n",
       "    }\n",
       "\n",
       "    .dataframe tbody tr th {\n",
       "        vertical-align: top;\n",
       "    }\n",
       "\n",
       "    .dataframe thead th {\n",
       "        text-align: right;\n",
       "    }\n",
       "</style>\n",
       "<table border=\"1\" class=\"dataframe\">\n",
       "  <thead>\n",
       "    <tr style=\"text-align: right;\">\n",
       "      <th></th>\n",
       "      <th>lie</th>\n",
       "      <th>sentiment</th>\n",
       "      <th>review</th>\n",
       "    </tr>\n",
       "  </thead>\n",
       "  <tbody>\n",
       "    <tr>\n",
       "      <th>0</th>\n",
       "      <td>f</td>\n",
       "      <td>n</td>\n",
       "      <td>'Mike\\'s Pizza High Point, NY Service was very...</td>\n",
       "    </tr>\n",
       "    <tr>\n",
       "      <th>1</th>\n",
       "      <td>f</td>\n",
       "      <td>n</td>\n",
       "      <td>'i really like this buffet restaurant in Marsh...</td>\n",
       "    </tr>\n",
       "    <tr>\n",
       "      <th>2</th>\n",
       "      <td>f</td>\n",
       "      <td>n</td>\n",
       "      <td>'After I went shopping with some of my friend,...</td>\n",
       "    </tr>\n",
       "    <tr>\n",
       "      <th>3</th>\n",
       "      <td>f</td>\n",
       "      <td>n</td>\n",
       "      <td>'Olive Oil Garden was very disappointing. I ex...</td>\n",
       "    </tr>\n",
       "    <tr>\n",
       "      <th>4</th>\n",
       "      <td>f</td>\n",
       "      <td>n</td>\n",
       "      <td>'The Seven Heaven restaurant was never known f...</td>\n",
       "    </tr>\n",
       "    <tr>\n",
       "      <th>5</th>\n",
       "      <td>f</td>\n",
       "      <td>n</td>\n",
       "      <td>'I went to XYZ restaurant and had a terrible e...</td>\n",
       "    </tr>\n",
       "    <tr>\n",
       "      <th>6</th>\n",
       "      <td>f</td>\n",
       "      <td>n</td>\n",
       "      <td>'I went to ABC restaurant two days ago and I h...</td>\n",
       "    </tr>\n",
       "    <tr>\n",
       "      <th>7</th>\n",
       "      <td>f</td>\n",
       "      <td>n</td>\n",
       "      <td>'I went to the Chilis on Erie Blvd and had the...</td>\n",
       "    </tr>\n",
       "    <tr>\n",
       "      <th>8</th>\n",
       "      <td>f</td>\n",
       "      <td>n</td>\n",
       "      <td>'OMG. This restaurant is horrible. The recepti...</td>\n",
       "    </tr>\n",
       "    <tr>\n",
       "      <th>9</th>\n",
       "      <td>f</td>\n",
       "      <td>n</td>\n",
       "      <td>'Yesterday, I went to a casino-restaurant call...</td>\n",
       "    </tr>\n",
       "  </tbody>\n",
       "</table>\n",
       "</div>"
      ],
      "text/plain": [
       "  lie sentiment                                             review\n",
       "0   f         n  'Mike\\'s Pizza High Point, NY Service was very...\n",
       "1   f         n  'i really like this buffet restaurant in Marsh...\n",
       "2   f         n  'After I went shopping with some of my friend,...\n",
       "3   f         n  'Olive Oil Garden was very disappointing. I ex...\n",
       "4   f         n  'The Seven Heaven restaurant was never known f...\n",
       "5   f         n  'I went to XYZ restaurant and had a terrible e...\n",
       "6   f         n  'I went to ABC restaurant two days ago and I h...\n",
       "7   f         n  'I went to the Chilis on Erie Blvd and had the...\n",
       "8   f         n  'OMG. This restaurant is horrible. The recepti...\n",
       "9   f         n  'Yesterday, I went to a casino-restaurant call..."
      ]
     },
     "execution_count": 12,
     "metadata": {},
     "output_type": "execute_result"
    }
   ],
   "source": [
    "df2 = df\n",
    "df2.head(10)"
   ]
  },
  {
   "cell_type": "markdown",
   "metadata": {},
   "source": [
    "## Data Cleaning Stopwords, punct, symbols"
   ]
  },
  {
   "cell_type": "code",
   "execution_count": 13,
   "metadata": {
    "ExecuteTime": {
     "end_time": "2019-04-30T02:39:48.366276Z",
     "start_time": "2019-04-30T02:39:47.837586Z"
    }
   },
   "outputs": [
    {
     "data": {
      "text/html": [
       "<div>\n",
       "<style scoped>\n",
       "    .dataframe tbody tr th:only-of-type {\n",
       "        vertical-align: middle;\n",
       "    }\n",
       "\n",
       "    .dataframe tbody tr th {\n",
       "        vertical-align: top;\n",
       "    }\n",
       "\n",
       "    .dataframe thead th {\n",
       "        text-align: right;\n",
       "    }\n",
       "</style>\n",
       "<table border=\"1\" class=\"dataframe\">\n",
       "  <thead>\n",
       "    <tr style=\"text-align: right;\">\n",
       "      <th></th>\n",
       "      <th>lie</th>\n",
       "      <th>sentiment</th>\n",
       "      <th>review</th>\n",
       "    </tr>\n",
       "  </thead>\n",
       "  <tbody>\n",
       "    <tr>\n",
       "      <th>0</th>\n",
       "      <td>f</td>\n",
       "      <td>n</td>\n",
       "      <td>mikes pizza high point ny service slow quality...</td>\n",
       "    </tr>\n",
       "    <tr>\n",
       "      <th>1</th>\n",
       "      <td>f</td>\n",
       "      <td>n</td>\n",
       "      <td>really like buffet restaurant marshall street ...</td>\n",
       "    </tr>\n",
       "    <tr>\n",
       "      <th>2</th>\n",
       "      <td>f</td>\n",
       "      <td>n</td>\n",
       "      <td>went shopping friend went dodo restaurant dinn...</td>\n",
       "    </tr>\n",
       "    <tr>\n",
       "      <th>3</th>\n",
       "      <td>f</td>\n",
       "      <td>n</td>\n",
       "      <td>olive oil garden disappointing expect good foo...</td>\n",
       "    </tr>\n",
       "    <tr>\n",
       "      <th>4</th>\n",
       "      <td>f</td>\n",
       "      <td>n</td>\n",
       "      <td>seven heaven restaurant never known superior s...</td>\n",
       "    </tr>\n",
       "  </tbody>\n",
       "</table>\n",
       "</div>"
      ],
      "text/plain": [
       "  lie sentiment                                             review\n",
       "0   f         n  mikes pizza high point ny service slow quality...\n",
       "1   f         n  really like buffet restaurant marshall street ...\n",
       "2   f         n  went shopping friend went dodo restaurant dinn...\n",
       "3   f         n  olive oil garden disappointing expect good foo...\n",
       "4   f         n  seven heaven restaurant never known superior s..."
      ]
     },
     "execution_count": 13,
     "metadata": {},
     "output_type": "execute_result"
    }
   ],
   "source": [
    "import itertools\n",
    "from nltk.corpus import stopwords\n",
    "import re\n",
    "from bs4 import BeautifulSoup\n",
    "%matplotlib inline\n",
    "\n",
    "REPLACE_BY_SPACE_RE = re.compile('[/(){}\\[\\]\\|@,;]')\n",
    "BAD_SYMBOLS_RE = re.compile('[^0-9a-z #+_]')\n",
    "STOPWORDS = set(stopwords.words('english'))\n",
    "\n",
    "def clean_text(text):\n",
    "    \"\"\"\n",
    "        text: a string\n",
    "        \n",
    "        return: modified initial string\n",
    "    \"\"\"\n",
    "    text = BeautifulSoup(text, \"lxml\").text # HTML decoding. BeautifulSoup's text attribute will return a string stripped of any HTML tags and metadata.\n",
    "    text = text.lower() # lowercase text\n",
    "    text = REPLACE_BY_SPACE_RE.sub(' ', text) # replace REPLACE_BY_SPACE_RE symbols by space in text. substitute the matched string in REPLACE_BY_SPACE_RE with space.\n",
    "    text = BAD_SYMBOLS_RE.sub('', text) # remove symbols which are in BAD_SYMBOLS_RE from text. substitute the matched string in BAD_SYMBOLS_RE with nothing. \n",
    "    text = ' '.join(word for word in text.split() if word not in STOPWORDS) # remove stopwors from text\n",
    "    return text\n",
    "\n",
    "df2['review'] = df2['review'].apply(clean_text)\n",
    "df2.head()"
   ]
  },
  {
   "cell_type": "markdown",
   "metadata": {},
   "source": [
    "# MultiNomial Bayes #2 Processed"
   ]
  },
  {
   "cell_type": "code",
   "execution_count": 14,
   "metadata": {
    "ExecuteTime": {
     "end_time": "2019-04-30T02:39:48.383203Z",
     "start_time": "2019-04-30T02:39:48.367273Z"
    }
   },
   "outputs": [
    {
     "name": "stdout",
     "output_type": "stream",
     "text": [
      "accuracy 0.7419354838709677\n",
      "              precision    recall  f1-score   support\n",
      "\n",
      "           n       1.00      0.56      0.71        18\n",
      "           p       0.62      1.00      0.76        13\n",
      "\n",
      "   micro avg       0.74      0.74      0.74        31\n",
      "   macro avg       0.81      0.78      0.74        31\n",
      "weighted avg       0.84      0.74      0.74        31\n",
      "\n"
     ]
    }
   ],
   "source": [
    "# Create Feature and Label sets\n",
    "X = df2['review']  # note the double set of brackets\n",
    "y = df2['sentiment']\n",
    "\n",
    "from sklearn.model_selection import train_test_split\n",
    "\n",
    "X_train, X_test, y_train, y_test = train_test_split(X, y, test_size=0.33, random_state=42)\n",
    "\n",
    "from sklearn.naive_bayes import MultinomialNB\n",
    "from sklearn.pipeline import Pipeline\n",
    "from sklearn.feature_extraction.text import TfidfTransformer\n",
    "\n",
    "nb = Pipeline([('vect', CountVectorizer()),\n",
    "               ('tfidf', TfidfTransformer()),\n",
    "               ('clf', MultinomialNB()),\n",
    "              ])\n",
    "nb.fit(X_train, y_train)\n",
    "\n",
    "from sklearn.metrics import classification_report\n",
    "y_pred = nb.predict(X_test)\n",
    "\n",
    "print('accuracy %s' % accuracy_score(y_pred, y_test))\n",
    "print(classification_report(y_test, y_pred))"
   ]
  },
  {
   "cell_type": "markdown",
   "metadata": {},
   "source": [
    "# Bernoulli #2 processed"
   ]
  },
  {
   "cell_type": "code",
   "execution_count": 15,
   "metadata": {
    "ExecuteTime": {
     "end_time": "2019-04-30T02:39:48.416115Z",
     "start_time": "2019-04-30T02:39:48.384201Z"
    }
   },
   "outputs": [
    {
     "name": "stdout",
     "output_type": "stream",
     "text": [
      "accuracy 0.7096774193548387\n",
      "              precision    recall  f1-score   support\n",
      "\n",
      "           n       1.00      0.50      0.67        18\n",
      "           p       0.59      1.00      0.74        13\n",
      "\n",
      "   micro avg       0.71      0.71      0.71        31\n",
      "   macro avg       0.80      0.75      0.70        31\n",
      "weighted avg       0.83      0.71      0.70        31\n",
      "\n"
     ]
    }
   ],
   "source": [
    "nb = Pipeline([('vect', CountVectorizer()),\n",
    "               ('tfidf', TfidfTransformer()),\n",
    "               ('clf', BernoulliNB()),\n",
    "              ])\n",
    "nb.fit(X_train, y_train)\n",
    "\n",
    "BernNB  = BernoulliNB(binarize = 1)\n",
    "# binarize = 0.1 > Values greater than the threshold(0.1) map to 1, \n",
    "\n",
    "# vectorising the text\n",
    "vect = CountVectorizer(stop_words='english')\n",
    "vect.fit(X_train)\n",
    "\n",
    "# transform\n",
    "X_train_transformed = vect.transform(X_train)\n",
    "X_test_tranformed =vect.transform(X_test)\n",
    "\n",
    "# instantiate bernoulli NB object\n",
    "bnb = BernoulliNB()\n",
    "# fit \n",
    "bnb.fit(X_train_transformed,y_train)\n",
    "\n",
    "# predict class\n",
    "y_pred_class = bnb.predict(X_test_tranformed)\n",
    "\n",
    "# predict probability\n",
    "y_pred_proba =bnb.predict_proba(X_test_tranformed)\n",
    "\n",
    "\n",
    "metrics.accuracy_score(y_test, y_pred_class)\n",
    "\n",
    "y_pred = bnb.predict(X_test_tranformed)\n",
    "\n",
    "print('accuracy %s' % accuracy_score(y_pred_class, y_test))\n",
    "print(classification_report(y_test, y_pred_class))"
   ]
  },
  {
   "cell_type": "markdown",
   "metadata": {},
   "source": [
    "# MNB #3 on Truth"
   ]
  },
  {
   "cell_type": "code",
   "execution_count": 16,
   "metadata": {
    "ExecuteTime": {
     "end_time": "2019-04-30T02:39:48.427113Z",
     "start_time": "2019-04-30T02:39:48.418110Z"
    }
   },
   "outputs": [
    {
     "data": {
      "text/html": [
       "<div>\n",
       "<style scoped>\n",
       "    .dataframe tbody tr th:only-of-type {\n",
       "        vertical-align: middle;\n",
       "    }\n",
       "\n",
       "    .dataframe tbody tr th {\n",
       "        vertical-align: top;\n",
       "    }\n",
       "\n",
       "    .dataframe thead th {\n",
       "        text-align: right;\n",
       "    }\n",
       "</style>\n",
       "<table border=\"1\" class=\"dataframe\">\n",
       "  <thead>\n",
       "    <tr style=\"text-align: right;\">\n",
       "      <th></th>\n",
       "      <th>lie</th>\n",
       "      <th>sentiment</th>\n",
       "      <th>review</th>\n",
       "    </tr>\n",
       "  </thead>\n",
       "  <tbody>\n",
       "    <tr>\n",
       "      <th>0</th>\n",
       "      <td>f</td>\n",
       "      <td>n</td>\n",
       "      <td>mikes pizza high point ny service slow quality...</td>\n",
       "    </tr>\n",
       "    <tr>\n",
       "      <th>1</th>\n",
       "      <td>f</td>\n",
       "      <td>n</td>\n",
       "      <td>really like buffet restaurant marshall street ...</td>\n",
       "    </tr>\n",
       "    <tr>\n",
       "      <th>2</th>\n",
       "      <td>f</td>\n",
       "      <td>n</td>\n",
       "      <td>went shopping friend went dodo restaurant dinn...</td>\n",
       "    </tr>\n",
       "    <tr>\n",
       "      <th>3</th>\n",
       "      <td>f</td>\n",
       "      <td>n</td>\n",
       "      <td>olive oil garden disappointing expect good foo...</td>\n",
       "    </tr>\n",
       "    <tr>\n",
       "      <th>4</th>\n",
       "      <td>f</td>\n",
       "      <td>n</td>\n",
       "      <td>seven heaven restaurant never known superior s...</td>\n",
       "    </tr>\n",
       "  </tbody>\n",
       "</table>\n",
       "</div>"
      ],
      "text/plain": [
       "  lie sentiment                                             review\n",
       "0   f         n  mikes pizza high point ny service slow quality...\n",
       "1   f         n  really like buffet restaurant marshall street ...\n",
       "2   f         n  went shopping friend went dodo restaurant dinn...\n",
       "3   f         n  olive oil garden disappointing expect good foo...\n",
       "4   f         n  seven heaven restaurant never known superior s..."
      ]
     },
     "execution_count": 16,
     "metadata": {},
     "output_type": "execute_result"
    }
   ],
   "source": [
    "df3 = df2\n",
    "df3.head()"
   ]
  },
  {
   "cell_type": "markdown",
   "metadata": {},
   "source": []
  },
  {
   "cell_type": "code",
   "execution_count": 20,
   "metadata": {
    "ExecuteTime": {
     "end_time": "2019-04-30T02:43:32.125605Z",
     "start_time": "2019-04-30T02:43:32.110644Z"
    }
   },
   "outputs": [
    {
     "name": "stdout",
     "output_type": "stream",
     "text": [
      "accuracy 0.5806451612903226\n",
      "              precision    recall  f1-score   support\n",
      "\n",
      "           f       0.59      0.62      0.61        16\n",
      "           t       0.57      0.53      0.55        15\n",
      "\n",
      "   micro avg       0.58      0.58      0.58        31\n",
      "   macro avg       0.58      0.58      0.58        31\n",
      "weighted avg       0.58      0.58      0.58        31\n",
      "\n"
     ]
    }
   ],
   "source": [
    "# Create Feature and Label sets\n",
    "X2 = df3['review']  # note the double set of brackets\n",
    "y2 = df3['lie']\n",
    "\n",
    "from sklearn.model_selection import train_test_split\n",
    "\n",
    "X_train, X_test, y_train, y_test = train_test_split(X2, y2, test_size=0.33, random_state=42)\n",
    "\n",
    "from sklearn.naive_bayes import MultinomialNB\n",
    "from sklearn.pipeline import Pipeline\n",
    "from sklearn.feature_extraction.text import TfidfTransformer\n",
    "\n",
    "nb = Pipeline([('vect', CountVectorizer()),\n",
    "               ('tfidf', TfidfTransformer()),\n",
    "               ('clf', MultinomialNB()),\n",
    "              ])\n",
    "nb.fit(X_train, y_train)\n",
    "\n",
    "from sklearn.metrics import classification_report\n",
    "y_pred = nb.predict(X_test)\n",
    "\n",
    "print('accuracy %s' % accuracy_score(y_pred, y_test))\n",
    "print(classification_report(y_test, y_pred))"
   ]
  },
  {
   "cell_type": "markdown",
   "metadata": {},
   "source": [
    "# Bernoulli #3 processed"
   ]
  },
  {
   "cell_type": "code",
   "execution_count": 21,
   "metadata": {
    "ExecuteTime": {
     "end_time": "2019-04-30T02:43:37.017592Z",
     "start_time": "2019-04-30T02:43:36.994653Z"
    }
   },
   "outputs": [
    {
     "name": "stdout",
     "output_type": "stream",
     "text": [
      "accuracy 0.5806451612903226\n",
      "              precision    recall  f1-score   support\n",
      "\n",
      "           f       0.71      0.31      0.43        16\n",
      "           t       0.54      0.87      0.67        15\n",
      "\n",
      "   micro avg       0.58      0.58      0.58        31\n",
      "   macro avg       0.63      0.59      0.55        31\n",
      "weighted avg       0.63      0.58      0.55        31\n",
      "\n"
     ]
    }
   ],
   "source": [
    "nb = Pipeline([('vect', CountVectorizer()),\n",
    "               ('tfidf', TfidfTransformer()),\n",
    "               ('clf', BernoulliNB()),\n",
    "              ])\n",
    "nb.fit(X_train, y_train)\n",
    "\n",
    "BernNB  = BernoulliNB(binarize = 1)\n",
    "# binarize = 0.1 > Values greater than the threshold(0.1) map to 1, \n",
    "\n",
    "# vectorising the text\n",
    "vect = CountVectorizer(stop_words='english')\n",
    "vect.fit(X_train)\n",
    "\n",
    "# transform\n",
    "X_train_transformed = vect.transform(X_train)\n",
    "X_test_tranformed =vect.transform(X_test)\n",
    "\n",
    "# instantiate bernoulli NB object\n",
    "bnb = BernoulliNB()\n",
    "# fit \n",
    "bnb.fit(X_train_transformed,y_train)\n",
    "\n",
    "# predict class\n",
    "y_pred_class = bnb.predict(X_test_tranformed)\n",
    "\n",
    "# predict probability\n",
    "y_pred_proba =bnb.predict_proba(X_test_tranformed)\n",
    "\n",
    "\n",
    "metrics.accuracy_score(y_test, y_pred_class)\n",
    "\n",
    "y_pred = bnb.predict(X_test_tranformed)\n",
    "\n",
    "print('accuracy %s' % accuracy_score(y_pred_class, y_test))\n",
    "print(classification_report(y_test, y_pred_class))"
   ]
  },
  {
   "cell_type": "code",
   "execution_count": null,
   "metadata": {},
   "outputs": [],
   "source": []
  },
  {
   "cell_type": "code",
   "execution_count": null,
   "metadata": {},
   "outputs": [],
   "source": []
  },
  {
   "cell_type": "code",
   "execution_count": null,
   "metadata": {},
   "outputs": [],
   "source": []
  },
  {
   "cell_type": "code",
   "execution_count": null,
   "metadata": {},
   "outputs": [],
   "source": []
  },
  {
   "cell_type": "code",
   "execution_count": null,
   "metadata": {},
   "outputs": [],
   "source": []
  },
  {
   "cell_type": "code",
   "execution_count": null,
   "metadata": {},
   "outputs": [],
   "source": []
  },
  {
   "cell_type": "code",
   "execution_count": null,
   "metadata": {},
   "outputs": [],
   "source": []
  },
  {
   "cell_type": "code",
   "execution_count": null,
   "metadata": {},
   "outputs": [],
   "source": []
  },
  {
   "cell_type": "code",
   "execution_count": null,
   "metadata": {},
   "outputs": [],
   "source": []
  },
  {
   "cell_type": "code",
   "execution_count": null,
   "metadata": {},
   "outputs": [],
   "source": []
  },
  {
   "cell_type": "code",
   "execution_count": null,
   "metadata": {},
   "outputs": [],
   "source": []
  },
  {
   "cell_type": "code",
   "execution_count": null,
   "metadata": {},
   "outputs": [],
   "source": []
  },
  {
   "cell_type": "code",
   "execution_count": null,
   "metadata": {},
   "outputs": [],
   "source": []
  },
  {
   "cell_type": "code",
   "execution_count": null,
   "metadata": {},
   "outputs": [],
   "source": []
  },
  {
   "cell_type": "code",
   "execution_count": null,
   "metadata": {},
   "outputs": [],
   "source": []
  },
  {
   "cell_type": "code",
   "execution_count": null,
   "metadata": {},
   "outputs": [],
   "source": []
  }
 ],
 "metadata": {
  "kernelspec": {
   "display_name": "Python 3",
   "language": "python",
   "name": "python3"
  },
  "language_info": {
   "codemirror_mode": {
    "name": "ipython",
    "version": 3
   },
   "file_extension": ".py",
   "mimetype": "text/x-python",
   "name": "python",
   "nbconvert_exporter": "python",
   "pygments_lexer": "ipython3",
   "version": "3.6.8"
  }
 },
 "nbformat": 4,
 "nbformat_minor": 2
}
