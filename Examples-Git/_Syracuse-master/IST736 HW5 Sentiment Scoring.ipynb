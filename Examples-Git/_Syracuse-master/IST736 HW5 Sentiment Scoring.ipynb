{
 "cells": [
  {
   "cell_type": "code",
   "execution_count": 4,
   "metadata": {
    "ExecuteTime": {
     "end_time": "2019-04-30T01:07:17.884665Z",
     "start_time": "2019-04-30T01:07:17.828814Z"
    }
   },
   "outputs": [
    {
     "data": {
      "text/html": [
       "<div>\n",
       "<style scoped>\n",
       "    .dataframe tbody tr th:only-of-type {\n",
       "        vertical-align: middle;\n",
       "    }\n",
       "\n",
       "    .dataframe tbody tr th {\n",
       "        vertical-align: top;\n",
       "    }\n",
       "\n",
       "    .dataframe thead th {\n",
       "        text-align: right;\n",
       "    }\n",
       "</style>\n",
       "<table border=\"1\" class=\"dataframe\">\n",
       "  <thead>\n",
       "    <tr style=\"text-align: right;\">\n",
       "      <th></th>\n",
       "      <th>text</th>\n",
       "      <th>label</th>\n",
       "    </tr>\n",
       "  </thead>\n",
       "  <tbody>\n",
       "    <tr>\n",
       "      <th>0</th>\n",
       "      <td>Cairn shares slump on oil setback\\n\\nShares in...</td>\n",
       "      <td>business</td>\n",
       "    </tr>\n",
       "    <tr>\n",
       "      <th>1</th>\n",
       "      <td>Egypt to sell off state-owned bank\\n\\nThe Egyp...</td>\n",
       "      <td>business</td>\n",
       "    </tr>\n",
       "    <tr>\n",
       "      <th>2</th>\n",
       "      <td>Cairn shares up on new oil find\\n\\nShares in C...</td>\n",
       "      <td>business</td>\n",
       "    </tr>\n",
       "    <tr>\n",
       "      <th>3</th>\n",
       "      <td>Low-cost airlines hit Eurotunnel\\n\\nChannel Tu...</td>\n",
       "      <td>business</td>\n",
       "    </tr>\n",
       "    <tr>\n",
       "      <th>4</th>\n",
       "      <td>Parmalat to return to stockmarket\\n\\nParmalat,...</td>\n",
       "      <td>business</td>\n",
       "    </tr>\n",
       "  </tbody>\n",
       "</table>\n",
       "</div>"
      ],
      "text/plain": [
       "                                                text     label\n",
       "0  Cairn shares slump on oil setback\\n\\nShares in...  business\n",
       "1  Egypt to sell off state-owned bank\\n\\nThe Egyp...  business\n",
       "2  Cairn shares up on new oil find\\n\\nShares in C...  business\n",
       "3  Low-cost airlines hit Eurotunnel\\n\\nChannel Tu...  business\n",
       "4  Parmalat to return to stockmarket\\n\\nParmalat,...  business"
      ]
     },
     "execution_count": 4,
     "metadata": {},
     "output_type": "execute_result"
    }
   ],
   "source": [
    "import pandas as pd\n",
    "import numpy as np\n",
    "# Prevent future/deprecation warnings from showing in output\n",
    "import warnings\n",
    "warnings.filterwarnings(action='ignore')\n",
    "\n",
    "import sklearn\n",
    "from sklearn.naive_bayes import BernoulliNB\n",
    "from sklearn.naive_bayes import GaussianNB\n",
    "from sklearn.naive_bayes import MultinomialNB\n",
    "from sklearn import metrics\n",
    "from sklearn.metrics import accuracy_score\n",
    "from sklearn.feature_extraction.text import CountVectorizer\n",
    "\n",
    "# Load the dataset\n",
    "df = pd.read_csv('C:\\\\Users\\\\User\\\\Desktop\\\\bbc_news_mixed.csv')\n",
    "df.head()"
   ]
  },
  {
   "cell_type": "markdown",
   "metadata": {},
   "source": [
    "# Remove Blank Records"
   ]
  },
  {
   "cell_type": "code",
   "execution_count": 5,
   "metadata": {
    "ExecuteTime": {
     "end_time": "2019-04-30T01:07:19.249219Z",
     "start_time": "2019-04-30T01:07:19.237252Z"
    }
   },
   "outputs": [],
   "source": [
    "# REMOVE NaN VALUES AND EMPTY STRINGS:\n",
    "df.dropna(inplace=True)\n",
    "\n",
    "blanks = []  # start with an empty list\n",
    "\n",
    "for i,lb,rv in df.itertuples():  # iterate over the DataFrame\n",
    "    if type(rv)==str:            # avoid NaN values\n",
    "        if rv.isspace():         # test 'review' for whitespace\n",
    "            blanks.append(i)     # add matching index numbers to the list\n",
    "\n",
    "df.drop(blanks, inplace=True)"
   ]
  },
  {
   "cell_type": "code",
   "execution_count": 6,
   "metadata": {
    "ExecuteTime": {
     "end_time": "2019-04-30T01:07:29.339891Z",
     "start_time": "2019-04-30T01:07:29.333907Z"
    }
   },
   "outputs": [
    {
     "data": {
      "text/plain": [
       "sport            511\n",
       "business         510\n",
       "politics         417\n",
       "tech             401\n",
       "entertainment    386\n",
       "Name: label, dtype: int64"
      ]
     },
     "execution_count": 6,
     "metadata": {},
     "output_type": "execute_result"
    }
   ],
   "source": [
    "df['label'].value_counts()"
   ]
  },
  {
   "cell_type": "markdown",
   "metadata": {},
   "source": [
    "# Sentiment Scoring"
   ]
  },
  {
   "cell_type": "code",
   "execution_count": 8,
   "metadata": {
    "ExecuteTime": {
     "end_time": "2019-04-30T01:08:36.178874Z",
     "start_time": "2019-04-30T01:08:33.073690Z"
    }
   },
   "outputs": [
    {
     "name": "stderr",
     "output_type": "stream",
     "text": [
      "[nltk_data] Downloading package vader_lexicon to C:\\Program Files\n",
      "[nltk_data]     (x86)\\Microsoft Visual\n",
      "[nltk_data]     Studio\\Shared\\Anaconda3_64\\nltk_data...\n"
     ]
    }
   ],
   "source": [
    "import nltk\n",
    "nltk.downloader.download('vader_lexicon')\n",
    "from nltk.sentiment.vader import SentimentIntensityAnalyzer\n",
    "\n",
    "sid = SentimentIntensityAnalyzer()"
   ]
  },
  {
   "cell_type": "code",
   "execution_count": 11,
   "metadata": {
    "ExecuteTime": {
     "end_time": "2019-04-30T01:09:27.200138Z",
     "start_time": "2019-04-30T01:09:20.057133Z"
    }
   },
   "outputs": [
    {
     "data": {
      "text/html": [
       "<div>\n",
       "<style scoped>\n",
       "    .dataframe tbody tr th:only-of-type {\n",
       "        vertical-align: middle;\n",
       "    }\n",
       "\n",
       "    .dataframe tbody tr th {\n",
       "        vertical-align: top;\n",
       "    }\n",
       "\n",
       "    .dataframe thead th {\n",
       "        text-align: right;\n",
       "    }\n",
       "</style>\n",
       "<table border=\"1\" class=\"dataframe\">\n",
       "  <thead>\n",
       "    <tr style=\"text-align: right;\">\n",
       "      <th></th>\n",
       "      <th>text</th>\n",
       "      <th>label</th>\n",
       "      <th>scores</th>\n",
       "      <th>compound</th>\n",
       "      <th>comp_score</th>\n",
       "    </tr>\n",
       "  </thead>\n",
       "  <tbody>\n",
       "    <tr>\n",
       "      <th>0</th>\n",
       "      <td>Cairn shares slump on oil setback\\n\\nShares in...</td>\n",
       "      <td>business</td>\n",
       "      <td>{'neg': 0.034, 'neu': 0.845, 'pos': 0.121, 'co...</td>\n",
       "      <td>0.9902</td>\n",
       "      <td>pos</td>\n",
       "    </tr>\n",
       "    <tr>\n",
       "      <th>1</th>\n",
       "      <td>Egypt to sell off state-owned bank\\n\\nThe Egyp...</td>\n",
       "      <td>business</td>\n",
       "      <td>{'neg': 0.021, 'neu': 0.919, 'pos': 0.06, 'com...</td>\n",
       "      <td>0.8399</td>\n",
       "      <td>pos</td>\n",
       "    </tr>\n",
       "    <tr>\n",
       "      <th>2</th>\n",
       "      <td>Cairn shares up on new oil find\\n\\nShares in C...</td>\n",
       "      <td>business</td>\n",
       "      <td>{'neg': 0.054, 'neu': 0.838, 'pos': 0.109, 'co...</td>\n",
       "      <td>0.8769</td>\n",
       "      <td>pos</td>\n",
       "    </tr>\n",
       "    <tr>\n",
       "      <th>3</th>\n",
       "      <td>Low-cost airlines hit Eurotunnel\\n\\nChannel Tu...</td>\n",
       "      <td>business</td>\n",
       "      <td>{'neg': 0.032, 'neu': 0.938, 'pos': 0.03, 'com...</td>\n",
       "      <td>-0.1154</td>\n",
       "      <td>neg</td>\n",
       "    </tr>\n",
       "    <tr>\n",
       "      <th>4</th>\n",
       "      <td>Parmalat to return to stockmarket\\n\\nParmalat,...</td>\n",
       "      <td>business</td>\n",
       "      <td>{'neg': 0.058, 'neu': 0.839, 'pos': 0.103, 'co...</td>\n",
       "      <td>0.8750</td>\n",
       "      <td>pos</td>\n",
       "    </tr>\n",
       "  </tbody>\n",
       "</table>\n",
       "</div>"
      ],
      "text/plain": [
       "                                                text     label  \\\n",
       "0  Cairn shares slump on oil setback\\n\\nShares in...  business   \n",
       "1  Egypt to sell off state-owned bank\\n\\nThe Egyp...  business   \n",
       "2  Cairn shares up on new oil find\\n\\nShares in C...  business   \n",
       "3  Low-cost airlines hit Eurotunnel\\n\\nChannel Tu...  business   \n",
       "4  Parmalat to return to stockmarket\\n\\nParmalat,...  business   \n",
       "\n",
       "                                              scores  compound comp_score  \n",
       "0  {'neg': 0.034, 'neu': 0.845, 'pos': 0.121, 'co...    0.9902        pos  \n",
       "1  {'neg': 0.021, 'neu': 0.919, 'pos': 0.06, 'com...    0.8399        pos  \n",
       "2  {'neg': 0.054, 'neu': 0.838, 'pos': 0.109, 'co...    0.8769        pos  \n",
       "3  {'neg': 0.032, 'neu': 0.938, 'pos': 0.03, 'com...   -0.1154        neg  \n",
       "4  {'neg': 0.058, 'neu': 0.839, 'pos': 0.103, 'co...    0.8750        pos  "
      ]
     },
     "execution_count": 11,
     "metadata": {},
     "output_type": "execute_result"
    }
   ],
   "source": [
    "df['scores'] = df['text'].apply(lambda review: sid.polarity_scores(review))\n",
    "\n",
    "df['compound']  = df['scores'].apply(lambda score_dict: score_dict['compound'])\n",
    "\n",
    "df['comp_score'] = df['compound'].apply(lambda c: 'pos' if c >=0 else 'neg')\n",
    "\n",
    "df.head()"
   ]
  },
  {
   "cell_type": "code",
   "execution_count": 12,
   "metadata": {
    "ExecuteTime": {
     "end_time": "2019-04-30T01:15:43.296263Z",
     "start_time": "2019-04-30T01:15:43.191544Z"
    }
   },
   "outputs": [
    {
     "name": "stdout",
     "output_type": "stream",
     "text": [
      "                                                   text     label  \\\n",
      "0     Cairn shares slump on oil setback\\n\\nShares in...  business   \n",
      "1     Egypt to sell off state-owned bank\\n\\nThe Egyp...  business   \n",
      "2     Cairn shares up on new oil find\\n\\nShares in C...  business   \n",
      "3     Low-cost airlines hit Eurotunnel\\n\\nChannel Tu...  business   \n",
      "4     Parmalat to return to stockmarket\\n\\nParmalat,...  business   \n",
      "5     Making your office work for you\\n\\nOur mission...  business   \n",
      "6     Mexican in US send $16bn home\\n\\nMexican labou...  business   \n",
      "7     Asia shares defy post-quake gloom\\n\\nIndonesia...  business   \n",
      "8     German bidder in talks with LSE\\n\\nDeutsche Bo...  business   \n",
      "9     Bank payout to Pinochet victims\\n\\nA US bank h...  business   \n",
      "10    German economy rebounds\\n\\nGermany's economy, ...  business   \n",
      "11    Electronics firms eye plasma deal\\n\\nConsumer ...  business   \n",
      "12    Go-ahead for Balkan oil pipeline\\n\\nAlbania, B...  business   \n",
      "13    US economy still growing says Fed\\n\\nMost area...  business   \n",
      "14    Beer giant swallows Russian firm\\n\\nBrewing gi...  business   \n",
      "15    Kraft cuts snack ads for children\\n\\nKraft pla...  business   \n",
      "16    Slowdown hits US factory growth\\n\\nUS industri...  business   \n",
      "17    Virgin Blue shares plummet 20%\\n\\nShares in Au...  business   \n",
      "18    Bargain calls widen Softbank loss\\n\\nJapanese ...  business   \n",
      "19    Jobs growth still slow in the US\\n\\nThe US cre...  business   \n",
      "20    Glazer makes new Man Utd approach\\n\\nMalcolm G...  business   \n",
      "21    Germany calls for EU reform\\n\\nGerman Chancell...  business   \n",
      "22    Minister hits out at Yukos sale\\n\\nRussia's re...  business   \n",
      "23    Nasdaq planning $100m share sale\\n\\nThe owner ...  business   \n",
      "24    Millions 'to lose textile jobs'\\n\\nMillions of...  business   \n",
      "25    High fuel prices hit BA's profits\\n\\nBritish A...  business   \n",
      "26    Bat spit drug firm goes to market\\n\\nA German ...  business   \n",
      "27    Axa Sun Life cuts bonus payments\\n\\nLife insur...  business   \n",
      "28    Banker loses sexism claim\\n\\nA former executiv...  business   \n",
      "29    Asian quake hits European shares\\n\\nShares in ...  business   \n",
      "...                                                 ...       ...   \n",
      "2195  More power to the people says HP\\n\\nThe digita...      tech   \n",
      "2196  Global digital divide 'narrowing'\\n\\nThe \"digi...      tech   \n",
      "2197  Disney backs Sony DVD technology\\n\\nA next gen...      tech   \n",
      "2198  BT boosts its broadband packages\\n\\nBritish Te...      tech   \n",
      "2199  File-swappers ready new network\\n\\nLegal attac...      tech   \n",
      "2200  Broadband set to revolutionise TV\\n\\nBT is sta...      tech   \n",
      "2201  'Brainwave' cap controls computer\\n\\nA team of...      tech   \n",
      "2202  BBC leads interactive Bafta wins\\n\\nThe BBC an...      tech   \n",
      "2203  IBM puts cash behind Linux push\\n\\nIBM is spen...      tech   \n",
      "2204  Software watching while you work\\n\\nSoftware t...      tech   \n",
      "2205  Napster offers rented music to go\\n\\nMusic dow...      tech   \n",
      "2206  Ban hits Half-Life 2 pirates hard\\n\\nAbout 20,...      tech   \n",
      "2207  Blog reading explodes in America\\n\\nAmericans ...      tech   \n",
      "2208  T-Mobile bets on 'pocket office'\\n\\nT-Mobile h...      tech   \n",
      "2209  Europe backs digital TV lifestyle\\n\\nHow peopl...      tech   \n",
      "2210  Concern over RFID tags\\n\\nConsumers are very c...      tech   \n",
      "2211  Gadgets galore on show at fair\\n\\nThe 2005 Con...      tech   \n",
      "2212  Spam e-mails tempt net shoppers\\n\\nComputer us...      tech   \n",
      "2213  Dublin hi-tech labs to shut down\\n\\nDublin's h...      tech   \n",
      "2214  Concerns over Windows ATMs\\n\\nCash machine net...      tech   \n",
      "2215  Game makers get Xbox 2 sneak peek\\n\\nMicrosoft...      tech   \n",
      "2216  Net regulation 'still possible'\\n\\nThe blurrin...      tech   \n",
      "2217  China 'ripe' for media explosion\\n\\nAsia is se...      tech   \n",
      "2218  Hotspot users gain free net calls\\n\\nPeople us...      tech   \n",
      "2219  Smart search lets art fans browse\\n\\nIf you do...      tech   \n",
      "2220  Anti-spam laws bite spammer hard\\n\\nThe net's ...      tech   \n",
      "2221  China net cafe culture crackdown\\n\\nChinese au...      tech   \n",
      "2222  Halo 2 heralds traffic explosion\\n\\nThe growin...      tech   \n",
      "2223  Games 'deserve a place in class'\\n\\nComputer g...      tech   \n",
      "2224  Latest Opera browser gets vocal\\n\\nNet browser...      tech   \n",
      "\n",
      "                                                 scores  compound comp_score  \n",
      "0     {'neg': 0.034, 'neu': 0.845, 'pos': 0.121, 'co...    0.9902        pos  \n",
      "1     {'neg': 0.021, 'neu': 0.919, 'pos': 0.06, 'com...    0.8399        pos  \n",
      "2     {'neg': 0.054, 'neu': 0.838, 'pos': 0.109, 'co...    0.8769        pos  \n",
      "3     {'neg': 0.032, 'neu': 0.938, 'pos': 0.03, 'com...   -0.1154        neg  \n",
      "4     {'neg': 0.058, 'neu': 0.839, 'pos': 0.103, 'co...    0.8750        pos  \n",
      "5     {'neg': 0.019, 'neu': 0.882, 'pos': 0.1, 'comp...    0.9964        pos  \n",
      "6     {'neg': 0.021, 'neu': 0.884, 'pos': 0.095, 'co...    0.9260        pos  \n",
      "7     {'neg': 0.122, 'neu': 0.823, 'pos': 0.055, 'co...   -0.9901        neg  \n",
      "8     {'neg': 0.013, 'neu': 0.919, 'pos': 0.068, 'co...    0.9645        pos  \n",
      "9     {'neg': 0.122, 'neu': 0.814, 'pos': 0.064, 'co...   -0.9477        neg  \n",
      "10    {'neg': 0.096, 'neu': 0.806, 'pos': 0.098, 'co...    0.3446        pos  \n",
      "11    {'neg': 0.017, 'neu': 0.889, 'pos': 0.094, 'co...    0.9451        pos  \n",
      "12    {'neg': 0.032, 'neu': 0.859, 'pos': 0.109, 'co...    0.9705        pos  \n",
      "13    {'neg': 0.024, 'neu': 0.832, 'pos': 0.145, 'co...    0.9577        pos  \n",
      "14    {'neg': 0.0, 'neu': 0.963, 'pos': 0.037, 'comp...    0.6705        pos  \n",
      "15    {'neg': 0.033, 'neu': 0.869, 'pos': 0.098, 'co...    0.9217        pos  \n",
      "16    {'neg': 0.041, 'neu': 0.829, 'pos': 0.129, 'co...    0.9491        pos  \n",
      "17    {'neg': 0.095, 'neu': 0.8, 'pos': 0.105, 'comp...    0.5106        pos  \n",
      "18    {'neg': 0.05, 'neu': 0.898, 'pos': 0.052, 'com...    0.1027        pos  \n",
      "19    {'neg': 0.097, 'neu': 0.747, 'pos': 0.156, 'co...    0.9597        pos  \n",
      "20    {'neg': 0.055, 'neu': 0.829, 'pos': 0.117, 'co...    0.9755        pos  \n",
      "21    {'neg': 0.043, 'neu': 0.865, 'pos': 0.092, 'co...    0.9415        pos  \n",
      "22    {'neg': 0.046, 'neu': 0.866, 'pos': 0.088, 'co...    0.9480        pos  \n",
      "23    {'neg': 0.0, 'neu': 0.9, 'pos': 0.1, 'compound...    0.9423        pos  \n",
      "24    {'neg': 0.12, 'neu': 0.803, 'pos': 0.077, 'com...   -0.9810        neg  \n",
      "25    {'neg': 0.04, 'neu': 0.849, 'pos': 0.111, 'com...    0.9826        pos  \n",
      "26    {'neg': 0.043, 'neu': 0.851, 'pos': 0.106, 'co...    0.8338        pos  \n",
      "27    {'neg': 0.116, 'neu': 0.801, 'pos': 0.083, 'co...   -0.5719        neg  \n",
      "28    {'neg': 0.101, 'neu': 0.83, 'pos': 0.068, 'com...   -0.9034        neg  \n",
      "29    {'neg': 0.139, 'neu': 0.788, 'pos': 0.074, 'co...   -0.9910        neg  \n",
      "...                                                 ...       ...        ...  \n",
      "2195  {'neg': 0.012, 'neu': 0.896, 'pos': 0.092, 'co...    0.9945        pos  \n",
      "2196  {'neg': 0.037, 'neu': 0.867, 'pos': 0.097, 'co...    0.9633        pos  \n",
      "2197  {'neg': 0.058, 'neu': 0.873, 'pos': 0.069, 'co...   -0.0644        neg  \n",
      "2198  {'neg': 0.031, 'neu': 0.924, 'pos': 0.045, 'co...    0.4019        pos  \n",
      "2199  {'neg': 0.051, 'neu': 0.87, 'pos': 0.079, 'com...    0.9051        pos  \n",
      "2200  {'neg': 0.007, 'neu': 0.919, 'pos': 0.074, 'co...    0.9894        pos  \n",
      "2201  {'neg': 0.01, 'neu': 0.903, 'pos': 0.087, 'com...    0.9790        pos  \n",
      "2202  {'neg': 0.016, 'neu': 0.763, 'pos': 0.22, 'com...    0.9960        pos  \n",
      "2203  {'neg': 0.013, 'neu': 0.841, 'pos': 0.147, 'co...    0.9869        pos  \n",
      "2204  {'neg': 0.082, 'neu': 0.834, 'pos': 0.084, 'co...   -0.6161        neg  \n",
      "2205  {'neg': 0.031, 'neu': 0.881, 'pos': 0.089, 'co...    0.9762        pos  \n",
      "2206  {'neg': 0.095, 'neu': 0.831, 'pos': 0.074, 'co...   -0.9456        neg  \n",
      "2207  {'neg': 0.0, 'neu': 0.912, 'pos': 0.088, 'comp...    0.9804        pos  \n",
      "2208  {'neg': 0.003, 'neu': 0.944, 'pos': 0.053, 'co...    0.9577        pos  \n",
      "2209  {'neg': 0.019, 'neu': 0.835, 'pos': 0.146, 'co...    0.9944        pos  \n",
      "2210  {'neg': 0.034, 'neu': 0.898, 'pos': 0.068, 'co...    0.8955        pos  \n",
      "2211  {'neg': 0.021, 'neu': 0.842, 'pos': 0.136, 'co...    0.9988        pos  \n",
      "2212  {'neg': 0.149, 'neu': 0.778, 'pos': 0.073, 'co...   -0.9811        neg  \n",
      "2213  {'neg': 0.051, 'neu': 0.87, 'pos': 0.079, 'com...    0.9556        pos  \n",
      "2214  {'neg': 0.051, 'neu': 0.917, 'pos': 0.032, 'co...   -0.8442        neg  \n",
      "2215  {'neg': 0.007, 'neu': 0.898, 'pos': 0.095, 'co...    0.9893        pos  \n",
      "2216  {'neg': 0.029, 'neu': 0.913, 'pos': 0.059, 'co...    0.9318        pos  \n",
      "2217  {'neg': 0.023, 'neu': 0.881, 'pos': 0.096, 'co...    0.9913        pos  \n",
      "2218  {'neg': 0.0, 'neu': 0.851, 'pos': 0.149, 'comp...    0.9907        pos  \n",
      "2219  {'neg': 0.018, 'neu': 0.886, 'pos': 0.096, 'co...    0.9843        pos  \n",
      "2220  {'neg': 0.164, 'neu': 0.78, 'pos': 0.057, 'com...   -0.9910        neg  \n",
      "2221  {'neg': 0.082, 'neu': 0.886, 'pos': 0.032, 'co...   -0.9600        neg  \n",
      "2222  {'neg': 0.031, 'neu': 0.857, 'pos': 0.112, 'co...    0.9744        pos  \n",
      "2223  {'neg': 0.021, 'neu': 0.869, 'pos': 0.11, 'com...    0.9895        pos  \n",
      "2224  {'neg': 0.016, 'neu': 0.91, 'pos': 0.074, 'com...    0.9543        pos  \n",
      "\n",
      "[2225 rows x 5 columns]\n"
     ]
    }
   ],
   "source": [
    "export_csv = df.to_csv (r'C:\\\\Users\\\\User\\\\Desktop\\\\HW5_export_dataframe.csv', index = None, header=True) #Don't forget to add '.csv' at the end of the path\n",
    "\n",
    "print (df)"
   ]
  },
  {
   "cell_type": "code",
   "execution_count": null,
   "metadata": {},
   "outputs": [],
   "source": []
  },
  {
   "cell_type": "code",
   "execution_count": null,
   "metadata": {},
   "outputs": [],
   "source": []
  },
  {
   "cell_type": "code",
   "execution_count": null,
   "metadata": {},
   "outputs": [],
   "source": []
  }
 ],
 "metadata": {
  "kernelspec": {
   "display_name": "Python 3",
   "language": "python",
   "name": "python3"
  },
  "language_info": {
   "codemirror_mode": {
    "name": "ipython",
    "version": 3
   },
   "file_extension": ".py",
   "mimetype": "text/x-python",
   "name": "python",
   "nbconvert_exporter": "python",
   "pygments_lexer": "ipython3",
   "version": "3.6.8"
  }
 },
 "nbformat": 4,
 "nbformat_minor": 2
}
