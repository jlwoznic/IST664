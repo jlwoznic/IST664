{
 "cells": [
  {
   "cell_type": "markdown",
   "metadata": {
    "deletable": true,
    "editable": true
   },
   "source": [
    "You need to collect a sample data set and choose two tools to compare their effectiveness in sentiment analysis. Write a report to describe (1) your sampling strategy and whether it would result in a representative sample of public sentiment toward AI, (2) data preparation and system evaluation process, and (3) your conclusion on whether these tools are suitable for your task. "
   ]
  },
  {
   "cell_type": "markdown",
   "metadata": {
    "deletable": true,
    "editable": true
   },
   "source": [
    "** Vadar **"
   ]
  },
  {
   "cell_type": "code",
   "execution_count": 1,
   "metadata": {
    "ExecuteTime": {
     "end_time": "2019-04-05T16:48:49.243035Z",
     "start_time": "2019-04-05T16:48:49.109370Z"
    },
    "collapsed": true,
    "deletable": true,
    "editable": true
   },
   "outputs": [],
   "source": [
    "from vaderSentiment.vaderSentiment import SentimentIntensityAnalyzer\n",
    "analyser = SentimentIntensityAnalyzer()"
   ]
  },
  {
   "cell_type": "code",
   "execution_count": 2,
   "metadata": {
    "ExecuteTime": {
     "end_time": "2019-04-05T16:48:49.247998Z",
     "start_time": "2019-04-05T16:48:49.244008Z"
    },
    "collapsed": true,
    "deletable": true,
    "editable": true
   },
   "outputs": [],
   "source": [
    "#polarity Score for text sample\n",
    "def sentiment_analyzer_scores(sentence):\n",
    "    score = analyser.polarity_scores(sentence)\n",
    "    print(\"{:-<40} {}\".format(sentence, str(score)))"
   ]
  },
  {
   "cell_type": "code",
   "execution_count": 3,
   "metadata": {
    "ExecuteTime": {
     "end_time": "2019-04-05T16:48:49.275947Z",
     "start_time": "2019-04-05T16:48:49.248996Z"
    },
    "collapsed": false,
    "deletable": true,
    "editable": true
   },
   "outputs": [
    {
     "name": "stdout",
     "output_type": "stream",
     "text": [
      "Gerrard plays down European hopes Steven Gerrard has admitted that Liverpool have little chance of winning the Champions League this season. The 24-year-old Reds skipper spoke out ahead of Tuesday's first leg at home to Bayer Leverkusen in the last 16, which he will miss through suspension. Lets be realistic, there are some fantastic teams left in the Champions League, he told BBC Radio Five Live. We are just going to try to stay in as long as possible but we realise that maybe it is not our year this year. Gerrard has made no secret of his desire to be involved in Europes premier club competition. Last season he described qualification for the Champions League as the be all and end all {'neg': 0.03, 'neu': 0.805, 'pos': 0.166, 'compound': 0.941}\n"
     ]
    }
   ],
   "source": [
    "sentiment_analyzer_scores(\"Gerrard plays down European hopes Steven Gerrard has admitted that Liverpool have little chance of winning the Champions League this season. The 24-year-old Reds skipper spoke out ahead of Tuesday's first leg at home to Bayer Leverkusen in the last 16, which he will miss through suspension. Lets be realistic, there are some fantastic teams left in the Champions League, he told BBC Radio Five Live. We are just going to try to stay in as long as possible but we realise that maybe it is not our year this year. Gerrard has made no secret of his desire to be involved in Europes premier club competition. Last season he described qualification for the Champions League as the be all and end all\")"
   ]
  },
  {
   "cell_type": "code",
   "execution_count": null,
   "metadata": {
    "collapsed": true,
    "deletable": true,
    "editable": true
   },
   "outputs": [],
   "source": []
  },
  {
   "cell_type": "markdown",
   "metadata": {
    "ExecuteTime": {
     "end_time": "2019-04-05T17:51:53.179617Z",
     "start_time": "2019-04-05T17:51:53.174632Z"
    },
    "collapsed": true,
    "deletable": true,
    "editable": true
   },
   "source": [
    "** Aylien**"
   ]
  },
  {
   "cell_type": "code",
   "execution_count": 10,
   "metadata": {
    "ExecuteTime": {
     "end_time": "2019-04-05T17:22:27.442431Z",
     "start_time": "2019-04-05T17:22:27.431487Z"
    },
    "collapsed": true,
    "deletable": true,
    "editable": true
   },
   "outputs": [],
   "source": [
    "from aylienapiclient import textapi"
   ]
  },
  {
   "cell_type": "code",
   "execution_count": 12,
   "metadata": {
    "ExecuteTime": {
     "end_time": "2019-04-05T17:24:35.710534Z",
     "start_time": "2019-04-05T17:24:35.042321Z"
    },
    "collapsed": false,
    "deletable": true,
    "editable": true
   },
   "outputs": [
    {
     "name": "stdout",
     "output_type": "stream",
     "text": [
      "{'polarity': 'neutral', 'subjectivity': 'subjective', 'text': 'Gerrard plays down European hopes Steven Gerrard has admitted that Liverpool have little chance of winning the Champions League this season. The 24-year-old Reds skipper spoke out ahead of Tuesdays first leg at home to Bayer Leverkusen in the last 16, which he will miss through suspension. Lets be realistic, there are some fantastic teams left in the Champions League, he told BBC Radio Five Live. We are just going to try to stay in as long as possible but we realise that maybe it is not our year this year. Gerrard has made no secret of his desire to be involved in Europes premier club competition. Last season he described qualification for the Champions League as the be all and end all', 'polarity_confidence': 0.497030645608902, 'subjectivity_confidence': 1.0}\n"
     ]
    }
   ],
   "source": [
    "from aylienapiclient import textapi\n",
    "client = textapi.Client(\"d0485df8\", \"a97c78b2191e68ce373f6453952f6b2a\")\n",
    "sentiment = client.Sentiment({'text': 'Gerrard plays down European hopes Steven Gerrard has admitted that Liverpool have little chance of winning the Champions League this season. The 24-year-old Reds skipper spoke out ahead of Tuesdays first leg at home to Bayer Leverkusen in the last 16, which he will miss through suspension. Lets be realistic, there are some fantastic teams left in the Champions League, he told BBC Radio Five Live. We are just going to try to stay in as long as possible but we realise that maybe it is not our year this year. Gerrard has made no secret of his desire to be involved in Europes premier club competition. Last season he described qualification for the Champions League as the be all and end all'})\n",
    "print(sentiment)"
   ]
  },
  {
   "cell_type": "code",
   "execution_count": null,
   "metadata": {
    "ExecuteTime": {
     "end_time": "2019-04-05T17:18:45.142052Z",
     "start_time": "2019-04-05T17:18:45.000430Z"
    },
    "collapsed": true,
    "deletable": true,
    "editable": true
   },
   "outputs": [],
   "source": [
    "\n"
   ]
  },
  {
   "cell_type": "markdown",
   "metadata": {
    "deletable": true,
    "editable": true
   },
   "source": [
    "** NLTK **"
   ]
  },
  {
   "cell_type": "code",
   "execution_count": 15,
   "metadata": {
    "ExecuteTime": {
     "end_time": "2019-04-05T17:53:00.266260Z",
     "start_time": "2019-04-05T17:53:00.263268Z"
    },
    "collapsed": true,
    "deletable": true,
    "editable": true
   },
   "outputs": [],
   "source": [
    "#Loading NLTK\n",
    "import nltk\n",
    "from nltk.tokenize import sent_tokenize"
   ]
  },
  {
   "cell_type": "code",
   "execution_count": 16,
   "metadata": {
    "ExecuteTime": {
     "end_time": "2019-04-05T17:53:00.275236Z",
     "start_time": "2019-04-05T17:53:00.267259Z"
    },
    "collapsed": true,
    "deletable": true,
    "editable": true
   },
   "outputs": [],
   "source": [
    "text=\"\"\"Gerrard plays down European hopes Steven Gerrard has admitted that Liverpool have little chance of winning the Champions League this season. The 24-year-old Reds skipper spoke out ahead of Tuesday's first leg at home to Bayer Leverkusen in the last 16, which he will miss through suspension. Lets be realistic, there are some fantastic teams left in the Champions League, he told BBC Radio Five Live. We are just going to try to stay in as long as possible but we realise that maybe it is not our year this year. Gerrard has made no secret of his desire to be involved in Europes premier club competition. Last season he described qualification for the Champions League as the be all and end all\"\"\""
   ]
  },
  {
   "cell_type": "code",
   "execution_count": 17,
   "metadata": {
    "ExecuteTime": {
     "end_time": "2019-04-05T17:53:00.293189Z",
     "start_time": "2019-04-05T17:53:00.277232Z"
    },
    "collapsed": false,
    "deletable": true,
    "editable": true
   },
   "outputs": [
    {
     "name": "stdout",
     "output_type": "stream",
     "text": [
      "['Gerrard plays down European hopes Steven Gerrard has admitted that Liverpool have little chance of winning the Champions League this season.', \"The 24-year-old Reds skipper spoke out ahead of Tuesday's first leg at home to Bayer Leverkusen in the last 16, which he will miss through suspension.\", 'Lets be realistic, there are some fantastic teams left in the Champions League, he told BBC Radio Five Live.', 'We are just going to try to stay in as long as possible but we realise that maybe it is not our year this year.', 'Gerrard has made no secret of his desire to be involved in Europes premier club competition.', 'Last season he described qualification for the Champions League as the be all and end all']\n"
     ]
    }
   ],
   "source": [
    "tokenized_text=sent_tokenize(text)\n",
    "print(tokenized_text)"
   ]
  },
  {
   "cell_type": "code",
   "execution_count": 18,
   "metadata": {
    "ExecuteTime": {
     "end_time": "2019-04-05T17:53:37.113749Z",
     "start_time": "2019-04-05T17:53:37.105770Z"
    },
    "collapsed": false,
    "deletable": true,
    "editable": true
   },
   "outputs": [
    {
     "name": "stdout",
     "output_type": "stream",
     "text": [
      "['Gerrard', 'plays', 'down', 'European', 'hopes', 'Steven', 'Gerrard', 'has', 'admitted', 'that', 'Liverpool', 'have', 'little', 'chance', 'of', 'winning', 'the', 'Champions', 'League', 'this', 'season', '.', 'The', '24-year-old', 'Reds', 'skipper', 'spoke', 'out', 'ahead', 'of', 'Tuesday', \"'s\", 'first', 'leg', 'at', 'home', 'to', 'Bayer', 'Leverkusen', 'in', 'the', 'last', '16', ',', 'which', 'he', 'will', 'miss', 'through', 'suspension', '.', 'Lets', 'be', 'realistic', ',', 'there', 'are', 'some', 'fantastic', 'teams', 'left', 'in', 'the', 'Champions', 'League', ',', 'he', 'told', 'BBC', 'Radio', 'Five', 'Live', '.', 'We', 'are', 'just', 'going', 'to', 'try', 'to', 'stay', 'in', 'as', 'long', 'as', 'possible', 'but', 'we', 'realise', 'that', 'maybe', 'it', 'is', 'not', 'our', 'year', 'this', 'year', '.', 'Gerrard', 'has', 'made', 'no', 'secret', 'of', 'his', 'desire', 'to', 'be', 'involved', 'in', 'Europes', 'premier', 'club', 'competition', '.', 'Last', 'season', 'he', 'described', 'qualification', 'for', 'the', 'Champions', 'League', 'as', 'the', 'be', 'all', 'and', 'end', 'all']\n"
     ]
    }
   ],
   "source": [
    "# word tokenize\n",
    "from nltk.tokenize import word_tokenize\n",
    "tokenized_word=word_tokenize(text)\n",
    "print(tokenized_word)"
   ]
  },
  {
   "cell_type": "code",
   "execution_count": 19,
   "metadata": {
    "ExecuteTime": {
     "end_time": "2019-04-05T17:56:29.798074Z",
     "start_time": "2019-04-05T17:56:29.793086Z"
    },
    "collapsed": false,
    "deletable": true,
    "editable": true
   },
   "outputs": [
    {
     "name": "stdout",
     "output_type": "stream",
     "text": [
      "<FreqDist with 95 samples and 132 outcomes>\n"
     ]
    }
   ],
   "source": [
    "from nltk.probability import FreqDist\n",
    "fdist = FreqDist(tokenized_word)\n",
    "print(fdist)"
   ]
  },
  {
   "cell_type": "code",
   "execution_count": 20,
   "metadata": {
    "ExecuteTime": {
     "end_time": "2019-04-05T17:56:35.694309Z",
     "start_time": "2019-04-05T17:56:35.317345Z"
    },
    "collapsed": false,
    "deletable": true,
    "editable": true
   },
   "outputs": [
    {
     "data": {
      "image/png": "[encoded data removed]",
      "text/plain": [
       "<Figure size 432x288 with 1 Axes>"
      ]
     },
     "metadata": {},
     "output_type": "display_data"
    }
   ],
   "source": [
    "# Frequency Distribution Plot\n",
    "import matplotlib.pyplot as plt\n",
    "fdist.plot(30,cumulative=False)\n",
    "plt.show()"
   ]
  },
  {
   "cell_type": "code",
   "execution_count": 26,
   "metadata": {
    "ExecuteTime": {
     "end_time": "2019-04-05T18:21:39.426463Z",
     "start_time": "2019-04-05T18:21:39.377595Z"
    },
    "collapsed": false,
    "deletable": true,
    "editable": true
   },
   "outputs": [
    {
     "name": "stdout",
     "output_type": "stream",
     "text": [
      "Sentiment(polarity=0.08999819624819624, subjectivity=0.417063492063492)\n"
     ]
    }
   ],
   "source": [
    "from textblob import TextBlob\n",
    "blob1 = TextBlob(\"Gerrard plays down European hopes Steven Gerrard has admitted that Liverpool have little chance of winning the Champions League this season. The 24-year-old Reds skipper spoke out ahead of Tuesday's first leg at home to Bayer Leverkusen in the last 16, which he will miss through suspension. Lets be realistic, there are some fantastic teams left in the Champions League, he told BBC Radio Five Live. We are just going to try to stay in as long as possible but we realise that maybe it is not our year this year. Gerrard has made no secret of his desire to be involved in Europes premier club competition. Last season he described qualification for the Champions League as the be all and end all\")\n",
    "print(format(blob1.sentiment))"
   ]
  },
  {
   "cell_type": "markdown",
   "metadata": {
    "ExecuteTime": {
     "end_time": "2019-04-05T17:57:46.460538Z",
     "start_time": "2019-04-05T17:57:46.451562Z"
    },
    "deletable": true,
    "editable": true
   },
   "source": [
    "Polarity is float which lies in the range of [-1,1] where 1 means positive statement and -1 means a negative statement. Subjective sentences generally refer to personal opinion, emotion or judgment whereas objective refers to factual information. Subjectivity is also a float which lies in the range of [0,1].\n",
    "We can see that polarity is 0.08, which means that the statement is positive and 0.41 subjectivity refers that mostly it is a public opinion and not a factual information."
   ]
  },
  {
   "cell_type": "code",
   "execution_count": null,
   "metadata": {
    "collapsed": true,
    "deletable": true,
    "editable": true
   },
   "outputs": [],
   "source": []
  },
  {
   "cell_type": "code",
   "execution_count": null,
   "metadata": {
    "collapsed": true,
    "deletable": true,
    "editable": true
   },
   "outputs": [],
   "source": []
  },
  {
   "cell_type": "code",
   "execution_count": null,
   "metadata": {
    "collapsed": true,
    "deletable": true,
    "editable": true
   },
   "outputs": [],
   "source": []
  },
  {
   "cell_type": "code",
   "execution_count": null,
   "metadata": {
    "collapsed": true,
    "deletable": true,
    "editable": true
   },
   "outputs": [],
   "source": []
  },
  {
   "cell_type": "code",
   "execution_count": null,
   "metadata": {
    "collapsed": true,
    "deletable": true,
    "editable": true
   },
   "outputs": [],
   "source": []
  },
  {
   "cell_type": "code",
   "execution_count": null,
   "metadata": {
    "collapsed": true,
    "deletable": true,
    "editable": true
   },
   "outputs": [],
   "source": []
  }
 ],
 "metadata": {
  "kernelspec": {
   "display_name": "Python 2",
   "language": "python",
   "name": "python2"
  }
 },
 "nbformat": 4,
 "nbformat_minor": 2
}
