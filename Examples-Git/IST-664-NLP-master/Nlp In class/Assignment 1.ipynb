{
 "cells": [
  {
   "cell_type": "code",
   "execution_count": 2,
   "metadata": {},
   "outputs": [],
   "source": [
    "import nltk"
   ]
  },
  {
   "cell_type": "code",
   "execution_count": 3,
   "metadata": {},
   "outputs": [],
   "source": [
    "from nltk.corpus import PlaintextCorpusReader"
   ]
  },
  {
   "cell_type": "code",
   "execution_count": 4,
   "metadata": {},
   "outputs": [],
   "source": [
    "mycorpus = PlaintextCorpusReader('.', '.*\\.txt')"
   ]
  },
  {
   "cell_type": "code",
   "execution_count": 5,
   "metadata": {},
   "outputs": [],
   "source": [
    "myfile= mycorpus.fileids()[2]"
   ]
  },
  {
   "cell_type": "code",
   "execution_count": 6,
   "metadata": {},
   "outputs": [],
   "source": [
    "mytext = mycorpus.raw(myfile)"
   ]
  },
  {
   "cell_type": "code",
   "execution_count": 7,
   "metadata": {},
   "outputs": [],
   "source": [
    "mytokens = nltk.word_tokenize(mytext)"
   ]
  },
  {
   "cell_type": "code",
   "execution_count": 8,
   "metadata": {},
   "outputs": [
    {
     "data": {
      "text/plain": [
       "21579123"
      ]
     },
     "execution_count": 8,
     "metadata": {},
     "output_type": "execute_result"
    }
   ],
   "source": [
    "len(mytokens)"
   ]
  },
  {
   "cell_type": "code",
   "execution_count": 9,
   "metadata": {},
   "outputs": [],
   "source": [
    "mywords = [w.lower( ) for w in mytokens]"
   ]
  },
  {
   "cell_type": "code",
   "execution_count": 10,
   "metadata": {},
   "outputs": [],
   "source": [
    "mywords=[]"
   ]
  },
  {
   "cell_type": "code",
   "execution_count": 11,
   "metadata": {},
   "outputs": [],
   "source": [
    "for w in mytokens:\n",
    "     mywords.append(w.lower())"
   ]
  },
  {
   "cell_type": "code",
   "execution_count": 12,
   "metadata": {},
   "outputs": [],
   "source": [
    "myvocab = sorted(set(mywords))"
   ]
  },
  {
   "cell_type": "code",
   "execution_count": 13,
   "metadata": {},
   "outputs": [],
   "source": [
    "revisedmywords = [w for w in mywords if w.isalpha()]"
   ]
  },
  {
   "cell_type": "code",
   "execution_count": 14,
   "metadata": {},
   "outputs": [],
   "source": [
    "from nltk import FreqDist"
   ]
  },
  {
   "cell_type": "code",
   "execution_count": 15,
   "metadata": {},
   "outputs": [
    {
     "data": {
      "text/plain": [
       "['this',\n",
       " 'is',\n",
       " 'just',\n",
       " 'a',\n",
       " 'resume',\n",
       " 'wikipedia',\n",
       " 'curriculum',\n",
       " 'vitae',\n",
       " 'and',\n",
       " 'linkfarm',\n",
       " 'wp',\n",
       " 'for',\n",
       " 'bio',\n",
       " 'notable',\n",
       " 'businessperson',\n",
       " 'that',\n",
       " 'all',\n",
       " 'the',\n",
       " 'article',\n",
       " 'has',\n",
       " 'ever',\n",
       " 'been',\n",
       " 'it',\n",
       " 'appears',\n",
       " 'subject',\n",
       " 'of',\n",
       " 'coi',\n",
       " 'personally',\n",
       " 'contributed',\n",
       " 'much',\n",
       " 'i',\n",
       " 'completely',\n",
       " 'agree',\n",
       " 'with',\n",
       " 'ivanvector',\n",
       " 'user',\n",
       " 'apologize',\n",
       " 'forgetting',\n",
       " 'to',\n",
       " 'mention',\n",
       " 'reason',\n",
       " 'why',\n",
       " 'felt',\n",
       " 'need',\n",
       " 'nominate',\n",
       " 'deletion',\n",
       " 'nominated',\n",
       " 'as',\n",
       " 'there',\n",
       " 'are']"
      ]
     },
     "execution_count": 15,
     "metadata": {},
     "output_type": "execute_result"
    }
   ],
   "source": [
    "fdist = FreqDist(revisedmywords)\n",
    "fdistkeys = list(fdist.keys())\n",
    "fdistkeys[:50]"
   ]
  },
  {
   "cell_type": "code",
   "execution_count": 16,
   "metadata": {},
   "outputs": [],
   "source": [
    "topkeys=fdist.most_common(50)"
   ]
  },
  {
   "cell_type": "code",
   "execution_count": 17,
   "metadata": {},
   "outputs": [
    {
     "name": "stdout",
     "output_type": "stream",
     "text": [
      "('a', 508553)\n",
      "('the', 380044)\n",
      "('of', 211070)\n",
      "('to', 201459)\n",
      "('and', 166318)\n",
      "('is', 164307)\n",
      "('wikipedia', 150812)\n",
      "('i', 143031)\n",
      "('in', 135981)\n",
      "('this', 129839)\n",
      "('amp', 126345)\n",
      "('not', 117662)\n",
      "('that', 110194)\n",
      "('it', 101017)\n",
      "('article', 100142)\n",
      "('for', 90614)\n",
      "('wp', 90582)\n",
      "('external', 77245)\n",
      "('be', 76220)\n",
      "('as', 74616)\n",
      "('nofollow', 67399)\n",
      "('gng', 64879)\n",
      "('sources', 56746)\n",
      "('on', 55424)\n",
      "('are', 54815)\n",
      "('b', 53505)\n",
      "('http', 53472)\n",
      "('text', 53425)\n",
      "('but', 53389)\n",
      "('notability', 49667)\n",
      "('no', 46962)\n",
      "('or', 46476)\n",
      "('new', 45441)\n",
      "('does', 44480)\n",
      "('there', 43640)\n",
      "('p', 43389)\n",
      "('an', 43345)\n",
      "('have', 43303)\n",
      "('with', 40752)\n",
      "('notable', 40377)\n",
      "('has', 40001)\n",
      "('by', 37811)\n",
      "('small', 37408)\n",
      "('was', 34435)\n",
      "('span', 33684)\n",
      "('coverage', 32901)\n",
      "('at', 30589)\n",
      "('page', 30467)\n",
      "('if', 29781)\n",
      "('about', 29391)\n"
     ]
    }
   ],
   "source": [
    "for pair in topkeys:\n",
    "    print(pair)"
   ]
  },
  {
   "cell_type": "code",
   "execution_count": 18,
   "metadata": {},
   "outputs": [],
   "source": [
    "# Without lower case"
   ]
  },
  {
   "cell_type": "code",
   "execution_count": 19,
   "metadata": {},
   "outputs": [],
   "source": [
    "ndist = FreqDist(mywords)"
   ]
  },
  {
   "cell_type": "code",
   "execution_count": 20,
   "metadata": {},
   "outputs": [],
   "source": [
    "nitems = ndist.most_common(50)"
   ]
  },
  {
   "cell_type": "code",
   "execution_count": 21,
   "metadata": {},
   "outputs": [
    {
     "name": "stdout",
     "output_type": "stream",
     "text": [
      "'' 3867330\n",
      "< 1122280\n",
      "> 1107218\n",
      ": 558081\n",
      "a 508553\n",
      ". 468038\n",
      ", 386376\n",
      "the 380044\n",
      "`` 350188\n",
      "href= 297296\n",
      "/a 295926\n",
      "class= 226443\n",
      "; 225437\n",
      "title= 218583\n",
      "of 211070\n",
      "to 201459\n",
      "% 179748\n",
      "& 174752\n",
      "and 166318\n",
      "is 164307\n",
      "wikipedia 150812\n",
      "i 143031\n",
      "in 135981\n",
      "this 129839\n",
      "amp 126345\n",
      "/wiki/wikipedia 126112\n",
      "mw-redirect 118011\n",
      "not 117662\n",
      "that 110194\n",
      "( 109521\n",
      ") 101568\n",
      "it 101017\n",
      "article 100142\n",
      "for 90614\n",
      "wp 90582\n",
      "# 78429\n",
      "external 77245\n",
      "be 76220\n",
      "as 74616\n",
      "/b 73195\n",
      "nofollow 67399\n",
      "rel= 67398\n",
      "? 66912\n",
      "gng 64879\n",
      "'s 57801\n",
      "sources 56746\n",
      "on 55424\n",
      "are 54815\n",
      "b 53505\n",
      "http 53472\n"
     ]
    }
   ],
   "source": [
    "for item in nitems:\n",
    "      print (item[0], item[1])"
   ]
  },
  {
   "cell_type": "code",
   "execution_count": 22,
   "metadata": {},
   "outputs": [],
   "source": [
    "import re\n"
   ]
  },
  {
   "cell_type": "code",
   "execution_count": 23,
   "metadata": {},
   "outputs": [],
   "source": [
    "pattern = re.compile('^[^a-z]+$')"
   ]
  },
  {
   "cell_type": "code",
   "execution_count": 24,
   "metadata": {},
   "outputs": [],
   "source": [
    "nonAlphaMatch = pattern.match('**')"
   ]
  },
  {
   "cell_type": "code",
   "execution_count": 25,
   "metadata": {},
   "outputs": [
    {
     "name": "stdout",
     "output_type": "stream",
     "text": [
      "matched non-alphabetical\n"
     ]
    }
   ],
   "source": [
    "if nonAlphaMatch: print ('matched non-alphabetical')"
   ]
  },
  {
   "cell_type": "code",
   "execution_count": 26,
   "metadata": {},
   "outputs": [],
   "source": [
    "def alpha_filter(w):\n",
    "    pattern = re.compile('^[^a-z]+$')\n",
    "    if (pattern.match(w)):\n",
    "        return True\n",
    "    else:\n",
    "            return False"
   ]
  },
  {
   "cell_type": "code",
   "execution_count": 27,
   "metadata": {},
   "outputs": [],
   "source": [
    "alphaemmawords = [w for w in mywords if not alpha_filter(w)]"
   ]
  },
  {
   "cell_type": "code",
   "execution_count": 28,
   "metadata": {},
   "outputs": [
    {
     "data": {
      "text/plain": [
       "12329764"
      ]
     },
     "execution_count": 28,
     "metadata": {},
     "output_type": "execute_result"
    }
   ],
   "source": [
    "len(alphaemmawords)"
   ]
  },
  {
   "cell_type": "code",
   "execution_count": null,
   "metadata": {},
   "outputs": [],
   "source": []
  }
 ],
 "metadata": {
  "kernelspec": {
   "display_name": "Python 3",
   "language": "python",
   "name": "python3"
  },
  "language_info": {
   "codemirror_mode": {
    "name": "ipython",
    "version": 3
   },
   "file_extension": ".py",
   "mimetype": "text/x-python",
   "name": "python",
   "nbconvert_exporter": "python",
   "pygments_lexer": "ipython3",
   "version": "3.7.0"
  }
 },
 "nbformat": 4,
 "nbformat_minor": 2
}
