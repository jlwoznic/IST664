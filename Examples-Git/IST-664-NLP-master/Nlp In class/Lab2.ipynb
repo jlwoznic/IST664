{
 "cells": [
  {
   "cell_type": "code",
   "execution_count": 1,
   "metadata": {},
   "outputs": [],
   "source": [
    "import nltk"
   ]
  },
  {
   "cell_type": "code",
   "execution_count": 2,
   "metadata": {},
   "outputs": [],
   "source": [
    "from nltk.corpus import PlaintextCorpusReader"
   ]
  },
  {
   "cell_type": "code",
   "execution_count": 3,
   "metadata": {},
   "outputs": [],
   "source": [
    "mycorpus = PlaintextCorpusReader('.', '.*\\.txt')"
   ]
  },
  {
   "cell_type": "code",
   "execution_count": 4,
   "metadata": {},
   "outputs": [],
   "source": [
    "labweek2string = mycorpus.raw('lab2.txt')"
   ]
  },
  {
   "cell_type": "code",
   "execution_count": 5,
   "metadata": {},
   "outputs": [],
   "source": [
    "labweek2file= mycorpus.fileids()[0]"
   ]
  },
  {
   "cell_type": "code",
   "execution_count": 6,
   "metadata": {},
   "outputs": [],
   "source": [
    "labweek2string = mycorpus.raw(labweek2file)"
   ]
  },
  {
   "cell_type": "code",
   "execution_count": 7,
   "metadata": {},
   "outputs": [
    {
     "data": {
      "text/plain": [
       "'Hans Christian Andersen (often referred to in Scandinavia as H. C. Andersen; 2 April 1805 – 4 August 1875) was a Danish author. Although a prolific writer of plays, travelogues, novels, and poems, Andersen is best remembered for his fairy tales. Andersen\\'s popularity is not limited to children; his stories, called eventyr in Danish, express themes that transcend age and nationality.\\rAndersen\\'s fairy tales, which have been translated into more than 125 languages, have become culturally embedded in the West\\'s collective consciousness, readily accessible to children, but presenting lessons of virtue and resilience in the face of adversity for mature readers as well. Some of his most famous fairy tales include \"The Emperor\\'s New Clothes\", \"The Little Mermaid\", \"The Nightingale\", \"The Snow Queen\", \"The Ugly Duckling\", \"Thumbelina\", and many more. His stories have inspired ballets, animated and live-action films, and plays.\\r'"
      ]
     },
     "execution_count": 7,
     "metadata": {},
     "output_type": "execute_result"
    }
   ],
   "source": [
    "labweek2string"
   ]
  },
  {
   "cell_type": "code",
   "execution_count": 8,
   "metadata": {},
   "outputs": [],
   "source": [
    "lab2tokens = nltk.word_tokenize(labweek2string)"
   ]
  },
  {
   "cell_type": "code",
   "execution_count": 9,
   "metadata": {},
   "outputs": [
    {
     "data": {
      "text/plain": [
       "185"
      ]
     },
     "execution_count": 9,
     "metadata": {},
     "output_type": "execute_result"
    }
   ],
   "source": [
    "len(lab2tokens)"
   ]
  },
  {
   "cell_type": "code",
   "execution_count": 10,
   "metadata": {},
   "outputs": [],
   "source": [
    "lab2words = [w.lower( ) for w in lab2tokens]"
   ]
  },
  {
   "cell_type": "code",
   "execution_count": 11,
   "metadata": {},
   "outputs": [],
   "source": [
    "lab2words=[]"
   ]
  },
  {
   "cell_type": "code",
   "execution_count": 12,
   "metadata": {},
   "outputs": [],
   "source": [
    "for w in lab2tokens:\n",
    "     lab2words.append(w.lower())"
   ]
  },
  {
   "cell_type": "code",
   "execution_count": 14,
   "metadata": {},
   "outputs": [],
   "source": [
    "lab2vocab = sorted(set(lab2words))"
   ]
  },
  {
   "cell_type": "code",
   "execution_count": 15,
   "metadata": {},
   "outputs": [],
   "source": [
    "revisedlab2words = [w for w in lab2words if w.isalpha()]"
   ]
  },
  {
   "cell_type": "code",
   "execution_count": 16,
   "metadata": {},
   "outputs": [],
   "source": [
    "from nltk import FreqDist"
   ]
  },
  {
   "cell_type": "code",
   "execution_count": 17,
   "metadata": {},
   "outputs": [
    {
     "data": {
      "text/plain": [
       "['hans',\n",
       " 'christian',\n",
       " 'andersen',\n",
       " 'often',\n",
       " 'referred',\n",
       " 'to',\n",
       " 'in',\n",
       " 'scandinavia',\n",
       " 'as',\n",
       " 'april',\n",
       " 'august',\n",
       " 'was',\n",
       " 'a',\n",
       " 'danish',\n",
       " 'author',\n",
       " 'although',\n",
       " 'prolific',\n",
       " 'writer',\n",
       " 'of',\n",
       " 'plays',\n",
       " 'travelogues',\n",
       " 'novels',\n",
       " 'and',\n",
       " 'poems',\n",
       " 'is',\n",
       " 'best',\n",
       " 'remembered',\n",
       " 'for',\n",
       " 'his',\n",
       " 'fairy',\n",
       " 'tales',\n",
       " 'popularity',\n",
       " 'not',\n",
       " 'limited',\n",
       " 'children',\n",
       " 'stories',\n",
       " 'called',\n",
       " 'eventyr',\n",
       " 'express',\n",
       " 'themes',\n",
       " 'that',\n",
       " 'transcend',\n",
       " 'age',\n",
       " 'nationality',\n",
       " 'which',\n",
       " 'have',\n",
       " 'been',\n",
       " 'translated',\n",
       " 'into',\n",
       " 'more']"
      ]
     },
     "execution_count": 17,
     "metadata": {},
     "output_type": "execute_result"
    }
   ],
   "source": [
    "fdist = FreqDist(revisedlab2words)\n",
    "fdistkeys = list(fdist.keys())\n",
    "fdistkeys[:50]"
   ]
  },
  {
   "cell_type": "code",
   "execution_count": 18,
   "metadata": {},
   "outputs": [],
   "source": [
    "topkeys=fdist.most_common(30)"
   ]
  },
  {
   "cell_type": "code",
   "execution_count": 19,
   "metadata": {},
   "outputs": [
    {
     "name": "stdout",
     "output_type": "stream",
     "text": [
      "('the', 7)\n",
      "('and', 6)\n",
      "('andersen', 5)\n",
      "('in', 4)\n",
      "('of', 4)\n",
      "('his', 4)\n",
      "('to', 3)\n",
      "('fairy', 3)\n",
      "('tales', 3)\n",
      "('have', 3)\n",
      "('as', 2)\n",
      "('a', 2)\n",
      "('danish', 2)\n",
      "('plays', 2)\n",
      "('is', 2)\n",
      "('for', 2)\n",
      "('children', 2)\n",
      "('stories', 2)\n",
      "('more', 2)\n",
      "('hans', 1)\n",
      "('christian', 1)\n",
      "('often', 1)\n",
      "('referred', 1)\n",
      "('scandinavia', 1)\n",
      "('april', 1)\n",
      "('august', 1)\n",
      "('was', 1)\n",
      "('author', 1)\n",
      "('although', 1)\n",
      "('prolific', 1)\n"
     ]
    }
   ],
   "source": [
    "for pair in topkeys:\n",
    "    print(pair)"
   ]
  },
  {
   "cell_type": "code",
   "execution_count": null,
   "metadata": {},
   "outputs": [],
   "source": []
  }
 ],
 "metadata": {
  "kernelspec": {
   "display_name": "Python 3",
   "language": "python",
   "name": "python3"
  },
  "language_info": {
   "codemirror_mode": {
    "name": "ipython",
    "version": 3
   },
   "file_extension": ".py",
   "mimetype": "text/x-python",
   "name": "python",
   "nbconvert_exporter": "python",
   "pygments_lexer": "ipython3",
   "version": "3.7.4"
  }
 },
 "nbformat": 4,
 "nbformat_minor": 2
}
