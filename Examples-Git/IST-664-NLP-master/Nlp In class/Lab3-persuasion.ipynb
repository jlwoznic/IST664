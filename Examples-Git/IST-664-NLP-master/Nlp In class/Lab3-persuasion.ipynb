{
 "cells": [
  {
   "cell_type": "code",
   "execution_count": 1,
   "metadata": {},
   "outputs": [],
   "source": [
    "import nltk"
   ]
  },
  {
   "cell_type": "code",
   "execution_count": 2,
   "metadata": {},
   "outputs": [
    {
     "data": {
      "text/plain": [
       "['austen-emma.txt',\n",
       " 'austen-persuasion.txt',\n",
       " 'austen-sense.txt',\n",
       " 'bible-kjv.txt',\n",
       " 'blake-poems.txt',\n",
       " 'bryant-stories.txt',\n",
       " 'burgess-busterbrown.txt',\n",
       " 'carroll-alice.txt',\n",
       " 'chesterton-ball.txt',\n",
       " 'chesterton-brown.txt',\n",
       " 'chesterton-thursday.txt',\n",
       " 'edgeworth-parents.txt',\n",
       " 'melville-moby_dick.txt',\n",
       " 'milton-paradise.txt',\n",
       " 'shakespeare-caesar.txt',\n",
       " 'shakespeare-hamlet.txt',\n",
       " 'shakespeare-macbeth.txt',\n",
       " 'whitman-leaves.txt']"
      ]
     },
     "execution_count": 2,
     "metadata": {},
     "output_type": "execute_result"
    }
   ],
   "source": [
    "nltk.corpus.gutenberg.fileids( ) "
   ]
  },
  {
   "cell_type": "code",
   "execution_count": 3,
   "metadata": {},
   "outputs": [],
   "source": [
    "from nltk import FreqDist"
   ]
  },
  {
   "cell_type": "code",
   "execution_count": 4,
   "metadata": {},
   "outputs": [
    {
     "name": "stdout",
     "output_type": "stream",
     "text": [
      "['austen-emma.txt', 'austen-persuasion.txt', 'austen-sense.txt', 'bible-kjv.txt', 'blake-poems.txt', 'bryant-stories.txt', 'burgess-busterbrown.txt', 'carroll-alice.txt', 'chesterton-ball.txt', 'chesterton-brown.txt', 'chesterton-thursday.txt', 'edgeworth-parents.txt', 'melville-moby_dick.txt', 'milton-paradise.txt', 'shakespeare-caesar.txt', 'shakespeare-hamlet.txt', 'shakespeare-macbeth.txt', 'whitman-leaves.txt']\n"
     ]
    }
   ],
   "source": [
    "print(nltk.corpus.gutenberg.fileids( )) "
   ]
  },
  {
   "cell_type": "code",
   "execution_count": 6,
   "metadata": {},
   "outputs": [],
   "source": [
    "file0 = nltk.corpus.gutenberg.fileids( ) [1]"
   ]
  },
  {
   "cell_type": "code",
   "execution_count": 7,
   "metadata": {},
   "outputs": [],
   "source": [
    "persuasiontext = nltk.corpus.gutenberg.raw(file0) "
   ]
  },
  {
   "cell_type": "code",
   "execution_count": 8,
   "metadata": {},
   "outputs": [],
   "source": [
    "persuasiontokens = nltk.word_tokenize(persuasiontext) "
   ]
  },
  {
   "cell_type": "code",
   "execution_count": 9,
   "metadata": {},
   "outputs": [],
   "source": [
    "persuasionwords = [w.lower( ) for w in persuasiontokens]"
   ]
  },
  {
   "cell_type": "code",
   "execution_count": 10,
   "metadata": {},
   "outputs": [
    {
     "data": {
      "text/plain": [
       "97918"
      ]
     },
     "execution_count": 10,
     "metadata": {},
     "output_type": "execute_result"
    }
   ],
   "source": [
    "len(persuasionwords)"
   ]
  },
  {
   "cell_type": "code",
   "execution_count": 11,
   "metadata": {},
   "outputs": [],
   "source": [
    "persuasionwords1 = nltk.corpus.gutenberg.words('austen-persuasion.txt')"
   ]
  },
  {
   "cell_type": "code",
   "execution_count": 12,
   "metadata": {},
   "outputs": [],
   "source": [
    "persuasionwordslowercase = [w.lower() for w in persuasionwords1]"
   ]
  },
  {
   "cell_type": "code",
   "execution_count": 13,
   "metadata": {},
   "outputs": [
    {
     "data": {
      "text/plain": [
       "98171"
      ]
     },
     "execution_count": 13,
     "metadata": {},
     "output_type": "execute_result"
    }
   ],
   "source": [
    "len(persuasionwordslowercase)"
   ]
  },
  {
   "cell_type": "code",
   "execution_count": 14,
   "metadata": {},
   "outputs": [
    {
     "data": {
      "text/plain": [
       "['[',\n",
       " 'persuasion',\n",
       " 'by',\n",
       " 'jane',\n",
       " 'austen',\n",
       " '1818',\n",
       " ']',\n",
       " 'chapter',\n",
       " '1',\n",
       " 'sir',\n",
       " 'walter',\n",
       " 'elliot',\n",
       " ',',\n",
       " 'of',\n",
       " 'kellynch',\n",
       " 'hall',\n",
       " ',',\n",
       " 'in',\n",
       " 'somersetshire',\n",
       " ',',\n",
       " 'was',\n",
       " 'a',\n",
       " 'man',\n",
       " 'who',\n",
       " ',',\n",
       " 'for',\n",
       " 'his',\n",
       " 'own',\n",
       " 'amusement',\n",
       " ',']"
      ]
     },
     "execution_count": 14,
     "metadata": {},
     "output_type": "execute_result"
    }
   ],
   "source": [
    "persuasionwords [:30]"
   ]
  },
  {
   "cell_type": "code",
   "execution_count": 15,
   "metadata": {},
   "outputs": [
    {
     "data": {
      "text/plain": [
       "['[',\n",
       " 'persuasion',\n",
       " 'by',\n",
       " 'jane',\n",
       " 'austen',\n",
       " '1818',\n",
       " ']',\n",
       " 'chapter',\n",
       " '1',\n",
       " 'sir',\n",
       " 'walter',\n",
       " 'elliot',\n",
       " ',',\n",
       " 'of',\n",
       " 'kellynch',\n",
       " 'hall',\n",
       " ',',\n",
       " 'in',\n",
       " 'somersetshire',\n",
       " ',',\n",
       " 'was',\n",
       " 'a',\n",
       " 'man',\n",
       " 'who',\n",
       " ',',\n",
       " 'for',\n",
       " 'his',\n",
       " 'own',\n",
       " 'amusement',\n",
       " ',']"
      ]
     },
     "execution_count": 15,
     "metadata": {},
     "output_type": "execute_result"
    }
   ],
   "source": [
    "persuasionwordslowercase[:30]"
   ]
  },
  {
   "cell_type": "code",
   "execution_count": 16,
   "metadata": {},
   "outputs": [
    {
     "data": {
      "text/plain": [
       "['never',\n",
       " 'took',\n",
       " 'up',\n",
       " 'any',\n",
       " 'book',\n",
       " 'but',\n",
       " 'the',\n",
       " 'baronetage',\n",
       " ';',\n",
       " 'there',\n",
       " 'he',\n",
       " 'found',\n",
       " 'occupation',\n",
       " 'for',\n",
       " 'an',\n",
       " 'idle',\n",
       " 'hour',\n",
       " ',',\n",
       " 'and',\n",
       " 'consolation']"
      ]
     },
     "execution_count": 16,
     "metadata": {},
     "output_type": "execute_result"
    }
   ],
   "source": [
    "persuasionwords [30:50]"
   ]
  },
  {
   "cell_type": "code",
   "execution_count": 17,
   "metadata": {},
   "outputs": [
    {
     "data": {
      "text/plain": [
       "['never',\n",
       " 'took',\n",
       " 'up',\n",
       " 'any',\n",
       " 'book',\n",
       " 'but',\n",
       " 'the',\n",
       " 'baronetage',\n",
       " ';',\n",
       " 'there',\n",
       " 'he',\n",
       " 'found',\n",
       " 'occupation',\n",
       " 'for',\n",
       " 'an',\n",
       " 'idle',\n",
       " 'hour',\n",
       " ',',\n",
       " 'and',\n",
       " 'consolation']"
      ]
     },
     "execution_count": 17,
     "metadata": {},
     "output_type": "execute_result"
    }
   ],
   "source": [
    "persuasionwordslowercase[30:50]"
   ]
  },
  {
   "cell_type": "code",
   "execution_count": 18,
   "metadata": {},
   "outputs": [],
   "source": [
    "ndist = FreqDist(persuasionwords)"
   ]
  },
  {
   "cell_type": "code",
   "execution_count": 19,
   "metadata": {},
   "outputs": [],
   "source": [
    "nitems = ndist.most_common(30)"
   ]
  },
  {
   "cell_type": "code",
   "execution_count": 20,
   "metadata": {},
   "outputs": [
    {
     "name": "stdout",
     "output_type": "stream",
     "text": [
      ", 7024\n",
      "the 3328\n",
      ". 3119\n",
      "and 2786\n",
      "to 2782\n",
      "of 2568\n",
      "a 1592\n",
      "in 1383\n",
      "was 1337\n",
      "; 1319\n",
      "her 1203\n",
      "had 1186\n",
      "she 1146\n",
      "i 1123\n",
      "it 1038\n",
      "not 976\n",
      "he 961\n",
      "be 950\n",
      "'' 912\n",
      "that 882\n",
      "as 809\n",
      "for 707\n",
      "but 664\n",
      "his 659\n",
      "with 654\n",
      "`` 652\n",
      "you 628\n",
      "have 589\n",
      "at 533\n",
      "all 530\n"
     ]
    }
   ],
   "source": [
    "for item in nitems:\n",
    "      print (item[0], item[1])"
   ]
  },
  {
   "cell_type": "code",
   "execution_count": 21,
   "metadata": {},
   "outputs": [],
   "source": [
    "persuasiontextText = nltk.Text(persuasionwords)"
   ]
  },
  {
   "cell_type": "code",
   "execution_count": 23,
   "metadata": {},
   "outputs": [],
   "source": [
    "import matplotlib"
   ]
  },
  {
   "cell_type": "code",
   "execution_count": 24,
   "metadata": {},
   "outputs": [
    {
     "data": {
      "image/png": "[encoded data removed]",
      "text/plain": [
       "<Figure size 432x288 with 1 Axes>"
      ]
     },
     "metadata": {
      "needs_background": "light"
     },
     "output_type": "display_data"
    }
   ],
   "source": [
    "persuasiontextText.dispersion_plot(['persuasion', 'comfortable', 'appy'])"
   ]
  },
  {
   "cell_type": "code",
   "execution_count": 25,
   "metadata": {},
   "outputs": [],
   "source": [
    "import re"
   ]
  },
  {
   "cell_type": "code",
   "execution_count": 26,
   "metadata": {},
   "outputs": [],
   "source": [
    "pattern = re.compile('^[^a-z]+$')"
   ]
  },
  {
   "cell_type": "code",
   "execution_count": 27,
   "metadata": {},
   "outputs": [],
   "source": [
    "nonAlphaMatch = pattern.match('**')"
   ]
  },
  {
   "cell_type": "code",
   "execution_count": 28,
   "metadata": {},
   "outputs": [
    {
     "name": "stdout",
     "output_type": "stream",
     "text": [
      "matched non-alphabetical\n"
     ]
    }
   ],
   "source": [
    "if nonAlphaMatch: print ('matched non-alphabetical')"
   ]
  },
  {
   "cell_type": "code",
   "execution_count": 29,
   "metadata": {},
   "outputs": [],
   "source": [
    "def alpha_filter(w):\n",
    "    pattern = re.compile('^[^a-z]+$')\n",
    "    if (pattern.match(w)):\n",
    "        return True\n",
    "    else:\n",
    "            return False"
   ]
  },
  {
   "cell_type": "code",
   "execution_count": 31,
   "metadata": {},
   "outputs": [],
   "source": [
    "alphaemmawords = [w for w in persuasionwords if not alpha_filter(w)]"
   ]
  },
  {
   "cell_type": "code",
   "execution_count": 32,
   "metadata": {},
   "outputs": [
    {
     "data": {
      "text/plain": [
       "['persuasion',\n",
       " 'by',\n",
       " 'jane',\n",
       " 'austen',\n",
       " 'chapter',\n",
       " 'sir',\n",
       " 'walter',\n",
       " 'elliot',\n",
       " 'of',\n",
       " 'kellynch',\n",
       " 'hall',\n",
       " 'in',\n",
       " 'somersetshire',\n",
       " 'was',\n",
       " 'a',\n",
       " 'man',\n",
       " 'who',\n",
       " 'for',\n",
       " 'his',\n",
       " 'own',\n",
       " 'amusement',\n",
       " 'never',\n",
       " 'took',\n",
       " 'up',\n",
       " 'any',\n",
       " 'book',\n",
       " 'but',\n",
       " 'the',\n",
       " 'baronetage',\n",
       " 'there',\n",
       " 'he',\n",
       " 'found',\n",
       " 'occupation',\n",
       " 'for',\n",
       " 'an',\n",
       " 'idle',\n",
       " 'hour',\n",
       " 'and',\n",
       " 'consolation',\n",
       " 'in',\n",
       " 'a',\n",
       " 'distressed',\n",
       " 'one',\n",
       " 'there',\n",
       " 'his',\n",
       " 'faculties',\n",
       " 'were',\n",
       " 'roused',\n",
       " 'into',\n",
       " 'admiration',\n",
       " 'and',\n",
       " 'respect',\n",
       " 'by',\n",
       " 'contemplating',\n",
       " 'the',\n",
       " 'limited',\n",
       " 'remnant',\n",
       " 'of',\n",
       " 'the',\n",
       " 'earliest',\n",
       " 'patents',\n",
       " 'there',\n",
       " 'any',\n",
       " 'unwelcome',\n",
       " 'sensations',\n",
       " 'arising',\n",
       " 'from',\n",
       " 'domestic',\n",
       " 'affairs',\n",
       " 'changed',\n",
       " 'naturally',\n",
       " 'into',\n",
       " 'pity',\n",
       " 'and',\n",
       " 'contempt',\n",
       " 'as',\n",
       " 'he',\n",
       " 'turned',\n",
       " 'over',\n",
       " 'the',\n",
       " 'almost',\n",
       " 'endless',\n",
       " 'creations',\n",
       " 'of',\n",
       " 'the',\n",
       " 'last',\n",
       " 'century',\n",
       " 'and',\n",
       " 'there',\n",
       " 'if',\n",
       " 'every',\n",
       " 'other',\n",
       " 'leaf',\n",
       " 'were',\n",
       " 'powerless',\n",
       " 'he',\n",
       " 'could',\n",
       " 'read',\n",
       " 'his',\n",
       " 'own',\n",
       " 'history',\n",
       " 'with',\n",
       " 'an',\n",
       " 'interest',\n",
       " 'which',\n",
       " 'never',\n",
       " 'failed',\n",
       " 'this',\n",
       " 'was',\n",
       " 'the']"
      ]
     },
     "execution_count": 32,
     "metadata": {},
     "output_type": "execute_result"
    }
   ],
   "source": [
    "alphaemmawords[:110]"
   ]
  },
  {
   "cell_type": "code",
   "execution_count": 33,
   "metadata": {},
   "outputs": [
    {
     "data": {
      "text/plain": [
       "83822"
      ]
     },
     "execution_count": 33,
     "metadata": {},
     "output_type": "execute_result"
    }
   ],
   "source": [
    "len(alphaemmawords)"
   ]
  },
  {
   "cell_type": "code",
   "execution_count": 36,
   "metadata": {},
   "outputs": [],
   "source": [
    "alphaemmawords1 = [w for w in persuasionwords if w.isalpha()]"
   ]
  },
  {
   "cell_type": "code",
   "execution_count": 37,
   "metadata": {},
   "outputs": [
    {
     "data": {
      "text/plain": [
       "83013"
      ]
     },
     "execution_count": 37,
     "metadata": {},
     "output_type": "execute_result"
    }
   ],
   "source": [
    "len(alphaemmawords1)"
   ]
  },
  {
   "cell_type": "code",
   "execution_count": 38,
   "metadata": {},
   "outputs": [],
   "source": [
    "stopwords = nltk.corpus.stopwords.words('english')"
   ]
  },
  {
   "cell_type": "code",
   "execution_count": 39,
   "metadata": {},
   "outputs": [
    {
     "data": {
      "text/plain": [
       "179"
      ]
     },
     "execution_count": 39,
     "metadata": {},
     "output_type": "execute_result"
    }
   ],
   "source": [
    "len(stopwords)"
   ]
  },
  {
   "cell_type": "code",
   "execution_count": 40,
   "metadata": {},
   "outputs": [],
   "source": [
    "word = 'the'"
   ]
  },
  {
   "cell_type": "code",
   "execution_count": 41,
   "metadata": {},
   "outputs": [
    {
     "name": "stdout",
     "output_type": "stream",
     "text": [
      "the is a stopword\n"
     ]
    }
   ],
   "source": [
    "if word in stopwords:\n",
    "    print (word + ' is a stopword')"
   ]
  },
  {
   "cell_type": "code",
   "execution_count": 42,
   "metadata": {},
   "outputs": [],
   "source": [
    "stoppedemmawords = [w for w in alphaemmawords if w not in stopwords]"
   ]
  },
  {
   "cell_type": "code",
   "execution_count": 43,
   "metadata": {},
   "outputs": [
    {
     "data": {
      "text/plain": [
       "38556"
      ]
     },
     "execution_count": 43,
     "metadata": {},
     "output_type": "execute_result"
    }
   ],
   "source": [
    "len(stoppedemmawords)"
   ]
  },
  {
   "cell_type": "code",
   "execution_count": 44,
   "metadata": {},
   "outputs": [],
   "source": [
    "persuasiondist = FreqDist(stoppedemmawords)"
   ]
  },
  {
   "cell_type": "code",
   "execution_count": 46,
   "metadata": {},
   "outputs": [],
   "source": [
    "persuasionitems = persuasiondist.most_common(30)"
   ]
  },
  {
   "cell_type": "code",
   "execution_count": 47,
   "metadata": {},
   "outputs": [
    {
     "name": "stdout",
     "output_type": "stream",
     "text": [
      "('anne', 496)\n",
      "(\"'s\", 464)\n",
      "('could', 451)\n",
      "('would', 355)\n",
      "('captain', 303)\n",
      "('mrs', 291)\n",
      "('elliot', 287)\n",
      "('mr', 256)\n",
      "('one', 237)\n",
      "('must', 228)\n",
      "('wentworth', 217)\n",
      "('lady', 216)\n",
      "('much', 205)\n",
      "('little', 176)\n",
      "('said', 173)\n",
      "('good', 170)\n",
      "('might', 166)\n",
      "('charles', 165)\n",
      "('never', 154)\n",
      "('time', 151)\n",
      "('sir', 149)\n",
      "('think', 149)\n",
      "('russell', 148)\n",
      "('well', 145)\n",
      "('walter', 139)\n",
      "('mary', 138)\n",
      "('nothing', 138)\n",
      "('man', 132)\n",
      "('musgrove', 129)\n",
      "('great', 129)\n"
     ]
    }
   ],
   "source": [
    "for item in persuasionitems:\n",
    "    print(item) "
   ]
  },
  {
   "cell_type": "code",
   "execution_count": 49,
   "metadata": {},
   "outputs": [],
   "source": [
    "persuasionbigrams = list(nltk.bigrams(persuasionwords))"
   ]
  },
  {
   "cell_type": "code",
   "execution_count": 50,
   "metadata": {},
   "outputs": [
    {
     "data": {
      "text/plain": [
       "[('[', 'persuasion'),\n",
       " ('persuasion', 'by'),\n",
       " ('by', 'jane'),\n",
       " ('jane', 'austen'),\n",
       " ('austen', '1818'),\n",
       " ('1818', ']'),\n",
       " (']', 'chapter'),\n",
       " ('chapter', '1'),\n",
       " ('1', 'sir'),\n",
       " ('sir', 'walter'),\n",
       " ('walter', 'elliot'),\n",
       " ('elliot', ','),\n",
       " (',', 'of'),\n",
       " ('of', 'kellynch'),\n",
       " ('kellynch', 'hall'),\n",
       " ('hall', ','),\n",
       " (',', 'in'),\n",
       " ('in', 'somersetshire'),\n",
       " ('somersetshire', ','),\n",
       " (',', 'was')]"
      ]
     },
     "execution_count": 50,
     "metadata": {},
     "output_type": "execute_result"
    }
   ],
   "source": [
    "persuasionbigrams[:20]"
   ]
  },
  {
   "cell_type": "code",
   "execution_count": 51,
   "metadata": {},
   "outputs": [],
   "source": [
    "from nltk.collocations import *"
   ]
  },
  {
   "cell_type": "code",
   "execution_count": 52,
   "metadata": {},
   "outputs": [],
   "source": [
    "bigram_measures = nltk.collocations.BigramAssocMeasures()"
   ]
  },
  {
   "cell_type": "code",
   "execution_count": 54,
   "metadata": {},
   "outputs": [],
   "source": [
    "finder = BigramCollocationFinder.from_words(persuasionwords)"
   ]
  },
  {
   "cell_type": "code",
   "execution_count": 55,
   "metadata": {},
   "outputs": [],
   "source": [
    "scored = finder.score_ngrams(bigram_measures.raw_freq)"
   ]
  },
  {
   "cell_type": "code",
   "execution_count": 56,
   "metadata": {},
   "outputs": [],
   "source": [
    "first = scored[0]"
   ]
  },
  {
   "cell_type": "code",
   "execution_count": 57,
   "metadata": {},
   "outputs": [
    {
     "data": {
      "text/plain": [
       "tuple"
      ]
     },
     "execution_count": 57,
     "metadata": {},
     "output_type": "execute_result"
    }
   ],
   "source": [
    "type(first)"
   ]
  },
  {
   "cell_type": "code",
   "execution_count": 58,
   "metadata": {},
   "outputs": [
    {
     "data": {
      "text/plain": [
       "((',', 'and'), 0.01293939827202353)"
      ]
     },
     "execution_count": 58,
     "metadata": {},
     "output_type": "execute_result"
    }
   ],
   "source": [
    "first"
   ]
  },
  {
   "cell_type": "code",
   "execution_count": 59,
   "metadata": {},
   "outputs": [
    {
     "name": "stdout",
     "output_type": "stream",
     "text": [
      "((',', 'and'), 0.01293939827202353)\n",
      "((';', 'and'), 0.004830572519863559)\n",
      "(('of', 'the'), 0.004340366429052881)\n",
      "(('to', 'be'), 0.003860372965134092)\n",
      "(('.', \"''\"), 0.0037684593231070897)\n",
      "(('in', 'the'), 0.0032782532322964113)\n",
      "(('.', 'she'), 0.002890173410404624)\n",
      "((',', \"''\"), 0.0026144324843236175)\n",
      "(('had', 'been'), 0.0025940072305398396)\n",
      "((\"''\", '``'), 0.002573581976756061)\n",
      "(('.', 'i'), 0.0024510304540533915)\n",
      "((';', 'but'), 0.0023795420658101678)\n",
      "(('she', 'had'), 0.002318266304458833)\n",
      "(('it', 'was'), 0.0022161400355399418)\n",
      "((',', 'i'), 0.002165076901080496)\n",
      "((',', 'but'), 0.0020425253783778264)\n",
      "(('.', '``'), 0.002022100124594048)\n",
      "(('.', 'he'), 0.002022100124594048)\n",
      "((',', 'that'), 0.00200167487081027)\n",
      "(('captain', 'wentworth'), 0.0019914622439183806)\n",
      "(('he', 'had'), 0.0019506117363508242)\n",
      "((',', 'she'), 0.0018893359749994894)\n",
      "((',', 'as'), 0.0018076349598643764)\n",
      "((',', 'in'), 0.001787209706080598)\n",
      "(('to', 'the'), 0.001787209706080598)\n",
      "(('mr', 'elliot'), 0.0017565718254049306)\n",
      "(('.', 'the'), 0.0016952960640535958)\n",
      "(('she', 'was'), 0.0016748708102698176)\n",
      "((',', 'to'), 0.0016544455564860394)\n",
      "(('could', 'not'), 0.0015114687799995916)\n"
     ]
    }
   ],
   "source": [
    "for bscore in scored[:30]:\n",
    "    print (bscore)"
   ]
  },
  {
   "cell_type": "code",
   "execution_count": 60,
   "metadata": {},
   "outputs": [],
   "source": [
    "finder.apply_word_filter(alpha_filter)"
   ]
  },
  {
   "cell_type": "code",
   "execution_count": 61,
   "metadata": {},
   "outputs": [],
   "source": [
    "scored = finder.score_ngrams(bigram_measures.raw_freq)"
   ]
  },
  {
   "cell_type": "code",
   "execution_count": 62,
   "metadata": {},
   "outputs": [
    {
     "name": "stdout",
     "output_type": "stream",
     "text": [
      "(('of', 'the'), 0.004340366429052881)\n",
      "(('to', 'be'), 0.003860372965134092)\n",
      "(('in', 'the'), 0.0032782532322964113)\n",
      "(('had', 'been'), 0.0025940072305398396)\n",
      "(('she', 'had'), 0.002318266304458833)\n",
      "(('it', 'was'), 0.0022161400355399418)\n",
      "(('captain', 'wentworth'), 0.0019914622439183806)\n",
      "(('he', 'had'), 0.0019506117363508242)\n",
      "(('to', 'the'), 0.001787209706080598)\n",
      "(('mr', 'elliot'), 0.0017565718254049306)\n",
      "(('she', 'was'), 0.0016748708102698176)\n",
      "(('could', 'not'), 0.0015114687799995916)\n",
      "(('lady', 'russell'), 0.0015012561531077024)\n",
      "(('he', 'was'), 0.0013684920035131436)\n",
      "(('sir', 'walter'), 0.001317428869053698)\n",
      "(('of', 'her'), 0.0013072162421618088)\n",
      "(('all', 'the'), 0.0012867909883780306)\n",
      "(('i', 'have'), 0.0012765783614861414)\n",
      "(('i', 'am'), 0.0012561531077023632)\n",
      "(('have', 'been'), 0.0011948773463510284)\n",
      "(('she', 'could'), 0.001164239465675361)\n",
      "(('and', 'the'), 0.0011438142118915828)\n",
      "(('of', 'his'), 0.0011438142118915828)\n",
      "(('they', 'were'), 0.0011131763312159154)\n",
      "(('for', 'the'), 0.0011029637043240262)\n",
      "(('that', 'he'), 0.0009804121816213566)\n",
      "(('did', 'not'), 0.0009701995547294675)\n",
      "(('on', 'the'), 0.0009701995547294675)\n",
      "(('to', 'her'), 0.0009701995547294675)\n",
      "(('to', 'have'), 0.0009599869278375784)\n"
     ]
    }
   ],
   "source": [
    "for bscore in scored[:30]:\n",
    " print(bscore)"
   ]
  },
  {
   "cell_type": "code",
   "execution_count": 63,
   "metadata": {},
   "outputs": [],
   "source": [
    "finder.apply_word_filter(lambda w: w in stopwords)"
   ]
  },
  {
   "cell_type": "code",
   "execution_count": 64,
   "metadata": {},
   "outputs": [],
   "source": [
    "scored = finder.score_ngrams(bigram_measures.raw_freq)"
   ]
  },
  {
   "cell_type": "code",
   "execution_count": 65,
   "metadata": {},
   "outputs": [
    {
     "name": "stdout",
     "output_type": "stream",
     "text": [
      "(('captain', 'wentworth'), 0.0019914622439183806)\n",
      "(('mr', 'elliot'), 0.0017565718254049306)\n",
      "(('lady', 'russell'), 0.0015012561531077024)\n",
      "(('sir', 'walter'), 0.001317428869053698)\n",
      "(('mrs', 'clay'), 0.0006638207479727936)\n",
      "(('mrs', 'musgrove'), 0.0006638207479727936)\n",
      "(('mrs', 'smith'), 0.0006536081210809044)\n",
      "(('captain', 'benwick'), 0.0005616944790539023)\n",
      "(('anne', \"'s\"), 0.0005004187177025675)\n",
      "(('miss', 'elliot'), 0.0004902060908106783)\n",
      "(('mrs', 'croft'), 0.0004187177025674544)\n",
      "(('captain', 'harville'), 0.0003778671949998979)\n",
      "(('great', 'deal'), 0.0003472293143242305)\n",
      "(('charles', 'hayter'), 0.00033701668743234134)\n",
      "(('elliot', \"'s\"), 0.00033701668743234134)\n",
      "(('anne', 'could'), 0.0003268040605404522)\n",
      "(('russell', \"'s\"), 0.00030637880675667394)\n",
      "(('camden', 'place'), 0.00029616617986478485)\n",
      "(('mr', 'shepherd'), 0.00026552829918911745)\n",
      "(('wentworth', \"'s\"), 0.00026552829918911745)\n"
     ]
    }
   ],
   "source": [
    "for bscore in scored[:20]:\n",
    "    print (bscore)\n"
   ]
  },
  {
   "cell_type": "code",
   "execution_count": 66,
   "metadata": {},
   "outputs": [],
   "source": [
    "finder2 = BigramCollocationFinder.from_words(persuasionwords)"
   ]
  },
  {
   "cell_type": "code",
   "execution_count": 67,
   "metadata": {},
   "outputs": [],
   "source": [
    "finder2.apply_freq_filter(2)"
   ]
  },
  {
   "cell_type": "code",
   "execution_count": 68,
   "metadata": {},
   "outputs": [],
   "source": [
    "scored = finder2.score_ngrams(bigram_measures.raw_freq)"
   ]
  },
  {
   "cell_type": "code",
   "execution_count": 69,
   "metadata": {},
   "outputs": [
    {
     "name": "stdout",
     "output_type": "stream",
     "text": [
      "((',', 'and'), 0.01293939827202353)\n",
      "((';', 'and'), 0.004830572519863559)\n",
      "(('of', 'the'), 0.004340366429052881)\n",
      "(('to', 'be'), 0.003860372965134092)\n",
      "(('.', \"''\"), 0.0037684593231070897)\n",
      "(('in', 'the'), 0.0032782532322964113)\n",
      "(('.', 'she'), 0.002890173410404624)\n",
      "((',', \"''\"), 0.0026144324843236175)\n",
      "(('had', 'been'), 0.0025940072305398396)\n",
      "((\"''\", '``'), 0.002573581976756061)\n",
      "(('.', 'i'), 0.0024510304540533915)\n",
      "((';', 'but'), 0.0023795420658101678)\n",
      "(('she', 'had'), 0.002318266304458833)\n",
      "(('it', 'was'), 0.0022161400355399418)\n",
      "((',', 'i'), 0.002165076901080496)\n",
      "((',', 'but'), 0.0020425253783778264)\n",
      "(('.', '``'), 0.002022100124594048)\n",
      "(('.', 'he'), 0.002022100124594048)\n",
      "((',', 'that'), 0.00200167487081027)\n",
      "(('captain', 'wentworth'), 0.0019914622439183806)\n"
     ]
    }
   ],
   "source": [
    "for bscore in scored[:20]:\n",
    " print (bscore)\n"
   ]
  },
  {
   "cell_type": "code",
   "execution_count": 70,
   "metadata": {},
   "outputs": [],
   "source": [
    "finder2.apply_ngram_filter(lambda w1, w2: len(w1) < 2)"
   ]
  },
  {
   "cell_type": "code",
   "execution_count": 71,
   "metadata": {},
   "outputs": [],
   "source": [
    "scored = finder2.score_ngrams(bigram_measures.raw_freq)"
   ]
  },
  {
   "cell_type": "code",
   "execution_count": 72,
   "metadata": {},
   "outputs": [
    {
     "name": "stdout",
     "output_type": "stream",
     "text": [
      "(('of', 'the'), 0.004340366429052881)\n",
      "(('to', 'be'), 0.003860372965134092)\n",
      "(('in', 'the'), 0.0032782532322964113)\n",
      "(('had', 'been'), 0.0025940072305398396)\n",
      "((\"''\", '``'), 0.002573581976756061)\n",
      "(('she', 'had'), 0.002318266304458833)\n",
      "(('it', 'was'), 0.0022161400355399418)\n",
      "(('captain', 'wentworth'), 0.0019914622439183806)\n",
      "(('he', 'had'), 0.0019506117363508242)\n",
      "(('to', 'the'), 0.001787209706080598)\n",
      "(('mr', 'elliot'), 0.0017565718254049306)\n",
      "(('she', 'was'), 0.0016748708102698176)\n",
      "(('could', 'not'), 0.0015114687799995916)\n",
      "(('lady', 'russell'), 0.0015012561531077024)\n",
      "(('he', 'was'), 0.0013684920035131436)\n",
      "(('sir', 'walter'), 0.001317428869053698)\n",
      "(('of', 'her'), 0.0013072162421618088)\n",
      "(('all', 'the'), 0.0012867909883780306)\n",
      "(('have', 'been'), 0.0011948773463510284)\n",
      "(('she', 'could'), 0.001164239465675361)\n"
     ]
    }
   ],
   "source": [
    "for bscore in scored[:20]:\n",
    " print (bscore)"
   ]
  },
  {
   "cell_type": "code",
   "execution_count": 74,
   "metadata": {},
   "outputs": [],
   "source": [
    "finder3 = BigramCollocationFinder.from_words(persuasionwords)"
   ]
  },
  {
   "cell_type": "code",
   "execution_count": 75,
   "metadata": {},
   "outputs": [],
   "source": [
    "scored = finder3.score_ngrams(bigram_measures.pmi)"
   ]
  },
  {
   "cell_type": "code",
   "execution_count": 76,
   "metadata": {},
   "outputs": [
    {
     "name": "stdout",
     "output_type": "stream",
     "text": [
      "(('1818', ']'), 16.579286470468606)\n",
      "(('a.', 'e.'), 16.579286470468606)\n",
      "(('accustomary', 'intervention'), 16.579286470468606)\n",
      "(('anyone', 'intending'), 16.579286470468606)\n",
      "(('apples', 'stolen'), 16.579286470468606)\n",
      "(('attribute', 'guile'), 16.579286470468606)\n",
      "(('au', 'fait'), 16.579286470468606)\n",
      "(('austen', '1818'), 16.579286470468606)\n",
      "(('authentic', 'oral'), 16.579286470468606)\n",
      "(('bathing', 'machines'), 16.579286470468606)\n",
      "(('breakfast-room', 'chimney'), 16.579286470468606)\n",
      "(('brown', 'velvet'), 16.579286470468606)\n",
      "(('bustling', 'housekeepers'), 16.579286470468606)\n",
      "(('captiously', 'irritable'), 16.579286470468606)\n",
      "(('chimney', 'smokes'), 16.579286470468606)\n",
      "(('choicest', 'gift'), 16.579286470468606)\n",
      "(('clumsy', 'wrist'), 16.579286470468606)\n",
      "(('coat', 'pockets'), 16.579286470468606)\n",
      "(('constantly', 'exceeding'), 16.579286470468606)\n",
      "(('contracted', 'debts'), 16.579286470468606)\n",
      "(('counted', 'eighty-seven'), 16.579286470468606)\n",
      "(('dashing', 'felow'), 16.579286470468606)\n",
      "(('deplorable-looking', 'personage'), 16.579286470468606)\n",
      "(('dry', 'sunny'), 16.579286470468606)\n",
      "(('duodecimo', 'pages'), 16.579286470468606)\n",
      "(('fainter', 'self-threatenings'), 16.579286470468606)\n",
      "(('famous', 'set-to'), 16.579286470468606)\n",
      "(('far-famed', 'isle'), 16.579286470468606)\n",
      "(('five-and-thirty', 'frights'), 16.579286470468606)\n",
      "(('german', 'artist'), 16.579286470468606)\n"
     ]
    }
   ],
   "source": [
    "for bscore in scored[:30]:\n",
    " print (bscore)"
   ]
  },
  {
   "cell_type": "code",
   "execution_count": null,
   "metadata": {},
   "outputs": [],
   "source": []
  }
 ],
 "metadata": {
  "kernelspec": {
   "display_name": "Python 3",
   "language": "python",
   "name": "python3"
  },
  "language_info": {
   "codemirror_mode": {
    "name": "ipython",
    "version": 3
   },
   "file_extension": ".py",
   "mimetype": "text/x-python",
   "name": "python",
   "nbconvert_exporter": "python",
   "pygments_lexer": "ipython3",
   "version": "3.7.0"
  }
 },
 "nbformat": 4,
 "nbformat_minor": 2
}
