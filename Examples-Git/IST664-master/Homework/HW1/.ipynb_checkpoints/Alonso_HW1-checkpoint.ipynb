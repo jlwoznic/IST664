{
 "cells": [
  {
   "cell_type": "code",
   "execution_count": 1,
   "metadata": {},
   "outputs": [],
   "source": [
    "import nltk\n",
    "from nltk.corpus import stopwords\n",
    "import re "
   ]
  },
  {
   "cell_type": "code",
   "execution_count": 2,
   "metadata": {},
   "outputs": [],
   "source": [
    "text1 = open(\"James Joyce The Dead.txt\", \"r\", encoding=\"latin-1\")\n",
    "text2 = open(\"James Joyce Finnegans Wake.txt\", \"r\", encoding=\"latin-1\")"
   ]
  },
  {
   "cell_type": "code",
   "execution_count": 3,
   "metadata": {},
   "outputs": [],
   "source": [
    "the_dead = text1.read()\n",
    "finnegans_wake = text2.read()"
   ]
  },
  {
   "cell_type": "code",
   "execution_count": 4,
   "metadata": {},
   "outputs": [],
   "source": [
    "# lowercase\n",
    "# stop words\n",
    "# stemmer (both lancaster and porter)"
   ]
  },
  {
   "cell_type": "code",
   "execution_count": 5,
   "metadata": {},
   "outputs": [
    {
     "name": "stdout",
     "output_type": "stream",
     "text": [
      "The Dead: 17983 tokens\n",
      "Finnegans Wake: 258500 tokens\n"
     ]
    }
   ],
   "source": [
    "the_dead_tokens = nltk.word_tokenize(the_dead)\n",
    "finnegans_wake_tokens = nltk.word_tokenize(finnegans_wake)\n",
    "\n",
    "# Print token length\n",
    "print('The Dead: {} tokens'.format(len(the_dead_tokens)))\n",
    "print('Finnegans Wake: {} tokens'.format(len(finnegans_wake_tokens)))"
   ]
  },
  {
   "cell_type": "code",
   "execution_count": 6,
   "metadata": {},
   "outputs": [],
   "source": [
    "def lowercase(text):\n",
    "    token_list = []\n",
    "    for word in text:\n",
    "        word_lower = word.lower()\n",
    "        token_list.append(word_lower)\n",
    "    return(token_list)"
   ]
  },
  {
   "cell_type": "code",
   "execution_count": 7,
   "metadata": {},
   "outputs": [],
   "source": [
    "# lowercase tokens in each text\n",
    "td_lower = lowercase(the_dead_tokens)\n",
    "fw_lower = lowercase(finnegans_wake_tokens)"
   ]
  },
  {
   "cell_type": "code",
   "execution_count": 8,
   "metadata": {},
   "outputs": [],
   "source": [
    "# remove stop words\n",
    "stop_words = stopwords.words('english')\n",
    "td_lower_stop = [word for word in td_lower if word not in stop_words]\n",
    "fw_lower_stop = [word for word in fw_lower if word not in stop_words]"
   ]
  },
  {
   "cell_type": "code",
   "execution_count": 9,
   "metadata": {},
   "outputs": [
    {
     "name": "stdout",
     "output_type": "stream",
     "text": [
      "The Dead: 10548 tokens\n",
      "Finnegans Wake: 160874 tokens\n"
     ]
    }
   ],
   "source": [
    "print('The Dead: {} tokens'.format(len(td_lower_stop)))\n",
    "print('Finnegans Wake: {} tokens'.format(len(fw_lower_stop)))"
   ]
  },
  {
   "cell_type": "code",
   "execution_count": 10,
   "metadata": {},
   "outputs": [],
   "source": [
    "# stem the words \n",
    "porter = nltk.PorterStemmer()"
   ]
  },
  {
   "cell_type": "code",
   "execution_count": 11,
   "metadata": {},
   "outputs": [],
   "source": [
    "td_stemmed = []\n",
    "for word in td_lower_stop:\n",
    "    stemmed = porter.stem(word)\n",
    "    td_stemmed.append(stemmed)\n",
    "\n",
    "fw_stemmed = []\n",
    "for word in fw_lower_stop:\n",
    "    stemmed = porter.stem(word)\n",
    "    fw_stemmed.append(stemmed)\n"
   ]
  },
  {
   "cell_type": "code",
   "execution_count": 24,
   "metadata": {},
   "outputs": [
    {
     "data": {
      "text/plain": [
       "FreqDist({'said': 187, 'gabriel': 158, 'aunt': 109, 'mr': 79, 'kate': 75, 'miss': 67, 'brown': 59, 'julia': 56, 'mari': 54, 'jane': 53, ...})"
      ]
     },
     "execution_count": 24,
     "metadata": {},
     "output_type": "execute_result"
    }
   ],
   "source": [
    "# Remove special characters\n",
    "td_clean = [re.sub(r'[^a-zA-Z0-9]+', '', word) for word in td_stemmed]\n",
    "td_clean = list(filter(None, td_clean))\n",
    "nltk.FreqDist(td_clean)"
   ]
  },
  {
   "cell_type": "code",
   "execution_count": 25,
   "metadata": {},
   "outputs": [
    {
     "data": {
      "text/plain": [
       "FreqDist({'one': 686, 'like': 589, 'old': 469, 'would': 355, 'time': 342, 'say': 311, 'us': 306, 'two': 287, 'well': 280, 'come': 271, ...})"
      ]
     },
     "execution_count": 25,
     "metadata": {},
     "output_type": "execute_result"
    }
   ],
   "source": [
    "fw_clean = [re.sub(r'[^a-zA-Z0-9]+', '', word) for word in fw_stemmed]\n",
    "fw_clean = list(filter(None, fw_clean))\n",
    "nltk.FreqDist(fw_clean)"
   ]
  },
  {
   "cell_type": "markdown",
   "metadata": {},
   "source": [
    "Resources\n",
    "* https://ebooks.adelaide.edu.au/j/joyce/james/j8d/chapter15.html\n",
    "* https://ebooks.adelaide.edu.au/j/joyce/james/j8f/complete.html"
   ]
  }
 ],
 "metadata": {
  "kernelspec": {
   "display_name": "Python 3",
   "language": "python",
   "name": "python3"
  },
  "language_info": {
   "codemirror_mode": {
    "name": "ipython",
    "version": 3
   },
   "file_extension": ".py",
   "mimetype": "text/x-python",
   "name": "python",
   "nbconvert_exporter": "python",
   "pygments_lexer": "ipython3",
   "version": "3.7.4"
  }
 },
 "nbformat": 4,
 "nbformat_minor": 2
}
