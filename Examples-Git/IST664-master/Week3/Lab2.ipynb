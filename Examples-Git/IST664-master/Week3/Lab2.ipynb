{
 "cells": [
  {
   "cell_type": "code",
   "execution_count": 1,
   "metadata": {},
   "outputs": [],
   "source": [
    "import nltk"
   ]
  },
  {
   "cell_type": "code",
   "execution_count": 2,
   "metadata": {},
   "outputs": [],
   "source": [
    "sentence = \"Mr. Black and Mrs. Brown attended the lecture by Dr. Gray, but Gov. White wasn't there.\""
   ]
  },
  {
   "cell_type": "code",
   "execution_count": 34,
   "metadata": {},
   "outputs": [
    {
     "data": {
      "text/plain": [
       "['Mr.', 'Mrs.', 'Dr.', 'Gov.']"
      ]
     },
     "execution_count": 34,
     "metadata": {},
     "output_type": "execute_result"
    }
   ],
   "source": [
    "# 1. Design and add a line to the pattern of this tokenizer so that titles like “Mr.” are tokenized as having the dot inside the token.  \n",
    "# Test and add some other titles to your list of titles.\n",
    "title_pattern = r\"[A-Z]+\\.*\\w+\\.\"\n",
    "regexp_token = nltk.tokenize.RegexpTokenizer(title_pattern)\n",
    "regexp_token.tokenize(sentence)"
   ]
  },
  {
   "cell_type": "code",
   "execution_count": 35,
   "metadata": {},
   "outputs": [
    {
     "data": {
      "text/plain": [
       "['Mr.', 'Mrs.', 'Dr.', 'Gov.', 'Mme.', 'Prof.', 'Lt.', 'Cnel.']"
      ]
     },
     "execution_count": 35,
     "metadata": {},
     "output_type": "execute_result"
    }
   ],
   "source": [
    "sentence_plus = \"Mr. Black and Mrs. Brown attended the lecture by Dr. Gray, but Gov. White wasn't there. Mme. Gauthier, however, was in attendance, \\\n",
    "                    accompanied by the Prof. Farnsworth and Lt. Cnel. Patterson, who didn't rejoice in the occasion.\"\n",
    "\n",
    "regexp_token.tokenize(sentence_plus)"
   ]
  },
  {
   "cell_type": "code",
   "execution_count": 52,
   "metadata": {},
   "outputs": [
    {
     "data": {
      "text/plain": [
       "[\"wasn't\"]"
      ]
     },
     "execution_count": 52,
     "metadata": {},
     "output_type": "execute_result"
    }
   ],
   "source": [
    "# 2. Design and add the pattern of this tokenizer so that words with a single apostrophe, such as “wasn’t” are taken as a single token.\n",
    "contr_pattern = r\"[A-Za-z]*\\'[t]\"\n",
    "regexp_token2 = nltk.tokenize.RegexpTokenizer(contr_pattern)\n",
    "regexp_token2.tokenize(sentence)"
   ]
  },
  {
   "cell_type": "code",
   "execution_count": 53,
   "metadata": {},
   "outputs": [
    {
     "data": {
      "text/plain": [
       "[\"wasn't\", \"didn't\"]"
      ]
     },
     "execution_count": 53,
     "metadata": {},
     "output_type": "execute_result"
    }
   ],
   "source": [
    "regexp_token2.tokenize(sentence_plus)"
   ]
  }
 ],
 "metadata": {
  "kernelspec": {
   "display_name": "Python 3",
   "language": "python",
   "name": "python3"
  },
  "language_info": {
   "codemirror_mode": {
    "name": "ipython",
    "version": 3
   },
   "file_extension": ".py",
   "mimetype": "text/x-python",
   "name": "python",
   "nbconvert_exporter": "python",
   "pygments_lexer": "ipython3",
   "version": "3.6.5"
  }
 },
 "nbformat": 4,
 "nbformat_minor": 2
}
