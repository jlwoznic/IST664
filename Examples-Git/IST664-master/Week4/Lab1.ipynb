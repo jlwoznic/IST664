{
 "cells": [
  {
   "cell_type": "code",
   "execution_count": 2,
   "metadata": {},
   "outputs": [],
   "source": [
    "import nltk\n",
    "\n",
    "# POS Tagged Corpora:  Brown and Penn Treebank\n",
    "# the Brown corpus has its own set of POS tags\n",
    "from nltk.corpus import gutenberg\n"
   ]
  },
  {
   "cell_type": "code",
   "execution_count": 12,
   "metadata": {},
   "outputs": [],
   "source": [
    "# Import G.K. Chesterton's The Man Who Was Thursday\n",
    "texts = gutenberg.fileids()[10]\n",
    "thursday = nltk.corpus.gutenberg.raw(texts)"
   ]
  },
  {
   "cell_type": "code",
   "execution_count": 23,
   "metadata": {},
   "outputs": [
    {
     "data": {
      "text/plain": [
       "['[The Man Who Was Thursday by G. K. Chesterton 1908]\\n\\nTo Edmund Clerihew Bentley\\n\\nA cloud was on the mind of men, and wailing went the weather,\\nYea, a sick cloud upon the soul when we were boys together.',\n",
       " 'Science announced nonentity and art admired decay;\\nThe world was old and ended: but you and I were gay;\\nRound us in antic order their crippled vices came--\\nLust that had lost its laughter, fear that had lost its shame.',\n",
       " 'Like the white lock of Whistler, that lit our aimless gloom,\\nMen showed their own white feather as proudly as a plume.',\n",
       " 'Life was a fly that faded, and death a drone that stung;\\nThe world was very old indeed when you and I were young.',\n",
       " 'They twisted even decent sin to shapes not to be named:\\nMen were ashamed of honour; but we were not ashamed.']"
      ]
     },
     "execution_count": 23,
     "metadata": {},
     "output_type": "execute_result"
    }
   ],
   "source": [
    "# Split the text into sentences\n",
    "thursday_sents = nltk.sent_tokenize(thursday)\n",
    "thursday_sents[:5]"
   ]
  },
  {
   "cell_type": "code",
   "execution_count": 53,
   "metadata": {},
   "outputs": [],
   "source": [
    "thursday_tokens = []\n",
    "for i in range(len(thursday_sents)):\n",
    "    lowercased = thursday_sents[i].lower()\n",
    "    words = nltk.word_tokenize(lowercased)\n",
    "    thursday_tokens.append(words)"
   ]
  },
  {
   "cell_type": "code",
   "execution_count": 54,
   "metadata": {},
   "outputs": [],
   "source": [
    "thursday_pos = []\n",
    "for i in range(len(thursday_tokens)):\n",
    "    pos = nltk.pos_tag(thursday_tokens[i])\n",
    "    thursday_pos.append(pos)"
   ]
  },
  {
   "cell_type": "code",
   "execution_count": 55,
   "metadata": {},
   "outputs": [
    {
     "data": {
      "text/plain": [
       "('the', 'DT')"
      ]
     },
     "execution_count": 55,
     "metadata": {},
     "output_type": "execute_result"
    }
   ],
   "source": [
    "thursday_pos[0][1]"
   ]
  },
  {
   "cell_type": "code",
   "execution_count": 56,
   "metadata": {},
   "outputs": [],
   "source": [
    "flat_list = []\n",
    "for sublist in thursday_pos:\n",
    "    for item in sublist:\n",
    "        flat_list.append(item)"
   ]
  },
  {
   "cell_type": "code",
   "execution_count": 57,
   "metadata": {},
   "outputs": [],
   "source": [
    "list_pairs = nltk.FreqDist(flat_list)"
   ]
  },
  {
   "cell_type": "code",
   "execution_count": 58,
   "metadata": {},
   "outputs": [
    {
     "data": {
      "text/plain": [
       "[((',', ','), 4015),\n",
       " (('the', 'DT'), 3631),\n",
       " (('.', '.'), 3018),\n",
       " (('a', 'DT'), 1740),\n",
       " (('of', 'IN'), 1725),\n",
       " (('and', 'CC'), 1654),\n",
       " ((\"''\", \"''\"), 1436),\n",
       " (('``', '``'), 1224),\n",
       " (('he', 'PRP'), 1126),\n",
       " (('to', 'TO'), 1055),\n",
       " (('in', 'IN'), 921),\n",
       " (('his', 'PRP$'), 810),\n",
       " (('was', 'VBD'), 731),\n",
       " (('you', 'PRP'), 721),\n",
       " (('it', 'PRP'), 716),\n",
       " (('that', 'IN'), 569),\n",
       " (('with', 'IN'), 561),\n",
       " (('said', 'VBD'), 507),\n",
       " (('i', 'NN'), 494),\n",
       " (('is', 'VBZ'), 476),\n",
       " (('but', 'CC'), 443),\n",
       " (('as', 'IN'), 439),\n",
       " (('had', 'VBD'), 424),\n",
       " (('syme', 'NN'), 424),\n",
       " (('not', 'RB'), 393),\n",
       " (('at', 'IN'), 345),\n",
       " ((';', ':'), 335),\n",
       " (('?', '.'), 327),\n",
       " (('they', 'PRP'), 318),\n",
       " (('for', 'IN'), 317),\n",
       " (('on', 'IN'), 304),\n",
       " (('this', 'DT'), 287),\n",
       " (('him', 'PRP'), 279),\n",
       " (('man', 'NN'), 274),\n",
       " (('be', 'VB'), 255),\n",
       " (('are', 'VBP'), 251),\n",
       " (('we', 'PRP'), 250),\n",
       " (('like', 'IN'), 249),\n",
       " (('!', '.'), 242),\n",
       " (('an', 'DT'), 240),\n",
       " (('were', 'VBD'), 223),\n",
       " (('--', ':'), 216),\n",
       " (('if', 'IN'), 211),\n",
       " (('which', 'WDT'), 199),\n",
       " (('that', 'DT'), 192),\n",
       " (('all', 'DT'), 191),\n",
       " (('one', 'CD'), 186),\n",
       " (('by', 'IN'), 179),\n",
       " (('who', 'WP'), 177),\n",
       " (('me', 'PRP'), 171)]"
      ]
     },
     "execution_count": 58,
     "metadata": {},
     "output_type": "execute_result"
    }
   ],
   "source": [
    "list_pairs.most_common(50)"
   ]
  },
  {
   "cell_type": "code",
   "execution_count": 67,
   "metadata": {},
   "outputs": [],
   "source": [
    "pos_tag_list = []\n",
    "for i in range(len(flat_list)):\n",
    "    tag = flat_list[i][1]\n",
    "    pos_tag_list.append(tag)"
   ]
  },
  {
   "cell_type": "code",
   "execution_count": 70,
   "metadata": {},
   "outputs": [
    {
     "data": {
      "text/plain": [
       "[('NN', 10941),\n",
       " ('IN', 7378),\n",
       " ('DT', 6832),\n",
       " ('JJ', 4748),\n",
       " ('VBD', 4087),\n",
       " (',', 4015),\n",
       " ('PRP', 3963),\n",
       " ('RB', 3735),\n",
       " ('.', 3587),\n",
       " ('CC', 2286),\n",
       " ('NNS', 2058),\n",
       " ('VB', 2043),\n",
       " (\"''\", 1506),\n",
       " ('VBN', 1307),\n",
       " ('PRP$', 1296),\n",
       " ('VBP', 1285),\n",
       " ('``', 1224),\n",
       " ('TO', 1055),\n",
       " ('VBG', 1001),\n",
       " ('VBZ', 933),\n",
       " ('MD', 877),\n",
       " (':', 568),\n",
       " ('RP', 395),\n",
       " ('CD', 377),\n",
       " ('WP', 370),\n",
       " ('WDT', 316),\n",
       " ('WRB', 283),\n",
       " ('EX', 166),\n",
       " ('POS', 163),\n",
       " ('JJR', 120),\n",
       " ('PDT', 119),\n",
       " ('RBR', 97),\n",
       " ('JJS', 81),\n",
       " ('UH', 40),\n",
       " ('(', 40),\n",
       " (')', 40),\n",
       " ('RBS', 29),\n",
       " ('FW', 22),\n",
       " ('WP$', 14),\n",
       " ('NNP', 11)]"
      ]
     },
     "execution_count": 70,
     "metadata": {},
     "output_type": "execute_result"
    }
   ],
   "source": [
    "tags_freq = nltk.FreqDist(pos_tag_list)\n",
    "tags_freq.most_common(50)"
   ]
  },
  {
   "cell_type": "code",
   "execution_count": null,
   "metadata": {},
   "outputs": [],
   "source": []
  }
 ],
 "metadata": {
  "kernelspec": {
   "display_name": "Python 3",
   "language": "python",
   "name": "python3"
  },
  "language_info": {
   "codemirror_mode": {
    "name": "ipython",
    "version": 3
   },
   "file_extension": ".py",
   "mimetype": "text/x-python",
   "name": "python",
   "nbconvert_exporter": "python",
   "pygments_lexer": "ipython3",
   "version": "3.7.4"
  }
 },
 "nbformat": 4,
 "nbformat_minor": 2
}
