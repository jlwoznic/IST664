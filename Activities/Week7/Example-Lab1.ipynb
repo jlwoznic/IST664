{
 "cells": [
  {
   "cell_type": "markdown",
   "metadata": {},
   "source": [
    "Pick a word and show the following things from the NLTK functions:  \n",
    "1. Show all the synsets of that word, their lemma names, definitions, and examples.  \n",
    "2. Pick one synset of the word and show all of its direct hypernyms.  \n",
    "3. Show the hypernym paths between the top of the hierarchy and that word sense.  \n",
    "\n",
    "Use the online WordNet search:  \n",
    "4. See what other relations are defined for your word and show one or more of them using NLTK functions.  \n",
    "\n",
    "Put the results of these steps in the answer to this question along with any other interesting examples (as long as they are not too lengthy!). Please put your word in the title of your answer."
   ]
  },
  {
   "cell_type": "code",
   "execution_count": 2,
   "metadata": {},
   "outputs": [],
   "source": [
    "from nltk.corpus import wordnet as wn"
   ]
  },
  {
   "cell_type": "code",
   "execution_count": 26,
   "metadata": {},
   "outputs": [],
   "source": [
    "# Word 'immortal'\n",
    "immortal = wn.synsets('immortal')"
   ]
  },
  {
   "cell_type": "code",
   "execution_count": 27,
   "metadata": {},
   "outputs": [
    {
     "name": "stdout",
     "output_type": "stream",
     "text": [
      "Synset('immortal.n.01') :  ['immortal']\n",
      "Synset('deity.n.01') :  ['deity', 'divinity', 'god', 'immortal']\n",
      "Synset('immortal.a.01') :  ['immortal']\n"
     ]
    }
   ],
   "source": [
    "# Print lemma names\n",
    "for i in range(len(immortal)): \n",
    "    print(immortal[i], ': ', immortal[i].lemma_names())"
   ]
  },
  {
   "cell_type": "code",
   "execution_count": 29,
   "metadata": {},
   "outputs": [
    {
     "name": "stdout",
     "output_type": "stream",
     "text": [
      "Synset('immortal.n.01') :  a person (such as an author) of enduring fame\n",
      "Synset('deity.n.01') :  any supernatural being worshipped as controlling some part of the world or some aspect of life or who is the personification of a force\n",
      "Synset('immortal.a.01') :  not subject to death\n"
     ]
    }
   ],
   "source": [
    "# Print definitions\n",
    "for i in range(len(immortal)): \n",
    "    print(immortal[i], ': ', immortal[i].definition())"
   ]
  },
  {
   "cell_type": "code",
   "execution_count": 32,
   "metadata": {},
   "outputs": [
    {
     "name": "stdout",
     "output_type": "stream",
     "text": [
      "Synset('immortal.n.01') :  ['Shakespeare is one of the immortals']\n",
      "Synset('deity.n.01') :  []\n",
      "Synset('immortal.a.01') :  []\n"
     ]
    }
   ],
   "source": [
    "# Print examples\n",
    "for i in range(len(immortal)): \n",
    "    print(immortal[i], ': ', immortal[i].examples())"
   ]
  },
  {
   "cell_type": "markdown",
   "metadata": {},
   "source": [
    "We'll use the second sysnet of the word _immortal_ and explore its hypernyms"
   ]
  },
  {
   "cell_type": "code",
   "execution_count": 40,
   "metadata": {},
   "outputs": [
    {
     "data": {
      "text/plain": [
       "[Synset('spiritual_being.n.01')]"
      ]
     },
     "execution_count": 40,
     "metadata": {},
     "output_type": "execute_result"
    }
   ],
   "source": [
    "immortal[1].hypernyms()"
   ]
  },
  {
   "cell_type": "code",
   "execution_count": 43,
   "metadata": {},
   "outputs": [
    {
     "data": {
      "text/plain": [
       "[[Synset('entity.n.01'),\n",
       "  Synset('abstraction.n.06'),\n",
       "  Synset('psychological_feature.n.01'),\n",
       "  Synset('cognition.n.01'),\n",
       "  Synset('content.n.05'),\n",
       "  Synset('belief.n.01'),\n",
       "  Synset('spiritual_being.n.01'),\n",
       "  Synset('deity.n.01')]]"
      ]
     },
     "execution_count": 43,
     "metadata": {},
     "output_type": "execute_result"
    }
   ],
   "source": [
    "immortal[1].hypernym_paths()"
   ]
  },
  {
   "cell_type": "markdown",
   "metadata": {},
   "source": [
    "Use SentiWordNet to get the senti_synset of the sense of the word that you picked in the previous question. Show the positive, negative, and objective sentiment scores for that word, if any."
   ]
  },
  {
   "cell_type": "code",
   "execution_count": 44,
   "metadata": {},
   "outputs": [],
   "source": [
    "from nltk.corpus import sentiwordnet as swn"
   ]
  },
  {
   "cell_type": "code",
   "execution_count": 54,
   "metadata": {},
   "outputs": [
    {
     "name": "stdout",
     "output_type": "stream",
     "text": [
      "<deity.n.01: PosScore=0.0 NegScore=0.0>\n"
     ]
    }
   ],
   "source": [
    "deity1 = swn.senti_synset('deity.n.01')\n",
    "print(deity1)"
   ]
  },
  {
   "cell_type": "code",
   "execution_count": null,
   "metadata": {},
   "outputs": [],
   "source": []
  }
 ],
 "metadata": {
  "kernelspec": {
   "display_name": "Python 3",
   "language": "python",
   "name": "python3"
  },
  "language_info": {
   "codemirror_mode": {
    "name": "ipython",
    "version": 3
   },
   "file_extension": ".py",
   "mimetype": "text/x-python",
   "name": "python",
   "nbconvert_exporter": "python",
   "pygments_lexer": "ipython3",
   "version": "3.7.4"
  }
 },
 "nbformat": 4,
 "nbformat_minor": 2
}
